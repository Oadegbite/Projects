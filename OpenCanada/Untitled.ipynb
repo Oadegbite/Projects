{
 "cells": [
  {
   "cell_type": "code",
   "execution_count": 18,
   "metadata": {},
   "outputs": [],
   "source": [
    "\"\"\"\n",
    " Simple example of a Python script used to query an API.\n",
    " \n",
    " @note:    This is a simple example without any error handling.\n",
    " @license: http://data.gc.ca/eng/open-government-licence-canada\n",
    "\"\"\"\n",
    "import json\n",
    "import requests\n",
    " \n",
    "url      = 'https://open.canada.ca/data/en/api/3/action/package_search?q='\n",
    "search   = \"spending\"\n",
    "options  = { \"Accept\":\"application/json\", \"Accept-Language\":\"en\" }\n",
    "response = requests.get(url+search, headers=options)\n",
    "jdata    = response.json()"
   ]
  },
  {
   "cell_type": "code",
   "execution_count": 22,
   "metadata": {},
   "outputs": [
    {
     "name": "stdout",
     "output_type": "stream",
     "text": [
      "435\n"
     ]
    }
   ],
   "source": [
    "print(jdata[\"result\"][\"count\"])"
   ]
  },
  {
   "cell_type": "code",
   "execution_count": 28,
   "metadata": {},
   "outputs": [
    {
     "name": "stdout",
     "output_type": "stream",
     "text": [
      "{'notes_translated': {'fr': '<p>Enquête sur les dépenses des ménages (EDM), dépenses moyennes des ménages, capitales des trois territoires.</p>', 'en': '<p>Survey of Household Spending (SHS), average household spending, three territorial capitals.</p>'}, 'imso_approval': 'true', 'maintainer': None, 'association_type': [], 'org_section': {}, 'jurisdiction': 'federal', 'private': False, 'maintainer_email': 'statcan.infostats-infostats.statcan@canada.ca', 'num_tags': 0, 'contributor': {}, 'frequency': 'P1Y', 'keywords': {'fr': ['dépenses des ménages', 'dépenses et épargne des ménages', 'revenu pensions dépenses et richesse', 'tableau'], 'en': ['household spending', 'household spending and savings', 'income pensions spending and wealth', 'table']}, 'data_series_issue_identification': {'fr': 'Tableau 11100233; Anciennement Table CANSIM 203-0032', 'en': 'Table 11100233; Formerly CANSIM Table 203-0032'}, 'ready_to_publish': 'true', 'id': '6f941f00-5073-4638-9c98-8f292a89aedd', 'metadata_created': '2018-06-27T15:51:34.957802', 'subject': ['economics_and_industry'], 'spatial_representation_type': [], 'metadata_modified': '2018-12-14T18:01:30.411851', 'author': None, 'author_email': 'statcan.infostats-infostats.statcan@canada.ca', 'geographic_region': [], 'position_name': {}, 'state': 'active', 'version': None, 'relationships_as_object': [], 'time_period_coverage_start': '2015-01-01 00:00:00', 'title_translated': {'fr': 'Dépenses des ménages, capitales des trois territoires', 'en': 'Household spending, three territorial capitals'}, 'type': 'dataset', 'resources': [{'cache_last_updated': None, 'package_id': '6f941f00-5073-4638-9c98-8f292a89aedd', 'datastore_active': False, 'id': '559777c8-2d9d-48a7-a5b7-a86d4c421d03', 'state': 'active', 'name_translated': {'fr': 'Ensembles de données', 'en': 'Dataset'}, 'hash': '', 'description': '', 'format': 'CSV', 'mimetype_inner': None, 'url_type': None, 'mimetype': None, 'cache_url': None, 'name': 'Dataset', 'language': ['fr'], 'created': '2018-12-14T18:01:30.561727', 'url': 'https://www150.statcan.gc.ca/n1/tbl/csv/11100233-fra.zip', 'last_modified': None, 'data_quality': [], 'position': 0, 'revision_id': 'dcfdf890-e548-4ab9-96e5-56f2c3c7f442', 'resource_type': 'dataset'}, {'cache_last_updated': None, 'package_id': '6f941f00-5073-4638-9c98-8f292a89aedd', 'datastore_active': False, 'id': 'da1e78d3-4117-446f-abad-ee57dc9eaf6e', 'state': 'active', 'name_translated': {'fr': 'Ensembles de données', 'en': 'Dataset'}, 'hash': '', 'description': '', 'format': 'CSV', 'mimetype_inner': None, 'url_type': None, 'mimetype': None, 'cache_url': None, 'name': 'Dataset', 'language': ['en'], 'created': '2018-12-14T18:01:30.561737', 'url': 'https://www150.statcan.gc.ca/n1/tbl/csv/11100233-eng.zip', 'last_modified': None, 'data_quality': [], 'position': 1, 'revision_id': 'dcfdf890-e548-4ab9-96e5-56f2c3c7f442', 'resource_type': 'dataset'}, {'cache_last_updated': None, 'package_id': '6f941f00-5073-4638-9c98-8f292a89aedd', 'datastore_active': False, 'id': 'f523a45c-a165-4e7e-b808-6bca52b63c30', 'state': 'active', 'name_translated': {'fr': 'Ensembles de données', 'en': 'Dataset'}, 'hash': '', 'description': '', 'format': 'XML', 'mimetype_inner': None, 'url_type': None, 'mimetype': None, 'cache_url': None, 'name': 'Dataset', 'language': ['en', 'fr'], 'created': '2018-12-14T18:01:30.561741', 'url': 'https://www150.statcan.gc.ca/n1/tbl/sdmx/11100233-SDMX.zip', 'last_modified': None, 'data_quality': [], 'position': 2, 'revision_id': 'dcfdf890-e548-4ab9-96e5-56f2c3c7f442', 'resource_type': 'dataset'}, {'cache_last_updated': None, 'package_id': '6f941f00-5073-4638-9c98-8f292a89aedd', 'datastore_active': False, 'id': '47ef3215-5b66-4043-9b0c-afb231bb5dd5', 'state': 'active', 'name_translated': {'fr': 'Document connexe', 'en': 'Supporting Document'}, 'hash': '', 'description': '', 'format': 'HTML', 'mimetype_inner': None, 'url_type': None, 'mimetype': None, 'cache_url': None, 'name': 'Supporting Document', 'language': ['fr'], 'created': '2018-12-14T18:01:30.561744', 'url': 'https://www150.statcan.gc.ca/t1/tbl1/fr/tv.action?pid=1110023301', 'last_modified': None, 'data_quality': [], 'position': 3, 'revision_id': 'dcfdf890-e548-4ab9-96e5-56f2c3c7f442', 'resource_type': 'guide'}, {'cache_last_updated': None, 'package_id': '6f941f00-5073-4638-9c98-8f292a89aedd', 'datastore_active': False, 'id': '5c37fc25-6c2b-4ad9-91c2-4e8a560aa548', 'state': 'active', 'name_translated': {'fr': 'Document connexe', 'en': 'Supporting Document'}, 'hash': '', 'description': '', 'format': 'HTML', 'mimetype_inner': None, 'url_type': None, 'mimetype': None, 'cache_url': None, 'name': 'Supporting Document', 'language': ['en'], 'created': '2018-12-14T18:01:30.561746', 'url': 'https://www150.statcan.gc.ca/t1/tbl1/en/tv.action?pid=1110023301', 'last_modified': None, 'data_quality': [], 'position': 4, 'revision_id': 'dcfdf890-e548-4ab9-96e5-56f2c3c7f442', 'resource_type': 'guide'}], 'place_of_publication': [], 'metadata_contact': {}, 'num_resources': 5, 'topic_category': [], 'tags': [], 'collection': 'primary', 'org_title_at_publication': {'fr': 'Statistique Canada', 'en': 'Statistics Canada'}, 'date_published': '2018-12-12 08:30:00', 'display_flags': [], 'groups': [], 'creator_user_id': '6b600515-c266-4584-a219-d084c980fd47', 'data_series_name': {'fr': 'Tableau', 'en': 'Table'}, 'relationships_as_subject': [], 'license_title': 'Open Government Licence - Canada', 'time_period_coverage_end': '2017-01-01 00:00:00', 'restrictions': 'unrestricted', 'organization': {'description': '', 'created': '2016-09-23T17:26:15.123077', 'title': 'Statistics Canada | Statistique Canada', 'name': 'statcan', 'is_organization': True, 'state': 'active', 'image_url': '', 'revision_id': 'd6eb738d-1e03-4220-bdb8-35ee6754aba6', 'type': 'organization', 'id': 'A0F0FCFC-BC3B-4696-8B6D-E7E411D55BAC', 'approval_status': 'approved'}, 'name': '6f941f00-5073-4638-9c98-8f292a89aedd', 'isopen': False, 'license_id': 'ca-ogl-lgo', 'url': \"{u'fr': u'http://www5.statcan.gc.ca/cansim/home-accueil?lang=fra', u'en': u'http://www5.statcan.gc.ca/cansim/home-accueil?lang=eng'}\", 'notes': '<p>Survey of Household Spending (SHS), average household spending, three territorial capitals.</p>', 'owner_org': 'A0F0FCFC-BC3B-4696-8B6D-E7E411D55BAC', 'audience': [], 'license_url': 'http://open.canada.ca/en/open-government-licence-canada', 'program_page_url': {}, 'title': 'Household spending, three territorial capitals', 'revision_id': 'c381ab75-3152-4517-90ca-9f0b851c584e'}\n"
     ]
    }
   ],
   "source": [
    "print(jdata[\"result\"][\"results\"][3])"
   ]
  },
  {
   "cell_type": "code",
   "execution_count": null,
   "metadata": {},
   "outputs": [],
   "source": []
  }
 ],
 "metadata": {
  "kernelspec": {
   "display_name": "Python 3",
   "language": "python",
   "name": "python3"
  },
  "language_info": {
   "codemirror_mode": {
    "name": "ipython",
    "version": 3
   },
   "file_extension": ".py",
   "mimetype": "text/x-python",
   "name": "python",
   "nbconvert_exporter": "python",
   "pygments_lexer": "ipython3",
   "version": "3.6.7"
  }
 },
 "nbformat": 4,
 "nbformat_minor": 2
}
