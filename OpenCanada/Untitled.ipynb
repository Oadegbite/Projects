{
 "cells": [
  {
   "cell_type": "code",
   "execution_count": 8,
   "metadata": {},
   "outputs": [],
   "source": [
    "\"\"\"\n",
    " Simple example of a Python script used to query an API.\n",
    " \n",
    " @note:    This is a simple example without any error handling.\n",
    " @license: http://data.gc.ca/eng/open-government-licence-canada\n",
    "\"\"\"\n",
    "import json\n",
    "import requests\n",
    " \n",
    "url      = 'http://www.earthquakescanada.nrcan.gc.ca/api/v2/locations/'\n",
    "options  = { \"Accept\":\"application/json\", \"Accept-Language\":\"en\" }\n",
    "response = requests.get(url, headers=options)\n"
   ]
  },
  {
   "cell_type": "code",
   "execution_count": 9,
   "metadata": {},
   "outputs": [
    {
     "data": {
      "text/plain": [
       "<Response [404]>"
      ]
     },
     "execution_count": 9,
     "metadata": {},
     "output_type": "execute_result"
    }
   ],
   "source": [
    "response"
   ]
  },
  {
   "cell_type": "code",
   "execution_count": null,
   "metadata": {},
   "outputs": [],
   "source": []
  }
 ],
 "metadata": {
  "kernelspec": {
   "display_name": "Python 3",
   "language": "python",
   "name": "python3"
  },
  "language_info": {
   "codemirror_mode": {
    "name": "ipython",
    "version": 3
   },
   "file_extension": ".py",
   "mimetype": "text/x-python",
   "name": "python",
   "nbconvert_exporter": "python",
   "pygments_lexer": "ipython3",
   "version": "3.6.5"
  }
 },
 "nbformat": 4,
 "nbformat_minor": 2
}
