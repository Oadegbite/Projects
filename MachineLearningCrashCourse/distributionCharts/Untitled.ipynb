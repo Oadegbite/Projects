{
 "cells": [
  {
   "cell_type": "code",
   "execution_count": 2,
   "metadata": {},
   "outputs": [
    {
     "name": "stderr",
     "output_type": "stream",
     "text": [
      "C:\\Users\\tomia\\Anaconda3\\lib\\site-packages\\h5py\\__init__.py:36: FutureWarning: Conversion of the second argument of issubdtype from `float` to `np.floating` is deprecated. In future, it will be treated as `np.float64 == np.dtype(float).type`.\n",
      "  from ._conv import register_converters as _register_converters\n"
     ]
    }
   ],
   "source": [
    "import numpy as np\n",
    "import pandas as pd\n",
    "from sklearn import metrics\n",
    "import tensorflow as tf\n",
    "from tensorflow.python.data import Dataset\n",
    "\n",
    "tf.logging.set_verbosity(tf.logging.ERROR)\n",
    "pd.options.display.max_rows = 10\n",
    "pd.options.display.float_format = '{:.1f}'.format"
   ]
  },
  {
   "cell_type": "code",
   "execution_count": 7,
   "metadata": {
    "scrolled": false
   },
   "outputs": [
    {
     "data": {
      "text/html": [
       "<div>\n",
       "<style scoped>\n",
       "    .dataframe tbody tr th:only-of-type {\n",
       "        vertical-align: middle;\n",
       "    }\n",
       "\n",
       "    .dataframe tbody tr th {\n",
       "        vertical-align: top;\n",
       "    }\n",
       "\n",
       "    .dataframe thead th {\n",
       "        text-align: right;\n",
       "    }\n",
       "</style>\n",
       "<table border=\"1\" class=\"dataframe\">\n",
       "  <thead>\n",
       "    <tr style=\"text-align: right;\">\n",
       "      <th></th>\n",
       "      <th>longitude</th>\n",
       "      <th>latitude</th>\n",
       "      <th>housing_median_age</th>\n",
       "      <th>total_rooms</th>\n",
       "      <th>total_bedrooms</th>\n",
       "      <th>population</th>\n",
       "      <th>households</th>\n",
       "      <th>median_income</th>\n",
       "      <th>median_house_value</th>\n",
       "    </tr>\n",
       "  </thead>\n",
       "  <tbody>\n",
       "    <tr>\n",
       "      <th>7603</th>\n",
       "      <td>-118.37</td>\n",
       "      <td>34.14</td>\n",
       "      <td>23.0</td>\n",
       "      <td>1883.0</td>\n",
       "      <td>512.0</td>\n",
       "      <td>774.0</td>\n",
       "      <td>478.0</td>\n",
       "      <td>3.5096</td>\n",
       "      <td>396.400</td>\n",
       "    </tr>\n",
       "    <tr>\n",
       "      <th>8574</th>\n",
       "      <td>-118.51</td>\n",
       "      <td>34.03</td>\n",
       "      <td>37.0</td>\n",
       "      <td>4072.0</td>\n",
       "      <td>905.0</td>\n",
       "      <td>1468.0</td>\n",
       "      <td>923.0</td>\n",
       "      <td>3.8571</td>\n",
       "      <td>500.001</td>\n",
       "    </tr>\n",
       "    <tr>\n",
       "      <th>5202</th>\n",
       "      <td>-118.13</td>\n",
       "      <td>33.82</td>\n",
       "      <td>36.0</td>\n",
       "      <td>665.0</td>\n",
       "      <td>114.0</td>\n",
       "      <td>273.0</td>\n",
       "      <td>112.0</td>\n",
       "      <td>3.7321</td>\n",
       "      <td>223.700</td>\n",
       "    </tr>\n",
       "    <tr>\n",
       "      <th>10566</th>\n",
       "      <td>-120.45</td>\n",
       "      <td>34.96</td>\n",
       "      <td>21.0</td>\n",
       "      <td>2121.0</td>\n",
       "      <td>445.0</td>\n",
       "      <td>2211.0</td>\n",
       "      <td>463.0</td>\n",
       "      <td>4.0603</td>\n",
       "      <td>117.600</td>\n",
       "    </tr>\n",
       "    <tr>\n",
       "      <th>14532</th>\n",
       "      <td>-122.15</td>\n",
       "      <td>37.71</td>\n",
       "      <td>36.0</td>\n",
       "      <td>998.0</td>\n",
       "      <td>178.0</td>\n",
       "      <td>531.0</td>\n",
       "      <td>183.0</td>\n",
       "      <td>4.0208</td>\n",
       "      <td>191.500</td>\n",
       "    </tr>\n",
       "    <tr>\n",
       "      <th>5187</th>\n",
       "      <td>-118.13</td>\n",
       "      <td>33.88</td>\n",
       "      <td>32.0</td>\n",
       "      <td>3088.0</td>\n",
       "      <td>1024.0</td>\n",
       "      <td>1981.0</td>\n",
       "      <td>956.0</td>\n",
       "      <td>2.2027</td>\n",
       "      <td>192.700</td>\n",
       "    </tr>\n",
       "    <tr>\n",
       "      <th>2836</th>\n",
       "      <td>-117.73</td>\n",
       "      <td>34.10</td>\n",
       "      <td>37.0</td>\n",
       "      <td>3457.0</td>\n",
       "      <td>544.0</td>\n",
       "      <td>1344.0</td>\n",
       "      <td>530.0</td>\n",
       "      <td>5.8891</td>\n",
       "      <td>226.000</td>\n",
       "    </tr>\n",
       "    <tr>\n",
       "      <th>668</th>\n",
       "      <td>-117.04</td>\n",
       "      <td>32.67</td>\n",
       "      <td>14.0</td>\n",
       "      <td>3464.0</td>\n",
       "      <td>683.0</td>\n",
       "      <td>2139.0</td>\n",
       "      <td>734.0</td>\n",
       "      <td>4.0668</td>\n",
       "      <td>137.500</td>\n",
       "    </tr>\n",
       "    <tr>\n",
       "      <th>4964</th>\n",
       "      <td>-118.11</td>\n",
       "      <td>34.06</td>\n",
       "      <td>16.0</td>\n",
       "      <td>2416.0</td>\n",
       "      <td>565.0</td>\n",
       "      <td>1750.0</td>\n",
       "      <td>514.0</td>\n",
       "      <td>2.8229</td>\n",
       "      <td>163.700</td>\n",
       "    </tr>\n",
       "    <tr>\n",
       "      <th>7157</th>\n",
       "      <td>-118.32</td>\n",
       "      <td>33.75</td>\n",
       "      <td>37.0</td>\n",
       "      <td>1080.0</td>\n",
       "      <td>135.0</td>\n",
       "      <td>366.0</td>\n",
       "      <td>142.0</td>\n",
       "      <td>11.6677</td>\n",
       "      <td>500.001</td>\n",
       "    </tr>\n",
       "    <tr>\n",
       "      <th>15115</th>\n",
       "      <td>-122.26</td>\n",
       "      <td>37.90</td>\n",
       "      <td>52.0</td>\n",
       "      <td>1927.0</td>\n",
       "      <td>279.0</td>\n",
       "      <td>705.0</td>\n",
       "      <td>288.0</td>\n",
       "      <td>7.8864</td>\n",
       "      <td>357.300</td>\n",
       "    </tr>\n",
       "    <tr>\n",
       "      <th>9946</th>\n",
       "      <td>-119.75</td>\n",
       "      <td>36.78</td>\n",
       "      <td>35.0</td>\n",
       "      <td>1129.0</td>\n",
       "      <td>220.0</td>\n",
       "      <td>474.0</td>\n",
       "      <td>242.0</td>\n",
       "      <td>2.4405</td>\n",
       "      <td>74.300</td>\n",
       "    </tr>\n",
       "    <tr>\n",
       "      <th>12080</th>\n",
       "      <td>-121.43</td>\n",
       "      <td>38.65</td>\n",
       "      <td>18.0</td>\n",
       "      <td>909.0</td>\n",
       "      <td>198.0</td>\n",
       "      <td>661.0</td>\n",
       "      <td>176.0</td>\n",
       "      <td>3.1696</td>\n",
       "      <td>77.400</td>\n",
       "    </tr>\n",
       "    <tr>\n",
       "      <th>14493</th>\n",
       "      <td>-122.14</td>\n",
       "      <td>37.70</td>\n",
       "      <td>17.0</td>\n",
       "      <td>1463.0</td>\n",
       "      <td>292.0</td>\n",
       "      <td>695.0</td>\n",
       "      <td>330.0</td>\n",
       "      <td>4.5859</td>\n",
       "      <td>187.200</td>\n",
       "    </tr>\n",
       "    <tr>\n",
       "      <th>10574</th>\n",
       "      <td>-120.45</td>\n",
       "      <td>34.86</td>\n",
       "      <td>23.0</td>\n",
       "      <td>3415.0</td>\n",
       "      <td>778.0</td>\n",
       "      <td>1492.0</td>\n",
       "      <td>633.0</td>\n",
       "      <td>2.2791</td>\n",
       "      <td>114.800</td>\n",
       "    </tr>\n",
       "    <tr>\n",
       "      <th>289</th>\n",
       "      <td>-116.76</td>\n",
       "      <td>33.46</td>\n",
       "      <td>6.0</td>\n",
       "      <td>1251.0</td>\n",
       "      <td>268.0</td>\n",
       "      <td>544.0</td>\n",
       "      <td>216.0</td>\n",
       "      <td>3.0694</td>\n",
       "      <td>173.400</td>\n",
       "    </tr>\n",
       "    <tr>\n",
       "      <th>3762</th>\n",
       "      <td>-117.93</td>\n",
       "      <td>33.67</td>\n",
       "      <td>27.0</td>\n",
       "      <td>3512.0</td>\n",
       "      <td>472.0</td>\n",
       "      <td>1391.0</td>\n",
       "      <td>481.0</td>\n",
       "      <td>8.1001</td>\n",
       "      <td>336.500</td>\n",
       "    </tr>\n",
       "    <tr>\n",
       "      <th>9083</th>\n",
       "      <td>-118.99</td>\n",
       "      <td>35.35</td>\n",
       "      <td>27.0</td>\n",
       "      <td>1615.0</td>\n",
       "      <td>355.0</td>\n",
       "      <td>1380.0</td>\n",
       "      <td>332.0</td>\n",
       "      <td>1.6632</td>\n",
       "      <td>49.800</td>\n",
       "    </tr>\n",
       "    <tr>\n",
       "      <th>14711</th>\n",
       "      <td>-122.19</td>\n",
       "      <td>37.84</td>\n",
       "      <td>18.0</td>\n",
       "      <td>1617.0</td>\n",
       "      <td>210.0</td>\n",
       "      <td>533.0</td>\n",
       "      <td>194.0</td>\n",
       "      <td>11.6017</td>\n",
       "      <td>392.600</td>\n",
       "    </tr>\n",
       "    <tr>\n",
       "      <th>4704</th>\n",
       "      <td>-118.08</td>\n",
       "      <td>34.09</td>\n",
       "      <td>33.0</td>\n",
       "      <td>2557.0</td>\n",
       "      <td>578.0</td>\n",
       "      <td>1715.0</td>\n",
       "      <td>530.0</td>\n",
       "      <td>2.9196</td>\n",
       "      <td>208.800</td>\n",
       "    </tr>\n",
       "    <tr>\n",
       "      <th>7033</th>\n",
       "      <td>-118.31</td>\n",
       "      <td>33.74</td>\n",
       "      <td>36.0</td>\n",
       "      <td>2464.0</td>\n",
       "      <td>472.0</td>\n",
       "      <td>1111.0</td>\n",
       "      <td>457.0</td>\n",
       "      <td>4.5074</td>\n",
       "      <td>350.000</td>\n",
       "    </tr>\n",
       "    <tr>\n",
       "      <th>871</th>\n",
       "      <td>-117.08</td>\n",
       "      <td>33.12</td>\n",
       "      <td>37.0</td>\n",
       "      <td>1060.0</td>\n",
       "      <td>268.0</td>\n",
       "      <td>823.0</td>\n",
       "      <td>229.0</td>\n",
       "      <td>1.8363</td>\n",
       "      <td>145.500</td>\n",
       "    </tr>\n",
       "    <tr>\n",
       "      <th>10655</th>\n",
       "      <td>-120.54</td>\n",
       "      <td>34.97</td>\n",
       "      <td>23.0</td>\n",
       "      <td>1353.0</td>\n",
       "      <td>345.0</td>\n",
       "      <td>1322.0</td>\n",
       "      <td>336.0</td>\n",
       "      <td>1.8185</td>\n",
       "      <td>97.800</td>\n",
       "    </tr>\n",
       "    <tr>\n",
       "      <th>558</th>\n",
       "      <td>-117.01</td>\n",
       "      <td>32.75</td>\n",
       "      <td>26.0</td>\n",
       "      <td>4038.0</td>\n",
       "      <td>706.0</td>\n",
       "      <td>2065.0</td>\n",
       "      <td>687.0</td>\n",
       "      <td>3.9545</td>\n",
       "      <td>178.100</td>\n",
       "    </tr>\n",
       "    <tr>\n",
       "      <th>8638</th>\n",
       "      <td>-118.54</td>\n",
       "      <td>34.23</td>\n",
       "      <td>35.0</td>\n",
       "      <td>3422.0</td>\n",
       "      <td>601.0</td>\n",
       "      <td>1690.0</td>\n",
       "      <td>574.0</td>\n",
       "      <td>4.3750</td>\n",
       "      <td>232.900</td>\n",
       "    </tr>\n",
       "    <tr>\n",
       "      <th>15174</th>\n",
       "      <td>-122.27</td>\n",
       "      <td>38.53</td>\n",
       "      <td>22.0</td>\n",
       "      <td>678.0</td>\n",
       "      <td>137.0</td>\n",
       "      <td>336.0</td>\n",
       "      <td>103.0</td>\n",
       "      <td>4.4000</td>\n",
       "      <td>142.500</td>\n",
       "    </tr>\n",
       "    <tr>\n",
       "      <th>15431</th>\n",
       "      <td>-122.30</td>\n",
       "      <td>37.52</td>\n",
       "      <td>38.0</td>\n",
       "      <td>2769.0</td>\n",
       "      <td>387.0</td>\n",
       "      <td>994.0</td>\n",
       "      <td>395.0</td>\n",
       "      <td>5.5902</td>\n",
       "      <td>417.000</td>\n",
       "    </tr>\n",
       "    <tr>\n",
       "      <th>287</th>\n",
       "      <td>-116.76</td>\n",
       "      <td>34.29</td>\n",
       "      <td>14.0</td>\n",
       "      <td>3959.0</td>\n",
       "      <td>849.0</td>\n",
       "      <td>1064.0</td>\n",
       "      <td>376.0</td>\n",
       "      <td>2.8214</td>\n",
       "      <td>111.400</td>\n",
       "    </tr>\n",
       "    <tr>\n",
       "      <th>5428</th>\n",
       "      <td>-118.16</td>\n",
       "      <td>34.19</td>\n",
       "      <td>40.0</td>\n",
       "      <td>1840.0</td>\n",
       "      <td>358.0</td>\n",
       "      <td>1218.0</td>\n",
       "      <td>347.0</td>\n",
       "      <td>4.2500</td>\n",
       "      <td>177.900</td>\n",
       "    </tr>\n",
       "    <tr>\n",
       "      <th>4205</th>\n",
       "      <td>-117.99</td>\n",
       "      <td>33.71</td>\n",
       "      <td>17.0</td>\n",
       "      <td>1600.0</td>\n",
       "      <td>458.0</td>\n",
       "      <td>1803.0</td>\n",
       "      <td>432.0</td>\n",
       "      <td>2.7865</td>\n",
       "      <td>216.700</td>\n",
       "    </tr>\n",
       "    <tr>\n",
       "      <th>...</th>\n",
       "      <td>...</td>\n",
       "      <td>...</td>\n",
       "      <td>...</td>\n",
       "      <td>...</td>\n",
       "      <td>...</td>\n",
       "      <td>...</td>\n",
       "      <td>...</td>\n",
       "      <td>...</td>\n",
       "      <td>...</td>\n",
       "    </tr>\n",
       "    <tr>\n",
       "      <th>16792</th>\n",
       "      <td>-123.10</td>\n",
       "      <td>38.97</td>\n",
       "      <td>36.0</td>\n",
       "      <td>1211.0</td>\n",
       "      <td>247.0</td>\n",
       "      <td>697.0</td>\n",
       "      <td>251.0</td>\n",
       "      <td>2.5761</td>\n",
       "      <td>94.900</td>\n",
       "    </tr>\n",
       "    <tr>\n",
       "      <th>1322</th>\n",
       "      <td>-117.16</td>\n",
       "      <td>33.54</td>\n",
       "      <td>4.0</td>\n",
       "      <td>4952.0</td>\n",
       "      <td>1000.0</td>\n",
       "      <td>2912.0</td>\n",
       "      <td>943.0</td>\n",
       "      <td>3.7538</td>\n",
       "      <td>147.500</td>\n",
       "    </tr>\n",
       "    <tr>\n",
       "      <th>2613</th>\n",
       "      <td>-117.66</td>\n",
       "      <td>34.05</td>\n",
       "      <td>36.0</td>\n",
       "      <td>2341.0</td>\n",
       "      <td>520.0</td>\n",
       "      <td>2138.0</td>\n",
       "      <td>523.0</td>\n",
       "      <td>2.3347</td>\n",
       "      <td>104.000</td>\n",
       "    </tr>\n",
       "    <tr>\n",
       "      <th>16422</th>\n",
       "      <td>-122.56</td>\n",
       "      <td>37.90</td>\n",
       "      <td>48.0</td>\n",
       "      <td>1550.0</td>\n",
       "      <td>253.0</td>\n",
       "      <td>641.0</td>\n",
       "      <td>276.0</td>\n",
       "      <td>8.6340</td>\n",
       "      <td>463.500</td>\n",
       "    </tr>\n",
       "    <tr>\n",
       "      <th>7633</th>\n",
       "      <td>-118.37</td>\n",
       "      <td>34.04</td>\n",
       "      <td>43.0</td>\n",
       "      <td>888.0</td>\n",
       "      <td>170.0</td>\n",
       "      <td>514.0</td>\n",
       "      <td>161.0</td>\n",
       "      <td>3.1827</td>\n",
       "      <td>202.800</td>\n",
       "    </tr>\n",
       "    <tr>\n",
       "      <th>4413</th>\n",
       "      <td>-118.03</td>\n",
       "      <td>34.06</td>\n",
       "      <td>36.0</td>\n",
       "      <td>1018.0</td>\n",
       "      <td>305.0</td>\n",
       "      <td>1307.0</td>\n",
       "      <td>292.0</td>\n",
       "      <td>2.1453</td>\n",
       "      <td>162.100</td>\n",
       "    </tr>\n",
       "    <tr>\n",
       "      <th>16213</th>\n",
       "      <td>-122.48</td>\n",
       "      <td>37.78</td>\n",
       "      <td>52.0</td>\n",
       "      <td>2910.0</td>\n",
       "      <td>611.0</td>\n",
       "      <td>1508.0</td>\n",
       "      <td>515.0</td>\n",
       "      <td>3.5865</td>\n",
       "      <td>311.400</td>\n",
       "    </tr>\n",
       "    <tr>\n",
       "      <th>2269</th>\n",
       "      <td>-117.42</td>\n",
       "      <td>33.95</td>\n",
       "      <td>32.0</td>\n",
       "      <td>4251.0</td>\n",
       "      <td>848.0</td>\n",
       "      <td>2494.0</td>\n",
       "      <td>798.0</td>\n",
       "      <td>2.8173</td>\n",
       "      <td>110.800</td>\n",
       "    </tr>\n",
       "    <tr>\n",
       "      <th>4214</th>\n",
       "      <td>-117.99</td>\n",
       "      <td>33.67</td>\n",
       "      <td>12.0</td>\n",
       "      <td>2228.0</td>\n",
       "      <td>479.0</td>\n",
       "      <td>1122.0</td>\n",
       "      <td>488.0</td>\n",
       "      <td>4.0385</td>\n",
       "      <td>350.000</td>\n",
       "    </tr>\n",
       "    <tr>\n",
       "      <th>1473</th>\n",
       "      <td>-117.20</td>\n",
       "      <td>34.48</td>\n",
       "      <td>7.0</td>\n",
       "      <td>4998.0</td>\n",
       "      <td>953.0</td>\n",
       "      <td>2764.0</td>\n",
       "      <td>891.0</td>\n",
       "      <td>3.2050</td>\n",
       "      <td>101.900</td>\n",
       "    </tr>\n",
       "    <tr>\n",
       "      <th>15471</th>\n",
       "      <td>-122.31</td>\n",
       "      <td>37.55</td>\n",
       "      <td>45.0</td>\n",
       "      <td>507.0</td>\n",
       "      <td>140.0</td>\n",
       "      <td>305.0</td>\n",
       "      <td>139.0</td>\n",
       "      <td>2.6159</td>\n",
       "      <td>272.900</td>\n",
       "    </tr>\n",
       "    <tr>\n",
       "      <th>5342</th>\n",
       "      <td>-118.15</td>\n",
       "      <td>34.14</td>\n",
       "      <td>52.0</td>\n",
       "      <td>403.0</td>\n",
       "      <td>117.0</td>\n",
       "      <td>361.0</td>\n",
       "      <td>105.0</td>\n",
       "      <td>1.6250</td>\n",
       "      <td>187.500</td>\n",
       "    </tr>\n",
       "    <tr>\n",
       "      <th>15910</th>\n",
       "      <td>-122.43</td>\n",
       "      <td>37.80</td>\n",
       "      <td>52.0</td>\n",
       "      <td>1976.0</td>\n",
       "      <td>726.0</td>\n",
       "      <td>1045.0</td>\n",
       "      <td>669.0</td>\n",
       "      <td>3.6893</td>\n",
       "      <td>475.000</td>\n",
       "    </tr>\n",
       "    <tr>\n",
       "      <th>12680</th>\n",
       "      <td>-121.76</td>\n",
       "      <td>37.68</td>\n",
       "      <td>32.0</td>\n",
       "      <td>1078.0</td>\n",
       "      <td>207.0</td>\n",
       "      <td>555.0</td>\n",
       "      <td>197.0</td>\n",
       "      <td>3.1856</td>\n",
       "      <td>186.900</td>\n",
       "    </tr>\n",
       "    <tr>\n",
       "      <th>1634</th>\n",
       "      <td>-117.23</td>\n",
       "      <td>32.80</td>\n",
       "      <td>22.0</td>\n",
       "      <td>2981.0</td>\n",
       "      <td>873.0</td>\n",
       "      <td>1751.0</td>\n",
       "      <td>745.0</td>\n",
       "      <td>2.3482</td>\n",
       "      <td>190.600</td>\n",
       "    </tr>\n",
       "    <tr>\n",
       "      <th>2310</th>\n",
       "      <td>-117.45</td>\n",
       "      <td>33.93</td>\n",
       "      <td>20.0</td>\n",
       "      <td>5998.0</td>\n",
       "      <td>1320.0</td>\n",
       "      <td>3185.0</td>\n",
       "      <td>1199.0</td>\n",
       "      <td>3.2731</td>\n",
       "      <td>113.900</td>\n",
       "    </tr>\n",
       "    <tr>\n",
       "      <th>6845</th>\n",
       "      <td>-118.30</td>\n",
       "      <td>33.99</td>\n",
       "      <td>45.0</td>\n",
       "      <td>1701.0</td>\n",
       "      <td>452.0</td>\n",
       "      <td>1484.0</td>\n",
       "      <td>427.0</td>\n",
       "      <td>1.8400</td>\n",
       "      <td>91.400</td>\n",
       "    </tr>\n",
       "    <tr>\n",
       "      <th>12758</th>\n",
       "      <td>-121.79</td>\n",
       "      <td>37.66</td>\n",
       "      <td>22.0</td>\n",
       "      <td>14701.0</td>\n",
       "      <td>2210.0</td>\n",
       "      <td>6693.0</td>\n",
       "      <td>2232.0</td>\n",
       "      <td>5.9800</td>\n",
       "      <td>245.000</td>\n",
       "    </tr>\n",
       "    <tr>\n",
       "      <th>4310</th>\n",
       "      <td>-118.01</td>\n",
       "      <td>33.86</td>\n",
       "      <td>29.0</td>\n",
       "      <td>2307.0</td>\n",
       "      <td>452.0</td>\n",
       "      <td>1218.0</td>\n",
       "      <td>402.0</td>\n",
       "      <td>3.4306</td>\n",
       "      <td>194.200</td>\n",
       "    </tr>\n",
       "    <tr>\n",
       "      <th>5939</th>\n",
       "      <td>-118.21</td>\n",
       "      <td>34.07</td>\n",
       "      <td>31.0</td>\n",
       "      <td>1077.0</td>\n",
       "      <td>300.0</td>\n",
       "      <td>1198.0</td>\n",
       "      <td>274.0</td>\n",
       "      <td>2.1333</td>\n",
       "      <td>160.200</td>\n",
       "    </tr>\n",
       "    <tr>\n",
       "      <th>581</th>\n",
       "      <td>-117.02</td>\n",
       "      <td>32.81</td>\n",
       "      <td>26.0</td>\n",
       "      <td>1998.0</td>\n",
       "      <td>301.0</td>\n",
       "      <td>874.0</td>\n",
       "      <td>305.0</td>\n",
       "      <td>5.4544</td>\n",
       "      <td>180.900</td>\n",
       "    </tr>\n",
       "    <tr>\n",
       "      <th>13085</th>\n",
       "      <td>-121.87</td>\n",
       "      <td>37.21</td>\n",
       "      <td>18.0</td>\n",
       "      <td>1080.0</td>\n",
       "      <td>122.0</td>\n",
       "      <td>382.0</td>\n",
       "      <td>121.0</td>\n",
       "      <td>9.0800</td>\n",
       "      <td>500.001</td>\n",
       "    </tr>\n",
       "    <tr>\n",
       "      <th>10858</th>\n",
       "      <td>-120.81</td>\n",
       "      <td>38.73</td>\n",
       "      <td>38.0</td>\n",
       "      <td>2005.0</td>\n",
       "      <td>385.0</td>\n",
       "      <td>882.0</td>\n",
       "      <td>353.0</td>\n",
       "      <td>2.5104</td>\n",
       "      <td>120.500</td>\n",
       "    </tr>\n",
       "    <tr>\n",
       "      <th>184</th>\n",
       "      <td>-116.32</td>\n",
       "      <td>33.28</td>\n",
       "      <td>19.0</td>\n",
       "      <td>1791.0</td>\n",
       "      <td>367.0</td>\n",
       "      <td>327.0</td>\n",
       "      <td>185.0</td>\n",
       "      <td>3.3625</td>\n",
       "      <td>100.000</td>\n",
       "    </tr>\n",
       "    <tr>\n",
       "      <th>2009</th>\n",
       "      <td>-117.31</td>\n",
       "      <td>32.82</td>\n",
       "      <td>42.0</td>\n",
       "      <td>2785.0</td>\n",
       "      <td>389.0</td>\n",
       "      <td>833.0</td>\n",
       "      <td>333.0</td>\n",
       "      <td>11.3074</td>\n",
       "      <td>500.001</td>\n",
       "    </tr>\n",
       "    <tr>\n",
       "      <th>687</th>\n",
       "      <td>-117.05</td>\n",
       "      <td>33.29</td>\n",
       "      <td>17.0</td>\n",
       "      <td>1800.0</td>\n",
       "      <td>312.0</td>\n",
       "      <td>891.0</td>\n",
       "      <td>281.0</td>\n",
       "      <td>7.0177</td>\n",
       "      <td>267.600</td>\n",
       "    </tr>\n",
       "    <tr>\n",
       "      <th>15768</th>\n",
       "      <td>-122.41</td>\n",
       "      <td>37.80</td>\n",
       "      <td>52.0</td>\n",
       "      <td>1724.0</td>\n",
       "      <td>416.0</td>\n",
       "      <td>1016.0</td>\n",
       "      <td>395.0</td>\n",
       "      <td>3.3839</td>\n",
       "      <td>400.000</td>\n",
       "    </tr>\n",
       "    <tr>\n",
       "      <th>2837</th>\n",
       "      <td>-117.73</td>\n",
       "      <td>34.09</td>\n",
       "      <td>36.0</td>\n",
       "      <td>1543.0</td>\n",
       "      <td>297.0</td>\n",
       "      <td>1355.0</td>\n",
       "      <td>303.0</td>\n",
       "      <td>3.5313</td>\n",
       "      <td>117.800</td>\n",
       "    </tr>\n",
       "    <tr>\n",
       "      <th>11774</th>\n",
       "      <td>-121.32</td>\n",
       "      <td>38.57</td>\n",
       "      <td>25.0</td>\n",
       "      <td>692.0</td>\n",
       "      <td>146.0</td>\n",
       "      <td>504.0</td>\n",
       "      <td>167.0</td>\n",
       "      <td>3.6897</td>\n",
       "      <td>101.100</td>\n",
       "    </tr>\n",
       "    <tr>\n",
       "      <th>11718</th>\n",
       "      <td>-121.30</td>\n",
       "      <td>37.85</td>\n",
       "      <td>35.0</td>\n",
       "      <td>1034.0</td>\n",
       "      <td>206.0</td>\n",
       "      <td>604.0</td>\n",
       "      <td>192.0</td>\n",
       "      <td>2.2391</td>\n",
       "      <td>120.000</td>\n",
       "    </tr>\n",
       "  </tbody>\n",
       "</table>\n",
       "<p>17000 rows × 9 columns</p>\n",
       "</div>"
      ],
      "text/plain": [
       "       longitude  latitude  housing_median_age  total_rooms  total_bedrooms  \\\n",
       "7603     -118.37     34.14                23.0       1883.0           512.0   \n",
       "8574     -118.51     34.03                37.0       4072.0           905.0   \n",
       "5202     -118.13     33.82                36.0        665.0           114.0   \n",
       "10566    -120.45     34.96                21.0       2121.0           445.0   \n",
       "14532    -122.15     37.71                36.0        998.0           178.0   \n",
       "5187     -118.13     33.88                32.0       3088.0          1024.0   \n",
       "2836     -117.73     34.10                37.0       3457.0           544.0   \n",
       "668      -117.04     32.67                14.0       3464.0           683.0   \n",
       "4964     -118.11     34.06                16.0       2416.0           565.0   \n",
       "7157     -118.32     33.75                37.0       1080.0           135.0   \n",
       "15115    -122.26     37.90                52.0       1927.0           279.0   \n",
       "9946     -119.75     36.78                35.0       1129.0           220.0   \n",
       "12080    -121.43     38.65                18.0        909.0           198.0   \n",
       "14493    -122.14     37.70                17.0       1463.0           292.0   \n",
       "10574    -120.45     34.86                23.0       3415.0           778.0   \n",
       "289      -116.76     33.46                 6.0       1251.0           268.0   \n",
       "3762     -117.93     33.67                27.0       3512.0           472.0   \n",
       "9083     -118.99     35.35                27.0       1615.0           355.0   \n",
       "14711    -122.19     37.84                18.0       1617.0           210.0   \n",
       "4704     -118.08     34.09                33.0       2557.0           578.0   \n",
       "7033     -118.31     33.74                36.0       2464.0           472.0   \n",
       "871      -117.08     33.12                37.0       1060.0           268.0   \n",
       "10655    -120.54     34.97                23.0       1353.0           345.0   \n",
       "558      -117.01     32.75                26.0       4038.0           706.0   \n",
       "8638     -118.54     34.23                35.0       3422.0           601.0   \n",
       "15174    -122.27     38.53                22.0        678.0           137.0   \n",
       "15431    -122.30     37.52                38.0       2769.0           387.0   \n",
       "287      -116.76     34.29                14.0       3959.0           849.0   \n",
       "5428     -118.16     34.19                40.0       1840.0           358.0   \n",
       "4205     -117.99     33.71                17.0       1600.0           458.0   \n",
       "...          ...       ...                 ...          ...             ...   \n",
       "16792    -123.10     38.97                36.0       1211.0           247.0   \n",
       "1322     -117.16     33.54                 4.0       4952.0          1000.0   \n",
       "2613     -117.66     34.05                36.0       2341.0           520.0   \n",
       "16422    -122.56     37.90                48.0       1550.0           253.0   \n",
       "7633     -118.37     34.04                43.0        888.0           170.0   \n",
       "4413     -118.03     34.06                36.0       1018.0           305.0   \n",
       "16213    -122.48     37.78                52.0       2910.0           611.0   \n",
       "2269     -117.42     33.95                32.0       4251.0           848.0   \n",
       "4214     -117.99     33.67                12.0       2228.0           479.0   \n",
       "1473     -117.20     34.48                 7.0       4998.0           953.0   \n",
       "15471    -122.31     37.55                45.0        507.0           140.0   \n",
       "5342     -118.15     34.14                52.0        403.0           117.0   \n",
       "15910    -122.43     37.80                52.0       1976.0           726.0   \n",
       "12680    -121.76     37.68                32.0       1078.0           207.0   \n",
       "1634     -117.23     32.80                22.0       2981.0           873.0   \n",
       "2310     -117.45     33.93                20.0       5998.0          1320.0   \n",
       "6845     -118.30     33.99                45.0       1701.0           452.0   \n",
       "12758    -121.79     37.66                22.0      14701.0          2210.0   \n",
       "4310     -118.01     33.86                29.0       2307.0           452.0   \n",
       "5939     -118.21     34.07                31.0       1077.0           300.0   \n",
       "581      -117.02     32.81                26.0       1998.0           301.0   \n",
       "13085    -121.87     37.21                18.0       1080.0           122.0   \n",
       "10858    -120.81     38.73                38.0       2005.0           385.0   \n",
       "184      -116.32     33.28                19.0       1791.0           367.0   \n",
       "2009     -117.31     32.82                42.0       2785.0           389.0   \n",
       "687      -117.05     33.29                17.0       1800.0           312.0   \n",
       "15768    -122.41     37.80                52.0       1724.0           416.0   \n",
       "2837     -117.73     34.09                36.0       1543.0           297.0   \n",
       "11774    -121.32     38.57                25.0        692.0           146.0   \n",
       "11718    -121.30     37.85                35.0       1034.0           206.0   \n",
       "\n",
       "       population  households  median_income  median_house_value  \n",
       "7603        774.0       478.0         3.5096             396.400  \n",
       "8574       1468.0       923.0         3.8571             500.001  \n",
       "5202        273.0       112.0         3.7321             223.700  \n",
       "10566      2211.0       463.0         4.0603             117.600  \n",
       "14532       531.0       183.0         4.0208             191.500  \n",
       "5187       1981.0       956.0         2.2027             192.700  \n",
       "2836       1344.0       530.0         5.8891             226.000  \n",
       "668        2139.0       734.0         4.0668             137.500  \n",
       "4964       1750.0       514.0         2.8229             163.700  \n",
       "7157        366.0       142.0        11.6677             500.001  \n",
       "15115       705.0       288.0         7.8864             357.300  \n",
       "9946        474.0       242.0         2.4405              74.300  \n",
       "12080       661.0       176.0         3.1696              77.400  \n",
       "14493       695.0       330.0         4.5859             187.200  \n",
       "10574      1492.0       633.0         2.2791             114.800  \n",
       "289         544.0       216.0         3.0694             173.400  \n",
       "3762       1391.0       481.0         8.1001             336.500  \n",
       "9083       1380.0       332.0         1.6632              49.800  \n",
       "14711       533.0       194.0        11.6017             392.600  \n",
       "4704       1715.0       530.0         2.9196             208.800  \n",
       "7033       1111.0       457.0         4.5074             350.000  \n",
       "871         823.0       229.0         1.8363             145.500  \n",
       "10655      1322.0       336.0         1.8185              97.800  \n",
       "558        2065.0       687.0         3.9545             178.100  \n",
       "8638       1690.0       574.0         4.3750             232.900  \n",
       "15174       336.0       103.0         4.4000             142.500  \n",
       "15431       994.0       395.0         5.5902             417.000  \n",
       "287        1064.0       376.0         2.8214             111.400  \n",
       "5428       1218.0       347.0         4.2500             177.900  \n",
       "4205       1803.0       432.0         2.7865             216.700  \n",
       "...           ...         ...            ...                 ...  \n",
       "16792       697.0       251.0         2.5761              94.900  \n",
       "1322       2912.0       943.0         3.7538             147.500  \n",
       "2613       2138.0       523.0         2.3347             104.000  \n",
       "16422       641.0       276.0         8.6340             463.500  \n",
       "7633        514.0       161.0         3.1827             202.800  \n",
       "4413       1307.0       292.0         2.1453             162.100  \n",
       "16213      1508.0       515.0         3.5865             311.400  \n",
       "2269       2494.0       798.0         2.8173             110.800  \n",
       "4214       1122.0       488.0         4.0385             350.000  \n",
       "1473       2764.0       891.0         3.2050             101.900  \n",
       "15471       305.0       139.0         2.6159             272.900  \n",
       "5342        361.0       105.0         1.6250             187.500  \n",
       "15910      1045.0       669.0         3.6893             475.000  \n",
       "12680       555.0       197.0         3.1856             186.900  \n",
       "1634       1751.0       745.0         2.3482             190.600  \n",
       "2310       3185.0      1199.0         3.2731             113.900  \n",
       "6845       1484.0       427.0         1.8400              91.400  \n",
       "12758      6693.0      2232.0         5.9800             245.000  \n",
       "4310       1218.0       402.0         3.4306             194.200  \n",
       "5939       1198.0       274.0         2.1333             160.200  \n",
       "581         874.0       305.0         5.4544             180.900  \n",
       "13085       382.0       121.0         9.0800             500.001  \n",
       "10858       882.0       353.0         2.5104             120.500  \n",
       "184         327.0       185.0         3.3625             100.000  \n",
       "2009        833.0       333.0        11.3074             500.001  \n",
       "687         891.0       281.0         7.0177             267.600  \n",
       "15768      1016.0       395.0         3.3839             400.000  \n",
       "2837       1355.0       303.0         3.5313             117.800  \n",
       "11774       504.0       167.0         3.6897             101.100  \n",
       "11718       604.0       192.0         2.2391             120.000  \n",
       "\n",
       "[17000 rows x 9 columns]"
      ]
     },
     "execution_count": 7,
     "metadata": {},
     "output_type": "execute_result"
    }
   ],
   "source": [
    "california_housing_dataframe = pd.read_csv(\"california_housing_train.csv\", sep=\",\")\n",
    "california_housing_dataframe = california_housing_dataframe.reindex(np.random.permutation(california_housing_dataframe.index))\n",
    "california_housing_dataframe[\"median_house_value\"] /= 1000.0\n",
    "california_housing_dataframe"
   ]
  },
  {
   "cell_type": "code",
   "execution_count": 11,
   "metadata": {},
   "outputs": [],
   "source": [
    "# Define the input feature: total_rooms.\n",
    "my_feature = california_housing_dataframe[[\"total_rooms\"]]\n",
    "\n",
    "# Configure a numeric feature column for total_rooms.\n",
    "feature_columns = [tf.feature_column.numeric_column(\"total_rooms\")]"
   ]
  },
  {
   "cell_type": "code",
   "execution_count": 12,
   "metadata": {},
   "outputs": [],
   "source": [
    "features = {key:np.array(value) for key,value in dict(my_feature).items()} "
   ]
  },
  {
   "cell_type": "code",
   "execution_count": 8,
   "metadata": {},
   "outputs": [
    {
     "name": "stdout",
     "output_type": "stream",
     "text": [
      "total_rooms\n"
     ]
    }
   ],
   "source": [
    "for i in features:\n",
    "    print(i)"
   ]
  },
  {
   "cell_type": "code",
   "execution_count": 9,
   "metadata": {},
   "outputs": [
    {
     "data": {
      "text/plain": [
       "dict"
      ]
     },
     "execution_count": 9,
     "metadata": {},
     "output_type": "execute_result"
    }
   ],
   "source": [
    "type(features)"
   ]
  },
  {
   "cell_type": "code",
   "execution_count": 10,
   "metadata": {},
   "outputs": [
    {
     "name": "stdout",
     "output_type": "stream",
     "text": [
      "total_rooms\n"
     ]
    }
   ],
   "source": [
    "for i in features.keys():\n",
    "    print(i)"
   ]
  },
  {
   "cell_type": "code",
   "execution_count": 11,
   "metadata": {},
   "outputs": [
    {
     "data": {
      "text/plain": [
       "7650.0"
      ]
     },
     "execution_count": 11,
     "metadata": {},
     "output_type": "execute_result"
    }
   ],
   "source": [
    "features['total_rooms'][1]"
   ]
  },
  {
   "cell_type": "code",
   "execution_count": 2,
   "metadata": {},
   "outputs": [],
   "source": [
    "import csv\n",
    "import matplotlib.pyplot as plt\n",
    "\n",
    "def makeGraph(file,endCol,startCol=0):  \n",
    "    for col in range(startCol,endCol): #from the start col values in the dataset 9 catagories + 1 extra for the loop termination\n",
    "        values = []\n",
    "        fileName = file\n",
    "        # Fixing random state for reproducibility\n",
    "        with open(fileName+'.csv', 'r', newline='') as csvfile:\n",
    "            askreader = csv.reader(csvfile, delimiter=',', lineterminator='\\n')\n",
    "\n",
    "            for rows in askreader:\n",
    "                values.append(rows[col]) # from cols 11-20 are the values from the API\n",
    "\n",
    "        title = values[0]\n",
    "        print(title)\n",
    "        values = [float(i) for i in values[1:]] #converting values from string to floats for the chart\n",
    "\n",
    "        #bins = [0, 0.1, 0.2, 0.3, 0.4, 0.5, 0.6, 0.7, 0.8, 0.9, 1] #bins to sort numbers into based on values they fall between\n",
    "\n",
    "        # the histogram of the data\n",
    "        plt.hist(values,rwidth=0.6)\n",
    "        plt.xlabel('Values')\n",
    "        plt.ylabel('Count')\n",
    "        plt.title('{} Distribution of {}'.format(fileName, title))\n",
    "        plt.grid(True)\n",
    "        plt.show()\n",
    "        plt.clf() #clear the current graph, can be removed to see all values on one chart\n",
    "        print(\"Done\")\n",
    "\n",
    "    \n",
    "     "
   ]
  },
  {
   "cell_type": "code",
   "execution_count": 5,
   "metadata": {},
   "outputs": [
    {
     "name": "stdout",
     "output_type": "stream",
     "text": [
      "longitude\n"
     ]
    },
    {
     "data": {
      "image/png": "[encoded data removed]",
      "text/plain": [
       "<Figure size 432x288 with 1 Axes>"
      ]
     },
     "metadata": {},
     "output_type": "display_data"
    },
    {
     "name": "stdout",
     "output_type": "stream",
     "text": [
      "Done\n",
      "latitude\n"
     ]
    },
    {
     "data": {
      "image/png": "[encoded data removed]",
      "text/plain": [
       "<Figure size 432x288 with 1 Axes>"
      ]
     },
     "metadata": {},
     "output_type": "display_data"
    },
    {
     "name": "stdout",
     "output_type": "stream",
     "text": [
      "Done\n",
      "housing_median_age\n"
     ]
    },
    {
     "data": {
      "image/png": "[encoded data removed]",
      "text/plain": [
       "<Figure size 432x288 with 1 Axes>"
      ]
     },
     "metadata": {},
     "output_type": "display_data"
    },
    {
     "name": "stdout",
     "output_type": "stream",
     "text": [
      "Done\n",
      "total_rooms\n"
     ]
    },
    {
     "data": {
      "image/png": "[encoded data removed]",
      "text/plain": [
       "<Figure size 432x288 with 1 Axes>"
      ]
     },
     "metadata": {},
     "output_type": "display_data"
    },
    {
     "name": "stdout",
     "output_type": "stream",
     "text": [
      "Done\n",
      "total_bedrooms\n"
     ]
    },
    {
     "data": {
      "image/png": "[encoded data removed]",
      "text/plain": [
       "<Figure size 432x288 with 1 Axes>"
      ]
     },
     "metadata": {},
     "output_type": "display_data"
    },
    {
     "name": "stdout",
     "output_type": "stream",
     "text": [
      "Done\n",
      "population\n"
     ]
    },
    {
     "data": {
      "image/png": "[encoded data removed]",
      "text/plain": [
       "<Figure size 432x288 with 1 Axes>"
      ]
     },
     "metadata": {},
     "output_type": "display_data"
    },
    {
     "name": "stdout",
     "output_type": "stream",
     "text": [
      "Done\n",
      "households\n"
     ]
    },
    {
     "data": {
      "image/png": "[encoded data removed]",
      "text/plain": [
       "<Figure size 432x288 with 1 Axes>"
      ]
     },
     "metadata": {},
     "output_type": "display_data"
    },
    {
     "name": "stdout",
     "output_type": "stream",
     "text": [
      "Done\n",
      "median_income\n"
     ]
    },
    {
     "data": {
      "image/png": "[encoded data removed]",
      "text/plain": [
       "<Figure size 432x288 with 1 Axes>"
      ]
     },
     "metadata": {},
     "output_type": "display_data"
    },
    {
     "name": "stdout",
     "output_type": "stream",
     "text": [
      "Done\n",
      "median_house_value\n"
     ]
    },
    {
     "data": {
      "image/png": "[encoded data removed]",
      "text/plain": [
       "<Figure size 432x288 with 1 Axes>"
      ]
     },
     "metadata": {},
     "output_type": "display_data"
    },
    {
     "name": "stdout",
     "output_type": "stream",
     "text": [
      "Done\n"
     ]
    },
    {
     "data": {
      "text/plain": [
       "<Figure size 432x288 with 0 Axes>"
      ]
     },
     "metadata": {},
     "output_type": "display_data"
    }
   ],
   "source": [
    "makeGraph('california_housing_train',9)"
   ]
  },
  {
   "cell_type": "code",
   "execution_count": 13,
   "metadata": {},
   "outputs": [],
   "source": [
    "targets = california_housing_dataframe[\"median_house_value\"]"
   ]
  },
  {
   "cell_type": "code",
   "execution_count": 14,
   "metadata": {},
   "outputs": [],
   "source": [
    "ds = Dataset.from_tensor_slices((features,targets)) # warning: 2GB limit"
   ]
  },
  {
   "cell_type": "code",
   "execution_count": 22,
   "metadata": {},
   "outputs": [
    {
     "data": {
      "text/plain": [
       "<ShuffleDataset shapes: (), types: tf.string>"
      ]
     },
     "execution_count": 22,
     "metadata": {},
     "output_type": "execute_result"
    }
   ],
   "source": [
    "ds.list_files('*')"
   ]
  },
  {
   "cell_type": "code",
   "execution_count": 106,
   "metadata": {},
   "outputs": [
    {
     "name": "stdout",
     "output_type": "stream",
     "text": [
      "(array([0, 1, 2, 3]), array([ 0, -1, -2, -3]))\n",
      "(array([4, 5, 6, 7]), array([-4, -5, -6, -7]))\n",
      "(array([ 8,  9, 10, 11]), array([ -8,  -9, -10, -11]))\n",
      "({'total_rooms': array([5612.])}, array([66.9]))\n",
      "({'total_rooms': array([7650.])}, array([80.1]))\n",
      "({'total_rooms': array([720.])}, array([85.7]))\n"
     ]
    }
   ],
   "source": [
    "inc_dataset = tf.data.Dataset.range(100)\n",
    "dec_dataset = tf.data.Dataset.range(0, -100, -1)\n",
    "dataset = tf.data.Dataset.zip((inc_dataset, dec_dataset))\n",
    "batched_dataset = dataset.batch(4)\n",
    "\n",
    "iterator = batched_dataset.make_one_shot_iterator()\n",
    "next_element = iterator.get_next()\n",
    "\n",
    "ds = Dataset.from_tensor_slices((features,targets)) # warning: 2GB limit\n",
    "ds = ds.batch(1).repeat(None)\n",
    "#ds = ds.shuffle(buffer_size=10000)\n",
    "iteratorDS = ds.make_one_shot_iterator()\n",
    "next_elementDS = iteratorDS.get_next()\n",
    "\n",
    "\n",
    "with tf.Session() as sess:\n",
    "    print(sess.run(next_element))  # ==> ([0, 1, 2,   3],   [ 0, -1,  -2,  -3])\n",
    "    print(sess.run(next_element))  # ==> ([4, 5, 6,   7],   [-4, -5,  -6,  -7])\n",
    "    print(sess.run(next_element))  # ==> ([8, 9, 10, 11],   [-8, -9, -10, -11])\n",
    "    print(sess.run(next_elementDS))  # ==> ([totalrooms (variable)],   [ Median house value(target)])\n",
    "    print(sess.run(next_elementDS))  # ==> ([4, 5, 6,   7],   [-4, -5,  -6,  -7])\n",
    "    print(sess.run(next_elementDS))  # ==> ([8, 9, 10, 11],   [-8, -9, -10, -11])"
   ]
  },
  {
   "cell_type": "code",
   "execution_count": 108,
   "metadata": {},
   "outputs": [
    {
     "data": {
      "text/plain": [
       "dict"
      ]
     },
     "execution_count": 108,
     "metadata": {},
     "output_type": "execute_result"
    }
   ],
   "source": [
    "type(features)"
   ]
  },
  {
   "cell_type": "code",
   "execution_count": 107,
   "metadata": {},
   "outputs": [
    {
     "data": {
      "text/plain": [
       "pandas.core.series.Series"
      ]
     },
     "execution_count": 107,
     "metadata": {},
     "output_type": "execute_result"
    }
   ],
   "source": [
    "type(targets)"
   ]
  },
  {
   "cell_type": "code",
   "execution_count": 61,
   "metadata": {},
   "outputs": [],
   "source": [
    "bc = {key:np.array(value) for key,value in dict(my_feature).items()} "
   ]
  },
  {
   "cell_type": "code",
   "execution_count": 82,
   "metadata": {},
   "outputs": [],
   "source": [
    "mf = dict(my_feature)\n",
    "mfi = dict(my_feature.items())"
   ]
  },
  {
   "cell_type": "code",
   "execution_count": 116,
   "metadata": {},
   "outputs": [
    {
     "name": "stdout",
     "output_type": "stream",
     "text": [
      "type mf: <class 'dict'>\n",
      "type mfi: <class 'dict'>\n",
      "-------------------------------\n",
      "keys mf: dict_keys(['total_rooms'])\n",
      "keys mfi: dict_keys(['total_rooms'])\n",
      "-------------------------------\n",
      "index[0] mf: 3994.0\n",
      "index[0] mfi: 3994.0\n",
      "-------------------------------\n"
     ]
    },
    {
     "data": {
      "text/plain": [
       "5612.0"
      ]
     },
     "execution_count": 116,
     "metadata": {},
     "output_type": "execute_result"
    }
   ],
   "source": [
    "print('type mf: {}'.format(type(mf)))\n",
    "print('type mfi: {}'.format(type(mfi)))\n",
    "print(\"-------------------------------\")\n",
    "print('keys mf: {}'.format(mf.keys()))\n",
    "print('keys mfi: {}'.format(mfi.keys()))\n",
    "print(\"-------------------------------\")\n",
    "print('index[0] mf: {}'.format(mf['total_rooms'][0]))\n",
    "print('index[0] mfi: {}'.format(mfi['total_rooms'][0]))\n",
    "print(\"-------------------------------\")\n",
    "bc['total_rooms'][0]"
   ]
  },
  {
   "cell_type": "code",
   "execution_count": 91,
   "metadata": {},
   "outputs": [
    {
     "name": "stdout",
     "output_type": "stream",
     "text": [
      "dict_keys(['hello', 'bye', 'tomi'])\n"
     ]
    }
   ],
   "source": [
    "print({'hello':0,'bye':1,'tomi':3}.keys())"
   ]
  },
  {
   "cell_type": "code",
   "execution_count": 109,
   "metadata": {},
   "outputs": [],
   "source": [
    "td = dict(targets)"
   ]
  },
  {
   "cell_type": "code",
   "execution_count": 113,
   "metadata": {},
   "outputs": [
    {
     "data": {
      "text/plain": [
       "111.6"
      ]
     },
     "execution_count": 113,
     "metadata": {},
     "output_type": "execute_result"
    }
   ],
   "source": [
    "td[1]"
   ]
  },
  {
   "cell_type": "code",
   "execution_count": 2,
   "metadata": {},
   "outputs": [],
   "source": [
    "a = (1,2)"
   ]
  },
  {
   "cell_type": "code",
   "execution_count": 3,
   "metadata": {},
   "outputs": [
    {
     "data": {
      "text/plain": [
       "(1, 2)"
      ]
     },
     "execution_count": 3,
     "metadata": {},
     "output_type": "execute_result"
    }
   ],
   "source": [
    "a"
   ]
  },
  {
   "cell_type": "code",
   "execution_count": 4,
   "metadata": {},
   "outputs": [
    {
     "data": {
      "text/plain": [
       "1"
      ]
     },
     "execution_count": 4,
     "metadata": {},
     "output_type": "execute_result"
    }
   ],
   "source": [
    "a[0]"
   ]
  },
  {
   "cell_type": "code",
   "execution_count": null,
   "metadata": {},
   "outputs": [],
   "source": []
  }
 ],
 "metadata": {
  "kernelspec": {
   "display_name": "Python 3",
   "language": "python",
   "name": "python3"
  },
  "language_info": {
   "codemirror_mode": {
    "name": "ipython",
    "version": 3
   },
   "file_extension": ".py",
   "mimetype": "text/x-python",
   "name": "python",
   "nbconvert_exporter": "python",
   "pygments_lexer": "ipython3",
   "version": "3.6.5"
  }
 },
 "nbformat": 4,
 "nbformat_minor": 2
}
