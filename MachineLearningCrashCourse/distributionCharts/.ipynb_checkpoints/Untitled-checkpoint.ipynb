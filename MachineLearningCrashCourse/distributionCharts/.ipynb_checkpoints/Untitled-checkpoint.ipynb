{
 "cells": [
  {
   "cell_type": "code",
   "execution_count": null,
   "metadata": {
    "collapsed": true
   },
   "outputs": [],
   "source": [
    "import numpy as np\n",
    "import pandas as pd\n",
    "from sklearn import metrics\n",
    "import tensorflow as tf\n",
    "from tensorflow.python.data import Dataset\n",
    "\n",
    "tf.logging.set_verbosity(tf.logging.ERROR)\n",
    "pd.options.display.max_rows = 10\n",
    "pd.options.display.float_format = '{:.1f}'.format"
   ]
  },
  {
   "cell_type": "code",
   "execution_count": 4,
   "metadata": {},
   "outputs": [
    {
     "data": {
      "text/html": [
       "<div>\n",
       "<style>\n",
       "    .dataframe thead tr:only-child th {\n",
       "        text-align: right;\n",
       "    }\n",
       "\n",
       "    .dataframe thead th {\n",
       "        text-align: left;\n",
       "    }\n",
       "\n",
       "    .dataframe tbody tr th {\n",
       "        vertical-align: top;\n",
       "    }\n",
       "</style>\n",
       "<table border=\"1\" class=\"dataframe\">\n",
       "  <thead>\n",
       "    <tr style=\"text-align: right;\">\n",
       "      <th></th>\n",
       "      <th>longitude</th>\n",
       "      <th>latitude</th>\n",
       "      <th>housing_median_age</th>\n",
       "      <th>total_rooms</th>\n",
       "      <th>total_bedrooms</th>\n",
       "      <th>population</th>\n",
       "      <th>households</th>\n",
       "      <th>median_income</th>\n",
       "      <th>median_house_value</th>\n",
       "    </tr>\n",
       "  </thead>\n",
       "  <tbody>\n",
       "    <tr>\n",
       "      <th>12398</th>\n",
       "      <td>-121.6</td>\n",
       "      <td>39.3</td>\n",
       "      <td>28.0</td>\n",
       "      <td>2332.0</td>\n",
       "      <td>395.0</td>\n",
       "      <td>1041.0</td>\n",
       "      <td>344.0</td>\n",
       "      <td>3.7</td>\n",
       "      <td>116.8</td>\n",
       "    </tr>\n",
       "    <tr>\n",
       "      <th>15767</th>\n",
       "      <td>-122.4</td>\n",
       "      <td>37.8</td>\n",
       "      <td>52.0</td>\n",
       "      <td>1866.0</td>\n",
       "      <td>748.0</td>\n",
       "      <td>2957.0</td>\n",
       "      <td>710.0</td>\n",
       "      <td>1.8</td>\n",
       "      <td>243.8</td>\n",
       "    </tr>\n",
       "    <tr>\n",
       "      <th>15539</th>\n",
       "      <td>-122.3</td>\n",
       "      <td>37.9</td>\n",
       "      <td>44.0</td>\n",
       "      <td>1769.0</td>\n",
       "      <td>332.0</td>\n",
       "      <td>828.0</td>\n",
       "      <td>309.0</td>\n",
       "      <td>4.1</td>\n",
       "      <td>150.8</td>\n",
       "    </tr>\n",
       "    <tr>\n",
       "      <th>819</th>\n",
       "      <td>-117.1</td>\n",
       "      <td>32.8</td>\n",
       "      <td>36.0</td>\n",
       "      <td>2028.0</td>\n",
       "      <td>349.0</td>\n",
       "      <td>820.0</td>\n",
       "      <td>352.0</td>\n",
       "      <td>4.0</td>\n",
       "      <td>168.9</td>\n",
       "    </tr>\n",
       "    <tr>\n",
       "      <th>8132</th>\n",
       "      <td>-118.4</td>\n",
       "      <td>34.2</td>\n",
       "      <td>40.0</td>\n",
       "      <td>1134.0</td>\n",
       "      <td>184.0</td>\n",
       "      <td>452.0</td>\n",
       "      <td>187.0</td>\n",
       "      <td>4.6</td>\n",
       "      <td>333.9</td>\n",
       "    </tr>\n",
       "    <tr>\n",
       "      <th>...</th>\n",
       "      <td>...</td>\n",
       "      <td>...</td>\n",
       "      <td>...</td>\n",
       "      <td>...</td>\n",
       "      <td>...</td>\n",
       "      <td>...</td>\n",
       "      <td>...</td>\n",
       "      <td>...</td>\n",
       "      <td>...</td>\n",
       "    </tr>\n",
       "    <tr>\n",
       "      <th>7436</th>\n",
       "      <td>-118.3</td>\n",
       "      <td>33.9</td>\n",
       "      <td>26.0</td>\n",
       "      <td>2159.0</td>\n",
       "      <td>523.0</td>\n",
       "      <td>1331.0</td>\n",
       "      <td>520.0</td>\n",
       "      <td>3.9</td>\n",
       "      <td>264.5</td>\n",
       "    </tr>\n",
       "    <tr>\n",
       "      <th>10037</th>\n",
       "      <td>-119.8</td>\n",
       "      <td>36.8</td>\n",
       "      <td>15.0</td>\n",
       "      <td>3356.0</td>\n",
       "      <td>694.0</td>\n",
       "      <td>1232.0</td>\n",
       "      <td>627.0</td>\n",
       "      <td>2.2</td>\n",
       "      <td>72.2</td>\n",
       "    </tr>\n",
       "    <tr>\n",
       "      <th>13720</th>\n",
       "      <td>-122.0</td>\n",
       "      <td>37.6</td>\n",
       "      <td>6.0</td>\n",
       "      <td>4405.0</td>\n",
       "      <td>717.0</td>\n",
       "      <td>2071.0</td>\n",
       "      <td>688.0</td>\n",
       "      <td>5.8</td>\n",
       "      <td>295.6</td>\n",
       "    </tr>\n",
       "    <tr>\n",
       "      <th>15931</th>\n",
       "      <td>-122.4</td>\n",
       "      <td>37.8</td>\n",
       "      <td>52.0</td>\n",
       "      <td>1862.0</td>\n",
       "      <td>472.0</td>\n",
       "      <td>872.0</td>\n",
       "      <td>471.0</td>\n",
       "      <td>3.3</td>\n",
       "      <td>222.7</td>\n",
       "    </tr>\n",
       "    <tr>\n",
       "      <th>12898</th>\n",
       "      <td>-121.8</td>\n",
       "      <td>37.4</td>\n",
       "      <td>29.0</td>\n",
       "      <td>4045.0</td>\n",
       "      <td>885.0</td>\n",
       "      <td>3036.0</td>\n",
       "      <td>845.0</td>\n",
       "      <td>3.2</td>\n",
       "      <td>171.7</td>\n",
       "    </tr>\n",
       "  </tbody>\n",
       "</table>\n",
       "<p>17000 rows × 9 columns</p>\n",
       "</div>"
      ],
      "text/plain": [
       "       longitude  latitude  housing_median_age  total_rooms  total_bedrooms  \\\n",
       "12398     -121.6      39.3                28.0       2332.0           395.0   \n",
       "15767     -122.4      37.8                52.0       1866.0           748.0   \n",
       "15539     -122.3      37.9                44.0       1769.0           332.0   \n",
       "819       -117.1      32.8                36.0       2028.0           349.0   \n",
       "8132      -118.4      34.2                40.0       1134.0           184.0   \n",
       "...          ...       ...                 ...          ...             ...   \n",
       "7436      -118.3      33.9                26.0       2159.0           523.0   \n",
       "10037     -119.8      36.8                15.0       3356.0           694.0   \n",
       "13720     -122.0      37.6                 6.0       4405.0           717.0   \n",
       "15931     -122.4      37.8                52.0       1862.0           472.0   \n",
       "12898     -121.8      37.4                29.0       4045.0           885.0   \n",
       "\n",
       "       population  households  median_income  median_house_value  \n",
       "12398      1041.0       344.0            3.7               116.8  \n",
       "15767      2957.0       710.0            1.8               243.8  \n",
       "15539       828.0       309.0            4.1               150.8  \n",
       "819         820.0       352.0            4.0               168.9  \n",
       "8132        452.0       187.0            4.6               333.9  \n",
       "...           ...         ...            ...                 ...  \n",
       "7436       1331.0       520.0            3.9               264.5  \n",
       "10037      1232.0       627.0            2.2                72.2  \n",
       "13720      2071.0       688.0            5.8               295.6  \n",
       "15931       872.0       471.0            3.3               222.7  \n",
       "12898      3036.0       845.0            3.2               171.7  \n",
       "\n",
       "[17000 rows x 9 columns]"
      ]
     },
     "execution_count": 4,
     "metadata": {},
     "output_type": "execute_result"
    }
   ],
   "source": [
    "california_housing_dataframe = pd.read_csv(\"california_housing_train.csv\", sep=\",\")\n",
    "california_housing_dataframe = california_housing_dataframe.reindex(np.random.permutation(california_housing_dataframe.index))\n",
    "california_housing_dataframe[\"median_house_value\"] /= 1000.0\n",
    "california_housing_dataframe"
   ]
  },
  {
   "cell_type": "code",
   "execution_count": 24,
   "metadata": {
    "collapsed": true
   },
   "outputs": [],
   "source": [
    "# Define the input feature: total_rooms.\n",
    "my_feature = california_housing_dataframe[[\"total_rooms\"]]\n",
    "\n",
    "# Configure a numeric feature column for total_rooms.\n",
    "feature_columns = [tf.feature_column.numeric_column(\"total_rooms\")]"
   ]
  },
  {
   "cell_type": "code",
   "execution_count": 27,
   "metadata": {
    "collapsed": true
   },
   "outputs": [],
   "source": [
    "features = {key:np.array(value) for key,value in dict(my_feature).items()} "
   ]
  },
  {
   "cell_type": "code",
   "execution_count": 34,
   "metadata": {},
   "outputs": [
    {
     "name": "stdout",
     "output_type": "stream",
     "text": [
      "total_rooms\n"
     ]
    }
   ],
   "source": [
    "for i in features:\n",
    "    print(i)"
   ]
  },
  {
   "cell_type": "code",
   "execution_count": 35,
   "metadata": {},
   "outputs": [
    {
     "data": {
      "text/plain": [
       "dict"
      ]
     },
     "execution_count": 35,
     "metadata": {},
     "output_type": "execute_result"
    }
   ],
   "source": [
    "type(features)"
   ]
  },
  {
   "cell_type": "code",
   "execution_count": 37,
   "metadata": {},
   "outputs": [
    {
     "name": "stdout",
     "output_type": "stream",
     "text": [
      "total_rooms\n"
     ]
    }
   ],
   "source": [
    "for i in features.keys():\n",
    "    print(i)"
   ]
  },
  {
   "cell_type": "code",
   "execution_count": 40,
   "metadata": {},
   "outputs": [
    {
     "data": {
      "text/plain": [
       "1866.0"
      ]
     },
     "execution_count": 40,
     "metadata": {},
     "output_type": "execute_result"
    }
   ],
   "source": [
    "features['total_rooms'][1]"
   ]
  },
  {
   "cell_type": "code",
   "execution_count": null,
   "metadata": {
    "collapsed": true
   },
   "outputs": [],
   "source": [
    "import csv\n",
    "import matplotlib.pyplot as plt\n",
    "\n",
    "def makeGraph(file,endCol,startCol=0):  \n",
    "    for col in range(startCol,endCol): #from the start col values in the dataset 9 catagories + 1 extra for the loop termination\n",
    "        values = []\n",
    "        fileName = file\n",
    "        # Fixing random state for reproducibility\n",
    "        with open(fileName+'.csv', 'r', newline='') as csvfile:\n",
    "            askreader = csv.reader(csvfile, delimiter=',', lineterminator='\\n')\n",
    "\n",
    "            for rows in askreader:\n",
    "                values.append(rows[col]) # from cols 11-20 are the values from the API\n",
    "\n",
    "        title = values[0]\n",
    "        print(title)\n",
    "        values = [float(i) for i in values[1:]] #converting values from string to floats for the chart\n",
    "\n",
    "        #bins = [0, 0.1, 0.2, 0.3, 0.4, 0.5, 0.6, 0.7, 0.8, 0.9, 1] #bins to sort numbers into based on values they fall between\n",
    "\n",
    "        # the histogram of the data\n",
    "        plt.hist(values,rwidth=0.6)\n",
    "        plt.xlabel('Values')\n",
    "        plt.ylabel('Count')\n",
    "        plt.title('{} Distribution of {}'.format(fileName, title))\n",
    "        plt.grid(True)\n",
    "        plt.savefig('{} {} Distribution.png'.format(fileName,title))\n",
    "        plt.clf() #clear the current graph, can be removed to see all values on one chart\n",
    "        print(\"Done\")\n",
    "\n",
    "    \n",
    "     "
   ]
  },
  {
   "cell_type": "code",
   "execution_count": null,
   "metadata": {
    "collapsed": true
   },
   "outputs": [],
   "source": [
    "makeGraph('california_housing_train',9)"
   ]
  }
 ],
 "metadata": {
  "kernelspec": {
   "display_name": "Python 3",
   "language": "python",
   "name": "python3"
  },
  "language_info": {
   "codemirror_mode": {
    "name": "ipython",
    "version": 3
   },
   "file_extension": ".py",
   "mimetype": "text/x-python",
   "name": "python",
   "nbconvert_exporter": "python",
   "pygments_lexer": "ipython3",
   "version": "3.6.3"
  }
 },
 "nbformat": 4,
 "nbformat_minor": 2
}
