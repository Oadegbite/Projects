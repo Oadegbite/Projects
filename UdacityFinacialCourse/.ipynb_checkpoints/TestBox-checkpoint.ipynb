{
 "cells": [
  {
   "cell_type": "code",
   "execution_count": 1,
   "metadata": {},
   "outputs": [],
   "source": [
    "import pandas as pd"
   ]
  },
  {
   "cell_type": "code",
   "execution_count": 34,
   "metadata": {},
   "outputs": [],
   "source": [
    "df = pd.read_csv('aapl.csv')"
   ]
  },
  {
   "cell_type": "code",
   "execution_count": 8,
   "metadata": {},
   "outputs": [
    {
     "data": {
      "text/html": [
       "<div>\n",
       "<style scoped>\n",
       "    .dataframe tbody tr th:only-of-type {\n",
       "        vertical-align: middle;\n",
       "    }\n",
       "\n",
       "    .dataframe tbody tr th {\n",
       "        vertical-align: top;\n",
       "    }\n",
       "\n",
       "    .dataframe thead th {\n",
       "        text-align: right;\n",
       "    }\n",
       "</style>\n",
       "<table border=\"1\" class=\"dataframe\">\n",
       "  <thead>\n",
       "    <tr style=\"text-align: right;\">\n",
       "      <th></th>\n",
       "      <th>Date</th>\n",
       "      <th>Open</th>\n",
       "      <th>High</th>\n",
       "      <th>Low</th>\n",
       "      <th>Close</th>\n",
       "      <th>Volume</th>\n",
       "      <th>Adj Close</th>\n",
       "    </tr>\n",
       "  </thead>\n",
       "  <tbody>\n",
       "    <tr>\n",
       "      <th>0</th>\n",
       "      <td>2008-10-14</td>\n",
       "      <td>116.26</td>\n",
       "      <td>116.40</td>\n",
       "      <td>103.14</td>\n",
       "      <td>104.08</td>\n",
       "      <td>70749800</td>\n",
       "      <td>104.08</td>\n",
       "    </tr>\n",
       "    <tr>\n",
       "      <th>1</th>\n",
       "      <td>2008-10-13</td>\n",
       "      <td>104.55</td>\n",
       "      <td>110.53</td>\n",
       "      <td>101.02</td>\n",
       "      <td>110.26</td>\n",
       "      <td>54967000</td>\n",
       "      <td>110.26</td>\n",
       "    </tr>\n",
       "    <tr>\n",
       "      <th>2</th>\n",
       "      <td>2008-10-10</td>\n",
       "      <td>85.70</td>\n",
       "      <td>100.00</td>\n",
       "      <td>85.00</td>\n",
       "      <td>96.80</td>\n",
       "      <td>79260700</td>\n",
       "      <td>96.80</td>\n",
       "    </tr>\n",
       "    <tr>\n",
       "      <th>3</th>\n",
       "      <td>2008-10-09</td>\n",
       "      <td>93.35</td>\n",
       "      <td>95.80</td>\n",
       "      <td>86.60</td>\n",
       "      <td>88.74</td>\n",
       "      <td>57763700</td>\n",
       "      <td>88.74</td>\n",
       "    </tr>\n",
       "    <tr>\n",
       "      <th>4</th>\n",
       "      <td>2008-10-08</td>\n",
       "      <td>85.91</td>\n",
       "      <td>96.33</td>\n",
       "      <td>85.68</td>\n",
       "      <td>89.79</td>\n",
       "      <td>78847900</td>\n",
       "      <td>89.79</td>\n",
       "    </tr>\n",
       "  </tbody>\n",
       "</table>\n",
       "</div>"
      ],
      "text/plain": [
       "         Date    Open    High     Low   Close    Volume  Adj Close\n",
       "0  2008-10-14  116.26  116.40  103.14  104.08  70749800     104.08\n",
       "1  2008-10-13  104.55  110.53  101.02  110.26  54967000     110.26\n",
       "2  2008-10-10   85.70  100.00   85.00   96.80  79260700      96.80\n",
       "3  2008-10-09   93.35   95.80   86.60   88.74  57763700      88.74\n",
       "4  2008-10-08   85.91   96.33   85.68   89.79  78847900      89.79"
      ]
     },
     "execution_count": 8,
     "metadata": {},
     "output_type": "execute_result"
    }
   ],
   "source": [
    "df.head()"
   ]
  },
  {
   "cell_type": "code",
   "execution_count": 7,
   "metadata": {},
   "outputs": [
    {
     "data": {
      "text/html": [
       "<div>\n",
       "<style scoped>\n",
       "    .dataframe tbody tr th:only-of-type {\n",
       "        vertical-align: middle;\n",
       "    }\n",
       "\n",
       "    .dataframe tbody tr th {\n",
       "        vertical-align: top;\n",
       "    }\n",
       "\n",
       "    .dataframe thead th {\n",
       "        text-align: right;\n",
       "    }\n",
       "</style>\n",
       "<table border=\"1\" class=\"dataframe\">\n",
       "  <thead>\n",
       "    <tr style=\"text-align: right;\">\n",
       "      <th></th>\n",
       "      <th>Date</th>\n",
       "      <th>Open</th>\n",
       "      <th>High</th>\n",
       "      <th>Low</th>\n",
       "      <th>Close</th>\n",
       "      <th>Volume</th>\n",
       "      <th>Adj Close</th>\n",
       "    </tr>\n",
       "  </thead>\n",
       "  <tbody>\n",
       "    <tr>\n",
       "      <th>10</th>\n",
       "      <td>2008-09-30</td>\n",
       "      <td>108.25</td>\n",
       "      <td>115.00</td>\n",
       "      <td>106.30</td>\n",
       "      <td>113.66</td>\n",
       "      <td>58095800</td>\n",
       "      <td>113.66</td>\n",
       "    </tr>\n",
       "    <tr>\n",
       "      <th>11</th>\n",
       "      <td>2008-09-29</td>\n",
       "      <td>119.62</td>\n",
       "      <td>119.68</td>\n",
       "      <td>100.59</td>\n",
       "      <td>105.26</td>\n",
       "      <td>93581400</td>\n",
       "      <td>105.26</td>\n",
       "    </tr>\n",
       "    <tr>\n",
       "      <th>12</th>\n",
       "      <td>2008-09-26</td>\n",
       "      <td>124.91</td>\n",
       "      <td>129.80</td>\n",
       "      <td>123.00</td>\n",
       "      <td>128.24</td>\n",
       "      <td>40208700</td>\n",
       "      <td>128.24</td>\n",
       "    </tr>\n",
       "    <tr>\n",
       "      <th>13</th>\n",
       "      <td>2008-09-25</td>\n",
       "      <td>129.80</td>\n",
       "      <td>134.79</td>\n",
       "      <td>128.52</td>\n",
       "      <td>131.93</td>\n",
       "      <td>35865600</td>\n",
       "      <td>131.93</td>\n",
       "    </tr>\n",
       "    <tr>\n",
       "      <th>14</th>\n",
       "      <td>2008-09-24</td>\n",
       "      <td>127.27</td>\n",
       "      <td>130.95</td>\n",
       "      <td>125.15</td>\n",
       "      <td>128.71</td>\n",
       "      <td>37393400</td>\n",
       "      <td>128.71</td>\n",
       "    </tr>\n",
       "    <tr>\n",
       "      <th>15</th>\n",
       "      <td>2008-09-23</td>\n",
       "      <td>131.85</td>\n",
       "      <td>135.80</td>\n",
       "      <td>126.66</td>\n",
       "      <td>126.84</td>\n",
       "      <td>45727300</td>\n",
       "      <td>126.84</td>\n",
       "    </tr>\n",
       "    <tr>\n",
       "      <th>16</th>\n",
       "      <td>2008-09-22</td>\n",
       "      <td>139.94</td>\n",
       "      <td>140.25</td>\n",
       "      <td>130.66</td>\n",
       "      <td>131.05</td>\n",
       "      <td>30577300</td>\n",
       "      <td>131.05</td>\n",
       "    </tr>\n",
       "    <tr>\n",
       "      <th>17</th>\n",
       "      <td>2008-09-19</td>\n",
       "      <td>142.60</td>\n",
       "      <td>144.20</td>\n",
       "      <td>136.31</td>\n",
       "      <td>140.91</td>\n",
       "      <td>51102700</td>\n",
       "      <td>140.91</td>\n",
       "    </tr>\n",
       "    <tr>\n",
       "      <th>18</th>\n",
       "      <td>2008-09-18</td>\n",
       "      <td>130.57</td>\n",
       "      <td>135.43</td>\n",
       "      <td>120.68</td>\n",
       "      <td>134.09</td>\n",
       "      <td>59819300</td>\n",
       "      <td>134.09</td>\n",
       "    </tr>\n",
       "    <tr>\n",
       "      <th>19</th>\n",
       "      <td>2008-09-17</td>\n",
       "      <td>138.49</td>\n",
       "      <td>138.51</td>\n",
       "      <td>127.83</td>\n",
       "      <td>127.83</td>\n",
       "      <td>42847200</td>\n",
       "      <td>127.83</td>\n",
       "    </tr>\n",
       "    <tr>\n",
       "      <th>20</th>\n",
       "      <td>2008-09-16</td>\n",
       "      <td>133.86</td>\n",
       "      <td>142.50</td>\n",
       "      <td>132.15</td>\n",
       "      <td>139.88</td>\n",
       "      <td>42804800</td>\n",
       "      <td>139.88</td>\n",
       "    </tr>\n",
       "  </tbody>\n",
       "</table>\n",
       "</div>"
      ],
      "text/plain": [
       "          Date    Open    High     Low   Close    Volume  Adj Close\n",
       "10  2008-09-30  108.25  115.00  106.30  113.66  58095800     113.66\n",
       "11  2008-09-29  119.62  119.68  100.59  105.26  93581400     105.26\n",
       "12  2008-09-26  124.91  129.80  123.00  128.24  40208700     128.24\n",
       "13  2008-09-25  129.80  134.79  128.52  131.93  35865600     131.93\n",
       "14  2008-09-24  127.27  130.95  125.15  128.71  37393400     128.71\n",
       "15  2008-09-23  131.85  135.80  126.66  126.84  45727300     126.84\n",
       "16  2008-09-22  139.94  140.25  130.66  131.05  30577300     131.05\n",
       "17  2008-09-19  142.60  144.20  136.31  140.91  51102700     140.91\n",
       "18  2008-09-18  130.57  135.43  120.68  134.09  59819300     134.09\n",
       "19  2008-09-17  138.49  138.51  127.83  127.83  42847200     127.83\n",
       "20  2008-09-16  133.86  142.50  132.15  139.88  42804800     139.88"
      ]
     },
     "execution_count": 7,
     "metadata": {},
     "output_type": "execute_result"
    }
   ],
   "source": [
    "df[10:21]"
   ]
  },
  {
   "cell_type": "code",
   "execution_count": 13,
   "metadata": {},
   "outputs": [],
   "source": [
    "def get_max_close(symbol):\n",
    "    df = pd.read_csv(\"{}.csv\".format(symbol))\n",
    "    return df['Close'].max()\n",
    "\n",
    "def get_max(symbol,cat):\n",
    "    df = pd.read_csv(\"{}.csv\".format(symbol))\n",
    "    return df[cat].max()\n",
    "\n",
    "def get_min(symbol,cat):\n",
    "    df = pd.read_csv(\"{}.csv\".format(symbol))\n",
    "    return df[cat].min()\n",
    "\n",
    "def get_mean(symbol,cat):\n",
    "    df = pd.read_csv(\"{}.csv\".format(symbol))\n",
    "    return df[cat].mean()"
   ]
  },
  {
   "cell_type": "code",
   "execution_count": 10,
   "metadata": {},
   "outputs": [
    {
     "data": {
      "text/plain": [
       "199.83"
      ]
     },
     "execution_count": 10,
     "metadata": {},
     "output_type": "execute_result"
    }
   ],
   "source": [
    "get_max_close(\"aapl\")"
   ]
  },
  {
   "cell_type": "code",
   "execution_count": 17,
   "metadata": {},
   "outputs": [
    {
     "data": {
      "text/plain": [
       "197.8"
      ]
     },
     "execution_count": 17,
     "metadata": {},
     "output_type": "execute_result"
    }
   ],
   "source": [
    "get_max('aapl','Low')"
   ]
  },
  {
   "cell_type": "code",
   "execution_count": 21,
   "metadata": {},
   "outputs": [],
   "source": [
    "import csv\n",
    "import matplotlib.pyplot as plt\n",
    "\n",
    "def makeGraph(file,endCol,startCol=0):  \n",
    "    for col in range(startCol,endCol): #from the start col values in the dataset 9 catagories + 1 extra for the loop termination\n",
    "        values = []\n",
    "        fileName = file\n",
    "        # Fixing random state for reproducibility\n",
    "        with open(fileName+'.csv', 'r', newline='') as csvfile:\n",
    "            askreader = csv.reader(csvfile, delimiter=',', lineterminator='\\n')\n",
    "\n",
    "            for rows in askreader:\n",
    "                values.append(rows[col]) # from cols 11-20 are the values from the API\n",
    "\n",
    "        title = values[0]\n",
    "        print(title)\n",
    "        values = [float(i) for i in values[1:]] #converting values from string to floats for the chart\n",
    "\n",
    "        #bins = [0, 0.1, 0.2, 0.3, 0.4, 0.5, 0.6, 0.7, 0.8, 0.9, 1] #bins to sort numbers into based on values they fall between\n",
    "\n",
    "        # the histogram of the data\n",
    "        plt.hist(values,rwidth=0.6)\n",
    "        plt.xlabel('Values')\n",
    "        plt.ylabel('Count')\n",
    "        plt.title('{} Distribution of {}'.format(fileName, title))\n",
    "        plt.grid(True)\n",
    "        plt.show()\n",
    "        plt.clf() #clear the current graph, can be removed to see all values on one chart\n",
    "        print(\"Done\")\n"
   ]
  },
  {
   "cell_type": "code",
   "execution_count": 22,
   "metadata": {},
   "outputs": [
    {
     "name": "stdout",
     "output_type": "stream",
     "text": [
      "Open\n"
     ]
    },
    {
     "data": {
      "image/png": "[encoded data removed]",
      "text/plain": [
       "<Figure size 432x288 with 1 Axes>"
      ]
     },
     "metadata": {},
     "output_type": "display_data"
    },
    {
     "name": "stdout",
     "output_type": "stream",
     "text": [
      "Done\n",
      "High\n"
     ]
    },
    {
     "data": {
      "image/png": "[encoded data removed]",
      "text/plain": [
       "<Figure size 432x288 with 1 Axes>"
      ]
     },
     "metadata": {},
     "output_type": "display_data"
    },
    {
     "name": "stdout",
     "output_type": "stream",
     "text": [
      "Done\n",
      "Low\n"
     ]
    },
    {
     "data": {
      "image/png": "[encoded data removed]",
      "text/plain": [
       "<Figure size 432x288 with 1 Axes>"
      ]
     },
     "metadata": {},
     "output_type": "display_data"
    },
    {
     "name": "stdout",
     "output_type": "stream",
     "text": [
      "Done\n",
      "Close\n"
     ]
    },
    {
     "data": {
      "image/png": "[encoded data removed]",
      "text/plain": [
       "<Figure size 432x288 with 1 Axes>"
      ]
     },
     "metadata": {},
     "output_type": "display_data"
    },
    {
     "name": "stdout",
     "output_type": "stream",
     "text": [
      "Done\n",
      "Volume\n"
     ]
    },
    {
     "data": {
      "image/png": "[encoded data removed]",
      "text/plain": [
       "<Figure size 432x288 with 1 Axes>"
      ]
     },
     "metadata": {},
     "output_type": "display_data"
    },
    {
     "name": "stdout",
     "output_type": "stream",
     "text": [
      "Done\n"
     ]
    },
    {
     "data": {
      "text/plain": [
       "<Figure size 432x288 with 0 Axes>"
      ]
     },
     "metadata": {},
     "output_type": "display_data"
    }
   ],
   "source": [
    "makeGraph('aapl',6,1)"
   ]
  },
  {
   "cell_type": "code",
   "execution_count": 23,
   "metadata": {
    "scrolled": true
   },
   "outputs": [
    {
     "ename": "SyntaxError",
     "evalue": "invalid syntax (<ipython-input-23-687e81d0ed29>, line 1)",
     "output_type": "error",
     "traceback": [
      "\u001b[1;36m  File \u001b[1;32m\"<ipython-input-23-687e81d0ed29>\"\u001b[1;36m, line \u001b[1;32m1\u001b[0m\n\u001b[1;33m    url = \"https://finance.yahoo.com/quote/{}/history?p={}\".format{symbol}\u001b[0m\n\u001b[1;37m                                                                  ^\u001b[0m\n\u001b[1;31mSyntaxError\u001b[0m\u001b[1;31m:\u001b[0m invalid syntax\n"
     ]
    }
   ],
   "source": [
    "url = \"https://finance.yahoo.com/quote/{}/history?p={}\".format{symbol} # for future pulling from yahoo?"
   ]
  },
  {
   "cell_type": "code",
   "execution_count": 25,
   "metadata": {},
   "outputs": [],
   "source": [
    "myList = pd.read_csv(\"quotes.csv\")"
   ]
  },
  {
   "cell_type": "code",
   "execution_count": 28,
   "metadata": {},
   "outputs": [],
   "source": [
    "Following = myList['Symbol']"
   ]
  },
  {
   "cell_type": "code",
   "execution_count": 33,
   "metadata": {},
   "outputs": [
    {
     "name": "stdout",
     "output_type": "stream",
     "text": [
      "0700.HK :  MAX : Close : 372.600006\n",
      "0700.HK :  MIN : Close : 325.799988\n",
      "TCEHY :  MAX : Close : 47.549999\n",
      "TCEHY :  MIN : Close : 41.25\n",
      "BABA :  MAX : Close : 182.600006\n",
      "BABA :  MIN : Close : 169.830002\n",
      "NFLX :  MAX : Close : 370.980011\n",
      "NFLX :  MIN : Close : 316.77999900000003\n",
      "AAPL :  MAX : Close : 227.63000499999998\n",
      "AAPL :  MIN : Close : 207.110001\n",
      "FB :  MAX : Close : 185.690002\n",
      "FB :  MIN : Close : 172.5\n",
      "TSLA :  MAX : Close : 379.570007\n",
      "TSLA :  MIN : Close : 301.660004\n",
      "NVDA :  MAX : Close : 280.679993\n",
      "NVDA :  MIN : Close : 244.82000699999998\n",
      "IBM :  MAX : Close : 147.699997\n",
      "IBM :  MIN : Close : 142.71000700000002\n",
      "INTC :  MAX : Close : 50.139998999999996\n",
      "INTC :  MIN : Close : 46.5\n",
      "AMZN :  MAX : Close : 2012.709961\n",
      "AMZN :  MIN : Close : 1823.290039\n",
      "GOOG :  MAX : Close : 1249.300049\n",
      "GOOG :  MIN : Close : 1200.959961\n"
     ]
    }
   ],
   "source": [
    "for sy in Following:\n",
    "    cat = \"Close\"\n",
    "    print(\"{} :  MAX : {} : {}\".format(sy,cat,get_max(sy,cat)))\n",
    "    print(\"{} :  MIN : {} : {}\".format(sy,cat,get_min(sy,cat)))"
   ]
  },
  {
   "cell_type": "code",
   "execution_count": null,
   "metadata": {},
   "outputs": [],
   "source": []
  },
  {
   "cell_type": "code",
   "execution_count": null,
   "metadata": {},
   "outputs": [],
   "source": []
  }
 ],
 "metadata": {
  "kernelspec": {
   "display_name": "Python 3",
   "language": "python",
   "name": "python3"
  },
  "language_info": {
   "codemirror_mode": {
    "name": "ipython",
    "version": 3
   },
   "file_extension": ".py",
   "mimetype": "text/x-python",
   "name": "python",
   "nbconvert_exporter": "python",
   "pygments_lexer": "ipython3",
   "version": "3.6.5"
  }
 },
 "nbformat": 4,
 "nbformat_minor": 2
}
