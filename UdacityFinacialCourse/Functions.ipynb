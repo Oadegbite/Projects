{
 "cells": [
  {
   "cell_type": "code",
   "execution_count": 1,
   "metadata": {},
   "outputs": [],
   "source": [
    "import csv\n",
    "import matplotlib.pyplot as plt\n",
    "\n",
    "def makeGraph(file,endCol,startCol=0):  \n",
    "    for col in range(startCol,endCol): #from the start col values in the dataset 9 catagories + 1 extra for the loop termination\n",
    "        values = []\n",
    "        fileName = file\n",
    "        # Fixing random state for reproducibility\n",
    "        with open(fileName+'.csv', 'r', newline='') as csvfile:\n",
    "            askreader = csv.reader(csvfile, delimiter=',', lineterminator='\\n')\n",
    "\n",
    "            for rows in askreader:\n",
    "                values.append(rows[col]) # from cols 11-20 are the values from the API\n",
    "\n",
    "        title = values[0]\n",
    "        valuesN = list()\n",
    "        print(title)\n",
    "        for i in values[1:]:\n",
    "            if not i == 'null':\n",
    "                valuesN.append(float(i))\n",
    "                #converting values from string to floats for the chart\n",
    "\n",
    "        #bins = [0, 0.1, 0.2, 0.3, 0.4, 0.5, 0.6, 0.7, 0.8, 0.9, 1] #bins to sort numbers into based on values they fall between\n",
    "\n",
    "        # the histogram of the data\n",
    "        plt.hist(valuesN,rwidth=0.6)\n",
    "        plt.xlabel('Values')\n",
    "        plt.ylabel('Count')\n",
    "        plt.title('{} Distribution of {}'.format(fileName, title))\n",
    "        plt.grid(True)\n",
    "        plt.show()\n",
    "        plt.clf() #clear the current graph, can be removed to see all values on one chart\n",
    "        print(\"Done\")"
   ]
  },
  {
   "cell_type": "code",
   "execution_count": 2,
   "metadata": {},
   "outputs": [],
   "source": [
    "def makePlots(FollowFrame,endCol,startCol=0):\n",
    "    for py in FollowFrame:\n",
    "        cat = [\"Close\",\"Adj Close\"]\n",
    "        print(\"{} : {} Plot\".format(py, cat))\n",
    "        df = pd.read_csv(\"{}.csv\".format(py))\n",
    "        df[cat].plot()\n",
    "        plt.show()"
   ]
  },
  {
   "cell_type": "code",
   "execution_count": 3,
   "metadata": {},
   "outputs": [],
   "source": [
    "def MakeJoin(FollowFrame, Catagory,start_date='2010-01-22', end_date = '2018-01-26'):\n",
    "    dates = pd.date_range(start_date,end_date)\n",
    "    \n",
    "    df1 = pd.DataFrame(index=dates) # make dates into a empty dataframe to merge with stock data\n",
    "    catArray=['Date',Catagory]\n",
    "    for i in range(len(FollowFrame)):\n",
    "        df_temp = pd.read_csv(\"{}.csv\".format(FollowFrame[i]),index_col='Date',parse_dates=True,usecols=catArray,na_values=['nan'])\n",
    "        df_temp = df_temp.rename(columns={ Catagory : FollowFrame[i]})\n",
    "        if i == 0:\n",
    "            df1 = df1.join(df_temp,how='inner')\n",
    "        else:\n",
    "            df1 = df1.join(df_temp)\n",
    "    return df1"
   ]
  },
  {
   "cell_type": "code",
   "execution_count": 4,
   "metadata": {},
   "outputs": [],
   "source": [
    "def dfPlot(dataFrame,title=\"Stock prices\"):\n",
    "    ax = dataFrame.plot(title=title,fontsize=10)\n",
    "    ax.set_xlabel(\"Date\")\n",
    "    ax.set_ylabel(\"Price\")\n",
    "    plt.show()"
   ]
  },
  {
   "cell_type": "code",
   "execution_count": 5,
   "metadata": {},
   "outputs": [],
   "source": [
    "def normalize(dataFrame):\n",
    "    return dataFrame/dataFrame.iloc[0]"
   ]
  },
  {
   "cell_type": "code",
   "execution_count": 6,
   "metadata": {},
   "outputs": [],
   "source": [
    "def get_rolling_mean(df, window):\n",
    "    \"\"\"Return rolling mean of given values, using specified window size.\"\"\"\n",
    "    return df.rolling(window).mean()"
   ]
  },
  {
   "cell_type": "code",
   "execution_count": 7,
   "metadata": {},
   "outputs": [],
   "source": [
    "def get_rolling_std(df, window):\n",
    "    \"\"\"Return rolling standard deviation of given values, using specified window size.\"\"\"\n",
    "    # TODO: Compute and return rolling standard deviation\n",
    "    return df.rolling(window).std()"
   ]
  },
  {
   "cell_type": "code",
   "execution_count": 1,
   "metadata": {},
   "outputs": [],
   "source": [
    "def compute_daily_returns(df):\n",
    "    \"\"\"Compute and return the daily return values.\"\"\"\n",
    "    # TODO: Your code here\n",
    "    # Note: Returned DataFrame must have the same number of rows\n",
    "    d_returns = df.copy()\n",
    "    d_returns[1:] = (df[1:].values / df[:-1]) - 1\n",
    "    d_returns.iloc[0, :] = 0\n",
    "    return d_returns"
   ]
  },
  {
   "cell_type": "code",
   "execution_count": null,
   "metadata": {},
   "outputs": [],
   "source": [
    "def compute_cumulative_returns(df):\n",
    "    \"\"\"Compute and return the cumulative return values.\"\"\"\n",
    "    # TODO: Your code here\n",
    "    # Note: Returned DataFrame must have the same number of rows\n"
   ]
  }
 ],
 "metadata": {
  "kernelspec": {
   "display_name": "Python 3",
   "language": "python",
   "name": "python3"
  },
  "language_info": {
   "codemirror_mode": {
    "name": "ipython",
    "version": 3
   },
   "file_extension": ".py",
   "mimetype": "text/x-python",
   "name": "python",
   "nbconvert_exporter": "python",
   "pygments_lexer": "ipython3",
   "version": "3.7.3"
  }
 },
 "nbformat": 4,
 "nbformat_minor": 2
}
