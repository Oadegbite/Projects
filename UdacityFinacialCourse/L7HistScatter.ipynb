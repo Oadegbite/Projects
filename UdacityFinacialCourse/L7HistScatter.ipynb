{
 "cells": [
  {
   "cell_type": "code",
   "execution_count": 1,
   "metadata": {},
   "outputs": [],
   "source": [
    "import pandas as pd\n",
    "import matplotlib.pyplot as plt\n",
    "import numpy as np\n",
    "%matplotlib inline"
   ]
  },
  {
   "cell_type": "code",
   "execution_count": 31,
   "metadata": {},
   "outputs": [],
   "source": [
    "import scipy.optimize as spo"
   ]
  },
  {
   "cell_type": "code",
   "execution_count": 2,
   "metadata": {},
   "outputs": [],
   "source": [
    "def compute_daily_returns(df):\n",
    "    \"\"\"Compute and return the daily return values.\"\"\"\n",
    "    # TODO: Your code here\n",
    "    # Note: Returned DataFrame must have the same number of rows\n",
    "    d_returns = df.copy()\n",
    "    d_returns[1:] = (df[1:].values / df[:-1]) - 1\n",
    "    d_returns.iloc[0, :] = 0\n",
    "    return d_returns"
   ]
  },
  {
   "cell_type": "code",
   "execution_count": 3,
   "metadata": {},
   "outputs": [],
   "source": [
    "dfSHOP = pd.read_csv('SHOP.csv',index_col='Date',parse_dates=True)"
   ]
  },
  {
   "cell_type": "code",
   "execution_count": 4,
   "metadata": {},
   "outputs": [],
   "source": [
    "dfSQ = pd.read_csv('SQ.csv',index_col='Date',parse_dates=True)"
   ]
  },
  {
   "cell_type": "code",
   "execution_count": 5,
   "metadata": {},
   "outputs": [],
   "source": [
    "drSQ = compute_daily_returns(dfSQ)"
   ]
  },
  {
   "cell_type": "code",
   "execution_count": 6,
   "metadata": {},
   "outputs": [],
   "source": [
    "drSHOP = compute_daily_returns(dfSHOP)"
   ]
  },
  {
   "cell_type": "code",
   "execution_count": 7,
   "metadata": {},
   "outputs": [
    {
     "data": {
      "text/html": [
       "<div>\n",
       "<style scoped>\n",
       "    .dataframe tbody tr th:only-of-type {\n",
       "        vertical-align: middle;\n",
       "    }\n",
       "\n",
       "    .dataframe tbody tr th {\n",
       "        vertical-align: top;\n",
       "    }\n",
       "\n",
       "    .dataframe thead th {\n",
       "        text-align: right;\n",
       "    }\n",
       "</style>\n",
       "<table border=\"1\" class=\"dataframe\">\n",
       "  <thead>\n",
       "    <tr style=\"text-align: right;\">\n",
       "      <th></th>\n",
       "      <th>Open</th>\n",
       "      <th>High</th>\n",
       "      <th>Low</th>\n",
       "      <th>Close</th>\n",
       "      <th>Adj Close</th>\n",
       "      <th>Volume</th>\n",
       "    </tr>\n",
       "    <tr>\n",
       "      <th>Date</th>\n",
       "      <th></th>\n",
       "      <th></th>\n",
       "      <th></th>\n",
       "      <th></th>\n",
       "      <th></th>\n",
       "      <th></th>\n",
       "    </tr>\n",
       "  </thead>\n",
       "  <tbody>\n",
       "    <tr>\n",
       "      <th>2015-05-20</th>\n",
       "      <td>0.000000</td>\n",
       "      <td>0.000000</td>\n",
       "      <td>0.000000</td>\n",
       "      <td>0.000000</td>\n",
       "      <td>0.000000</td>\n",
       "      <td>0.000000</td>\n",
       "    </tr>\n",
       "    <tr>\n",
       "      <th>2015-05-21</th>\n",
       "      <td>-0.068929</td>\n",
       "      <td>0.082116</td>\n",
       "      <td>0.078391</td>\n",
       "      <td>0.102414</td>\n",
       "      <td>0.102414</td>\n",
       "      <td>-0.769081</td>\n",
       "    </tr>\n",
       "    <tr>\n",
       "      <th>2015-05-22</th>\n",
       "      <td>0.143076</td>\n",
       "      <td>-0.024437</td>\n",
       "      <td>0.118462</td>\n",
       "      <td>0.047333</td>\n",
       "      <td>0.047333</td>\n",
       "      <td>-0.711319</td>\n",
       "    </tr>\n",
       "    <tr>\n",
       "      <th>2015-05-26</th>\n",
       "      <td>0.029195</td>\n",
       "      <td>0.015491</td>\n",
       "      <td>-0.071527</td>\n",
       "      <td>-0.072513</td>\n",
       "      <td>-0.072513</td>\n",
       "      <td>-0.027554</td>\n",
       "    </tr>\n",
       "    <tr>\n",
       "      <th>2015-05-27</th>\n",
       "      <td>-0.101728</td>\n",
       "      <td>-0.099643</td>\n",
       "      <td>-0.019259</td>\n",
       "      <td>-0.001818</td>\n",
       "      <td>-0.001818</td>\n",
       "      <td>-0.498495</td>\n",
       "    </tr>\n",
       "    <tr>\n",
       "      <th>...</th>\n",
       "      <td>...</td>\n",
       "      <td>...</td>\n",
       "      <td>...</td>\n",
       "      <td>...</td>\n",
       "      <td>...</td>\n",
       "      <td>...</td>\n",
       "    </tr>\n",
       "    <tr>\n",
       "      <th>2020-06-26</th>\n",
       "      <td>-0.002194</td>\n",
       "      <td>-0.004363</td>\n",
       "      <td>-0.019653</td>\n",
       "      <td>0.013648</td>\n",
       "      <td>0.013648</td>\n",
       "      <td>0.007241</td>\n",
       "    </tr>\n",
       "    <tr>\n",
       "      <th>2020-06-29</th>\n",
       "      <td>0.012593</td>\n",
       "      <td>0.038743</td>\n",
       "      <td>0.051995</td>\n",
       "      <td>0.029032</td>\n",
       "      <td>0.029032</td>\n",
       "      <td>0.003138</td>\n",
       "    </tr>\n",
       "    <tr>\n",
       "      <th>2020-06-30</th>\n",
       "      <td>0.024322</td>\n",
       "      <td>0.061673</td>\n",
       "      <td>0.028210</td>\n",
       "      <td>0.071049</td>\n",
       "      <td>0.071049</td>\n",
       "      <td>0.254338</td>\n",
       "    </tr>\n",
       "    <tr>\n",
       "      <th>2020-07-01</th>\n",
       "      <td>0.091750</td>\n",
       "      <td>0.040820</td>\n",
       "      <td>0.078048</td>\n",
       "      <td>0.013112</td>\n",
       "      <td>0.013112</td>\n",
       "      <td>0.001769</td>\n",
       "    </tr>\n",
       "    <tr>\n",
       "      <th>2020-07-02</th>\n",
       "      <td>NaN</td>\n",
       "      <td>NaN</td>\n",
       "      <td>NaN</td>\n",
       "      <td>NaN</td>\n",
       "      <td>NaN</td>\n",
       "      <td>NaN</td>\n",
       "    </tr>\n",
       "  </tbody>\n",
       "</table>\n",
       "<p>1290 rows × 6 columns</p>\n",
       "</div>"
      ],
      "text/plain": [
       "                Open      High       Low     Close  Adj Close    Volume\n",
       "Date                                                                   \n",
       "2015-05-20  0.000000  0.000000  0.000000  0.000000   0.000000  0.000000\n",
       "2015-05-21 -0.068929  0.082116  0.078391  0.102414   0.102414 -0.769081\n",
       "2015-05-22  0.143076 -0.024437  0.118462  0.047333   0.047333 -0.711319\n",
       "2015-05-26  0.029195  0.015491 -0.071527 -0.072513  -0.072513 -0.027554\n",
       "2015-05-27 -0.101728 -0.099643 -0.019259 -0.001818  -0.001818 -0.498495\n",
       "...              ...       ...       ...       ...        ...       ...\n",
       "2020-06-26 -0.002194 -0.004363 -0.019653  0.013648   0.013648  0.007241\n",
       "2020-06-29  0.012593  0.038743  0.051995  0.029032   0.029032  0.003138\n",
       "2020-06-30  0.024322  0.061673  0.028210  0.071049   0.071049  0.254338\n",
       "2020-07-01  0.091750  0.040820  0.078048  0.013112   0.013112  0.001769\n",
       "2020-07-02       NaN       NaN       NaN       NaN        NaN       NaN\n",
       "\n",
       "[1290 rows x 6 columns]"
      ]
     },
     "execution_count": 7,
     "metadata": {},
     "output_type": "execute_result"
    }
   ],
   "source": [
    "drSHOP"
   ]
  },
  {
   "cell_type": "code",
   "execution_count": 8,
   "metadata": {},
   "outputs": [],
   "source": [
    "mean = drSQ['Close'].mean()"
   ]
  },
  {
   "cell_type": "code",
   "execution_count": 9,
   "metadata": {},
   "outputs": [
    {
     "data": {
      "text/plain": [
       "0.0024545822674342365"
      ]
     },
     "execution_count": 9,
     "metadata": {},
     "output_type": "execute_result"
    }
   ],
   "source": [
    "mean"
   ]
  },
  {
   "cell_type": "code",
   "execution_count": 10,
   "metadata": {},
   "outputs": [],
   "source": [
    "std = drSQ['Close'].std()"
   ]
  },
  {
   "cell_type": "code",
   "execution_count": 11,
   "metadata": {},
   "outputs": [
    {
     "data": {
      "text/plain": [
       "<matplotlib.legend.Legend at 0x7fcb56e4d9d0>"
      ]
     },
     "execution_count": 11,
     "metadata": {},
     "output_type": "execute_result"
    },
    {
     "data": {
      "image/png": "[encoded data removed]",
      "text/plain": [
       "<Figure size 432x288 with 1 Axes>"
      ]
     },
     "metadata": {
      "needs_background": "light"
     },
     "output_type": "display_data"
    }
   ],
   "source": [
    "plt.axvline(mean,color='w',linestyle='dashed', linewidth=2)\n",
    "plt.axvline(std,color='r',linestyle='dashed', linewidth=2)\n",
    "plt.axvline(-std,color='r',linestyle='dashed', linewidth=2)\n",
    "drSQ['Close'].hist(bins=20, label='SQ')\n",
    "drSHOP['Close'].hist(bins=20, label='SHOP')\n",
    "plt.legend()"
   ]
  },
  {
   "cell_type": "code",
   "execution_count": 12,
   "metadata": {},
   "outputs": [],
   "source": [
    "def make_join(FollowFrame, Catagory,start_date='2019-01-01', end_date = '2020-06-29'):\n",
    "    dates = pd.date_range(start_date,end_date)\n",
    "    \n",
    "    df1 = pd.DataFrame(index=dates) # make dates into a empty dataframe to merge with stock data\n",
    "    catArray=['Date',Catagory]\n",
    "    for i in range(len(FollowFrame)):\n",
    "        df_temp = pd.read_csv(\"{}.csv\".format(FollowFrame[i]),index_col='Date',parse_dates=True,usecols=catArray,na_values=['nan'])\n",
    "        df_temp = df_temp.rename(columns={ Catagory : FollowFrame[i]})\n",
    "        if i == 0:\n",
    "            df1 = df1.join(df_temp,how='inner')\n",
    "        else:\n",
    "            df1 = df1.join(df_temp)\n",
    "    return df1"
   ]
  },
  {
   "cell_type": "code",
   "execution_count": 13,
   "metadata": {},
   "outputs": [],
   "source": [
    "shop_sq = make_join([\"SHOP\",\"SQ\"],'Close')"
   ]
  },
  {
   "cell_type": "code",
   "execution_count": 14,
   "metadata": {},
   "outputs": [],
   "source": [
    "shop_sq_dr = compute_daily_returns(shop_sq)"
   ]
  },
  {
   "cell_type": "code",
   "execution_count": 15,
   "metadata": {},
   "outputs": [],
   "source": [
    "shop_sq_dr = shop_sq_dr[:-1]"
   ]
  },
  {
   "cell_type": "code",
   "execution_count": 16,
   "metadata": {},
   "outputs": [
    {
     "data": {
      "image/png": "[encoded data removed]",
      "text/plain": [
       "<Figure size 432x288 with 1 Axes>"
      ]
     },
     "metadata": {
      "needs_background": "light"
     },
     "output_type": "display_data"
    }
   ],
   "source": [
    "shop_sq_dr.plot(kind='scatter',x='SHOP',y='SQ')\n",
    "beta_SHOP,aplha_SHOP = np.polyfit(shop_sq_dr['SHOP'],shop_sq_dr['SQ'],1)\n",
    "plt.plot(shop_sq_dr['SHOP'],beta_SHOP*shop_sq_dr['SHOP']+aplha_SHOP,'-',color='r')\n",
    "plt.show()"
   ]
  },
  {
   "cell_type": "code",
   "execution_count": 34,
   "metadata": {},
   "outputs": [
    {
     "ename": "IndexError",
     "evalue": "invalid index to scalar variable.",
     "output_type": "error",
     "traceback": [
      "\u001b[0;31m---------------------------------------------------------------------------\u001b[0m",
      "\u001b[0;31mIndexError\u001b[0m                                Traceback (most recent call last)",
      "\u001b[0;32m<ipython-input-34-232825bd7e98>\u001b[0m in \u001b[0;36m<module>\u001b[0;34m\u001b[0m\n\u001b[0;32m----> 1\u001b[0;31m \u001b[0maplha_SHOP\u001b[0m\u001b[0;34m[\u001b[0m\u001b[0;34m:\u001b[0m\u001b[0;34m,\u001b[0m\u001b[0;36m1\u001b[0m\u001b[0;34m]\u001b[0m\u001b[0;34m\u001b[0m\u001b[0;34m\u001b[0m\u001b[0m\n\u001b[0m",
      "\u001b[0;31mIndexError\u001b[0m: invalid index to scalar variable."
     ]
    }
   ],
   "source": [
    "aplha_SHOP"
   ]
  },
  {
   "cell_type": "code",
   "execution_count": 18,
   "metadata": {},
   "outputs": [],
   "source": [
    "def daily_portfolio_value(df,allocations):\n",
    "    normed = df / df[0]"
   ]
  },
  {
   "cell_type": "code",
   "execution_count": 79,
   "metadata": {},
   "outputs": [],
   "source": [
    "def error_poly(C, data):\n",
    "    \"\"\"\n",
    "    C: array with polynomial coefficeinets\n",
    "    data: 2D array where each row is (x,y) pair\n",
    "    \"\"\"\n",
    "    err= sum((data[:,1]- np.polyval(C,data[:,0]))**2)\n",
    "    return err"
   ]
  },
  {
   "cell_type": "code",
   "execution_count": 82,
   "metadata": {},
   "outputs": [],
   "source": [
    "def fit_poly(data, error_func, degree=3):\n",
    "    \"\"\"\n",
    "     data: 2D array where each row is (x,y) pair (points from function)\n",
    "     error_func: function to computure real value from polynomial & observed distances\n",
    "    \"\"\"\n",
    "    Cguess = np.poly1d(np.ones(degree +1,dtype=np.float32))\n",
    "    \n",
    "    x = np.linspace(-5,5,21)\n",
    "    plt.plot(x,np.polyval(Cguess,x),'m--',linewidth=2.0,label='Initial guess')\n",
    "    \n",
    "    result = spo.minimize(error_func,Cguess,args=(data,),method='SLSQP',options={'disp':False})\n",
    "    return np.poly1d(result.x)"
   ]
  },
  {
   "cell_type": "code",
   "execution_count": 74,
   "metadata": {},
   "outputs": [],
   "source": [
    "def f(x):\n",
    "    return (2.45*(x**4)) + (31.44*(x**3)) - (45.33*(x**2)) + (37.2*(x))-39\n",
    "\n",
    "x = np.linspace(-5,5,21)\n",
    "y = []\n",
    "for i in x:\n",
    "    y.append(f(i))\n",
    "\n",
    "    \n",
    "list_arr = []\n",
    "for i in range(len(x)):\n",
    "    list_arr.append([x[i],y[i]])\n",
    "\n",
    "l_a = np.array(list_arr)"
   ]
  },
  {
   "cell_type": "code",
   "execution_count": 83,
   "metadata": {},
   "outputs": [
    {
     "data": {
      "text/plain": [
       "poly1d([  2.44999986,  31.43999996, -45.32999683,  37.20000062,\n",
       "       -39.00000832])"
      ]
     },
     "execution_count": 83,
     "metadata": {},
     "output_type": "execute_result"
    },
    {
     "data": {
      "image/png": "[encoded data removed]",
      "text/plain": [
       "<Figure size 432x288 with 1 Axes>"
      ]
     },
     "metadata": {
      "needs_background": "light"
     },
     "output_type": "display_data"
    }
   ],
   "source": [
    "fit_poly(l_a,error_poly,degree=4)"
   ]
  },
  {
   "cell_type": "code",
   "execution_count": 87,
   "metadata": {},
   "outputs": [
    {
     "data": {
      "text/plain": [
       "[<matplotlib.lines.Line2D at 0x7fcb46bca0d0>]"
      ]
     },
     "execution_count": 87,
     "metadata": {},
     "output_type": "execute_result"
    },
    {
     "data": {
      "image/png": "[encoded data removed]",
      "text/plain": [
       "<Figure size 432x288 with 1 Axes>"
      ]
     },
     "metadata": {
      "needs_background": "light"
     },
     "output_type": "display_data"
    }
   ],
   "source": [
    "plt.scatter(x=x,y=y)\n",
    "plt.plot(x,y,'m--',color='red')\n",
    "x_f = fit_poly(l_a,error_poly,degree=4)\n",
    "plt.plot(x,np.polyval(x_f,x),'m--',color='blue',linewidth=2.0,label='Optimized')"
   ]
  },
  {
   "cell_type": "code",
   "execution_count": null,
   "metadata": {},
   "outputs": [],
   "source": []
  }
 ],
 "metadata": {
  "kernelspec": {
   "display_name": "Python 3",
   "language": "python",
   "name": "python3"
  },
  "language_info": {
   "codemirror_mode": {
    "name": "ipython",
    "version": 3
   },
   "file_extension": ".py",
   "mimetype": "text/x-python",
   "name": "python",
   "nbconvert_exporter": "python",
   "pygments_lexer": "ipython3",
   "version": "3.7.6"
  }
 },
 "nbformat": 4,
 "nbformat_minor": 4
}
