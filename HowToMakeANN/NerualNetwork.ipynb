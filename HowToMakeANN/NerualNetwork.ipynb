{
 "cells": [
  {
   "cell_type": "code",
   "execution_count": 32,
   "metadata": {},
   "outputs": [],
   "source": [
    "import numpy as np\n",
    "import scipy.special\n",
    "import matplotlib.pyplot as plt"
   ]
  },
  {
   "cell_type": "code",
   "execution_count": 39,
   "metadata": {},
   "outputs": [],
   "source": [
    "class NerualNetwork:\n",
    "    \n",
    "    def __init__(self,inputNodes,hiddenNodes,outputNodes,learningRate):\n",
    "        self.inodes = inputNodes\n",
    "        self.hnodes = hiddenNodes\n",
    "        self.onodes = outputNodes\n",
    "        \n",
    "        # activation function is the sigmoid function\n",
    "     \n",
    "        self.activation_function = lambda x: scipy.special.expit(x)\n",
    "        \n",
    "        self.whi = np.random.normal(0.0, pow(self.hnodes, -0.5), (self.hnodes, self.inodes)) #(numpy.random.rand(self.hnodes, self.inodes) - 0.5)\n",
    "        self.ohw = np.random.normal(0.0, pow(self.onodes, -0.5), (self.onodes, self.hnodes)) #(numpy.random.rand(self.onodes, self.hnodes) - 0.5) \n",
    "        self.lr = learningRate\n",
    "        \n",
    "\n",
    "    def train(self,input_list,target_list):\n",
    "        # convert inputs list to 2d array\n",
    "        inputs = np.array(inputs_list, ndmin=2).T\n",
    "        targets = np.array(target_list, ndmin=2).T\n",
    "        \n",
    "        print(inputs)\n",
    "        # calculate signals into hidden layer\n",
    "        hidden_inputs = np.dot(self.whi, inputs)\n",
    "        # calculate the signals emerging from hidden layer\n",
    "        hidden_outputs = self.activation_function(hidden_inputs)\n",
    "\n",
    "        # calculate signals into final output layer\n",
    "        final_inputs = np.dot(self.owh, hidden_outputs)\n",
    "        # calculate the signals emerging from final output layer\n",
    "        final_outputs = self.activation_function(final_inputs)\n",
    "\n",
    "        output_errors = targets - final_outputs\n",
    "\n",
    "    def query(self, inputs_list):\n",
    "        # convert inputs list to 2d array\n",
    "        inputs = np.array(inputs_list, ndmin=2).T\n",
    "        \n",
    "        print(inputs)\n",
    "        # calculate signals into hidden layer\n",
    "        hidden_inputs = np.dot(self.whi, inputs)\n",
    "        # calculate the signals emerging from hidden layer\n",
    "        hidden_outputs = self.activation_function(hidden_inputs)\n",
    "\n",
    "        # calculate signals into final output layer\n",
    "        final_inputs = np.dot(self.owh, hidden_outputs)\n",
    "        # calculate the signals emerging from final output layer\n",
    "        final_outputs = self.activation_function(final_inputs)\n",
    "\n",
    "        return final_outputs"
   ]
  },
  {
   "cell_type": "code",
   "execution_count": 40,
   "metadata": {},
   "outputs": [],
   "source": [
    "inputNodes = 3\n",
    "hiddenNodes = 3\n",
    "outputNodes = 3\n",
    "\n",
    "learningRate = 0.3\n",
    "\n",
    "NN = NerualNetwork(inputNodes,hiddenNodes,outputNodes,learningRate)"
   ]
  },
  {
   "cell_type": "code",
   "execution_count": 41,
   "metadata": {},
   "outputs": [
    {
     "name": "stdout",
     "output_type": "stream",
     "text": [
      "Input Nodes: 3 , Hidden Nodes: 3, Output Nodes: 3 , Learning Rate: 0.3 \n",
      "\n",
      "Input to Hidden Connection Matrix: \n",
      " [[ 0.27895618 -0.53812878  0.47784301]\n",
      " [-0.0913017  -0.06247916 -0.48192431]\n",
      " [ 0.39333516  0.45458831  0.33513022]] \n",
      "\n",
      " Hidden to Output Connection Matrix: \n",
      " [[-0.13664651 -0.19263763  0.57985524]\n",
      " [ 0.83857894  0.07944624 -0.42860503]\n",
      " [ 0.61396949  0.72237449  0.14270593]]\n"
     ]
    }
   ],
   "source": [
    "print(\"Input Nodes: {} , Hidden Nodes: {}, Output Nodes: {} , Learning Rate: {} \\n\".format(NN.inodes,NN.hnodes,NN.onodes,NN.lr))\n",
    "print(\"Input to Hidden Connection Matrix: \\n {} \\n\\n Hidden to Output Connection Matrix: \\n {}\".format(NN.ihw,NN.how))"
   ]
  },
  {
   "cell_type": "code",
   "execution_count": 42,
   "metadata": {},
   "outputs": [
    {
     "name": "stdout",
     "output_type": "stream",
     "text": [
      "[[1]\n",
      " [2]\n",
      " [3]]\n"
     ]
    },
    {
     "data": {
      "text/plain": [
       "array([[0.60044475],\n",
       "       [0.54269301],\n",
       "       [0.65621703]])"
      ]
     },
     "execution_count": 42,
     "metadata": {},
     "output_type": "execute_result"
    }
   ],
   "source": [
    "NN.query([1,2,3])"
   ]
  },
  {
   "cell_type": "code",
   "execution_count": 19,
   "metadata": {},
   "outputs": [],
   "source": [
    "data_file = open(r\"\\Users\\tomia\\Documents\\GitHub\\Data\\HowToMakeANN\\MNISTCSV\\mnist_train_100.csv\",r'r')\n",
    "data_list = data_file.readlines()\n",
    "data_file.close()"
   ]
  },
  {
   "cell_type": "code",
   "execution_count": 20,
   "metadata": {},
   "outputs": [
    {
     "data": {
      "text/plain": [
       "100"
      ]
     },
     "execution_count": 20,
     "metadata": {},
     "output_type": "execute_result"
    }
   ],
   "source": [
    "len(data_list)"
   ]
  },
  {
   "cell_type": "code",
   "execution_count": 173,
   "metadata": {},
   "outputs": [],
   "source": [
    "#Create the graph of the index from the dataset\n",
    "def createGraph(index,image_array):\n",
    "    all_nums = list()\n",
    "    all_labels = list()\n",
    "    all_labels = image_array[index][0]\n",
    "    image_array = image_array[index].split(',')\n",
    "    for i in image_array:\n",
    "        all_nums.append(float(i))\n",
    "    #print('label: {}'.format(all_labels[index]))\n",
    "    #print('all_nums[{}] : {}'.format(index,all_nums[index]))\n",
    "    #debugprint('type of all_nums[{}] : \\n {}'.format(index,type(all_nums[index])))\n",
    "    image_array = np.asfarray(all_nums[1:]).reshape((28,28))\n",
    "    print(\"label: {}\".format(all_labels[0]))\n",
    "    #print(image_array) #debug\n",
    "    plt.imshow(image_array,cmap='Greys',interpolation='None')\n",
    "    \n",
    "\n",
    "def normalizeData(data_list):\n",
    "    scaled_input = [None] * len(data_list)\n",
    "    for x in range(len(data_list)):\n",
    "        scaled_input[x] = list()\n",
    "        for y in data_list[x]:\n",
    "            #print(\"Data_list[{}] /n {}\".format(x,data_list[x])) #debug\n",
    "            all_values = data_list[x].split(',')\n",
    "            scaled_input[x] = (np.asfarray(all_values[1:]).reshape((28,28)) / 255 * 0.99 ) +0.01 \n",
    "            #print(\"scaled_input[{}] /n {}\".format(x,scaled_input[x])) #debug\n",
    "    return scaled_input"
   ]
  },
  {
   "cell_type": "code",
   "execution_count": 174,
   "metadata": {},
   "outputs": [
    {
     "name": "stdout",
     "output_type": "stream",
     "text": [
      "label: 5\n"
     ]
    },
    {
     "data": {
      "image/png": "[encoded data removed]",
      "text/plain": [
       "<Figure size 432x288 with 1 Axes>"
      ]
     },
     "metadata": {},
     "output_type": "display_data"
    }
   ],
   "source": [
    "createGraph(0,data_list)"
   ]
  },
  {
   "cell_type": "code",
   "execution_count": null,
   "metadata": {
    "scrolled": false
   },
   "outputs": [],
   "source": [
    "normalized = normalizeData(data_list)"
   ]
  },
  {
   "cell_type": "code",
   "execution_count": null,
   "metadata": {},
   "outputs": [],
   "source": [
    "createGraph(0,normalized)"
   ]
  }
 ],
 "metadata": {
  "kernelspec": {
   "display_name": "Python 3",
   "language": "python",
   "name": "python3"
  },
  "language_info": {
   "codemirror_mode": {
    "name": "ipython",
    "version": 3
   },
   "file_extension": ".py",
   "mimetype": "text/x-python",
   "name": "python",
   "nbconvert_exporter": "python",
   "pygments_lexer": "ipython3",
   "version": "3.6.5"
  }
 },
 "nbformat": 4,
 "nbformat_minor": 2
}
