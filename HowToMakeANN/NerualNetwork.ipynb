{
 "cells": [
  {
   "cell_type": "code",
   "execution_count": 1,
   "metadata": {},
   "outputs": [],
   "source": [
    "import numpy as np\n",
    "import scipy.special\n",
    "import matplotlib.pyplot as plt\n",
    "%matplotlib inline"
   ]
  },
  {
   "cell_type": "code",
   "execution_count": 124,
   "metadata": {},
   "outputs": [],
   "source": [
    "class NerualNetwork:\n",
    "    \n",
    "    def __init__(self,inputNodes,hiddenNodes,outputNodes,learningRate):\n",
    "        self.inodes = inputNodes\n",
    "        self.hnodes = hiddenNodes\n",
    "        self.onodes = outputNodes\n",
    "        \n",
    "        # activation function is the sigmoid function\n",
    "     \n",
    "        self.activation_function = lambda x: scipy.special.expit(x)\n",
    "        \n",
    "        #Matrix of hiddenNodes x InputNodes, H rows, I col \n",
    "        self.whi = np.random.normal(0.0, pow(self.hnodes, -0.5), (self.hnodes, self.inodes)) #(numpy.random.rand(self.hnodes, self.inodes) - 0.5)\n",
    "        #Matrix of outputNodes x hiddenNodes, O rows, H col \n",
    "        self.ohw = np.random.normal(0.0, pow(self.onodes, -0.5), (self.onodes, self.hnodes)) #(numpy.random.rand(self.onodes, self.hnodes) - 0.5) \n",
    "        self.lr = learningRate\n",
    "        \n",
    "\n",
    "    def train(self,input_list,target_list):\n",
    "        # convert inputs list to 2d array\n",
    "        inputs = np.array(input_list, ndmin=2).T\n",
    "        targets = np.array(target_list, ndmin=2).T\n",
    "        \n",
    "        #print(inputs)\n",
    "        # calculate signals into hidden layer\n",
    "        hidden_inputs = np.dot(self.whi, inputs)\n",
    "        # calculate the signals emerging from hidden layer\n",
    "        hidden_outputs = self.activation_function(hidden_inputs)\n",
    "\n",
    "        # calculate signals into final output layer\n",
    "        final_inputs = np.dot(self.ohw, hidden_outputs)\n",
    "        # calculate the signals emerging from final output layer\n",
    "        final_outputs = self.activation_function(final_inputs)\n",
    "\n",
    "        output_errors = targets - final_outputs\n",
    "        \n",
    "         # hidden layer error is the output_errors, split by weights, recombined at hidden nodes\n",
    "        hidden_errors = np.dot(self.ohw.T, output_errors) \n",
    "        \n",
    "        # update the weights for the links between the hidden and output layers\n",
    "        self.ohw += self.lr * np.dot((output_errors * final_outputs * (1.0 - final_outputs)), np.transpose(hidden_outputs))\n",
    "        #print(\"Matrix of outputNodes x hiddenNodes rows: {} col : {}, array shape: {} \\n {}\".format(self.onodes,self.hnodes,self.ohw.shape, self.ohw)) #debug\n",
    "        # update the weights for the links between the input and hidden layers\n",
    "        self.whi += self.lr * np.dot((hidden_errors * hidden_outputs * (1.0 - hidden_outputs)), np.transpose(inputs))\n",
    "        #print(\"Matrix of hiddenNodes x InputNodes, {} rows, {} col: {}, array shape: {}\".format(self.hnodes,self.inodes,self.whi.shape,self.whi)) #debug\n",
    "\n",
    "    def query(self, inputs_list):\n",
    "        # convert inputs list to 2d array\n",
    "        inputs = np.array(inputs_list, ndmin=2).T\n",
    "        \n",
    "        #print(inputs)\n",
    "        # calculate signals into hidden layer\n",
    "        hidden_inputs = np.dot(self.whi, inputs)\n",
    "        # calculate the signals emerging from hidden layer\n",
    "        hidden_outputs = self.activation_function(hidden_inputs)\n",
    "\n",
    "        # calculate signals into final output layer\n",
    "        final_inputs = np.dot(self.ohw, hidden_outputs)\n",
    "        # calculate the signals emerging from final output layer\n",
    "        final_outputs = self.activation_function(final_inputs)\n",
    "\n",
    "        return final_outputs"
   ]
  },
  {
   "cell_type": "markdown",
   "metadata": {},
   "source": [
    "<h1><center>self.inodes</center></h1>\n",
    "\n",
    "self.inodes is a [Column Matrix](http://chortle.ccsu.edu/vectorlessons/vch01/vch01_6.html) of inputNodes x 1. \n",
    "\n",
    "$$\n",
    "\\mathbf{self.indoes}\n",
    "=\n",
    "\\begin{bmatrix}\n",
    "{inputNode_1}\n",
    "\\\\ \\vdots & \\\\ \n",
    "{inputNode_n}\n",
    "\\end{bmatrix}\n",
    "$$"
   ]
  },
  {
   "cell_type": "markdown",
   "metadata": {},
   "source": [
    "<h1><center>self.hnodes</center></h1>\n",
    "\n",
    "self.hnodes is a [Column Matrix](http://chortle.ccsu.edu/vectorlessons/vch01/vch01_6.html) of hiddenNodes x 1. \n",
    "\n",
    "$$\n",
    "\\mathbf{self.hnodes}\n",
    "=\n",
    "\\begin{bmatrix}\n",
    "{hiddenNodes_1}\n",
    "\\\\ \\vdots & \\\\ \n",
    "{hiddenNodes_n}\n",
    "\\end{bmatrix}\n",
    "$$"
   ]
  },
  {
   "cell_type": "markdown",
   "metadata": {},
   "source": [
    "<h1><center>self.onodes</center></h1>\n",
    "\n",
    "self.onodes is a [Column Matrix](http://chortle.ccsu.edu/vectorlessons/vch01/vch01_6.html) of outputNodes x 1. \n",
    "\n",
    "$$\n",
    "\\mathbf{self.onodes}\n",
    "=\n",
    "\\begin{bmatrix}\n",
    "{outputNodes_1}\n",
    "\\\\ \\vdots & \\\\ \n",
    "{outputNodes_n}\n",
    "\\end{bmatrix}\n",
    "$$"
   ]
  },
  {
   "cell_type": "code",
   "execution_count": 3,
   "metadata": {},
   "outputs": [],
   "source": [
    "inputNodes = 3\n",
    "hiddenNodes = 3\n",
    "outputNodes = 3\n",
    "\n",
    "learningRate = 0.3\n",
    "\n",
    "NN = NerualNetwork(inputNodes,hiddenNodes,outputNodes,learningRate)"
   ]
  },
  {
   "cell_type": "code",
   "execution_count": 4,
   "metadata": {},
   "outputs": [
    {
     "name": "stdout",
     "output_type": "stream",
     "text": [
      "Input Nodes: 3 , Hidden Nodes: 3, Output Nodes: 3 , Learning Rate: 0.3 \n",
      "\n",
      "Input to Hidden Connection Matrix: \n",
      " [[ 0.21590274  0.43932264 -0.38115437]\n",
      " [ 0.20732604 -0.15828811  0.63398926]\n",
      " [ 0.14883521 -0.04780162 -0.36164201]] \n",
      "\n",
      " Hidden to Output Connection Matrix: \n",
      " [[ 0.67126576  0.78415711  0.7465541 ]\n",
      " [-0.05194722 -0.72093068 -0.70424561]\n",
      " [-0.74073705  0.11009568  0.03262296]]\n"
     ]
    }
   ],
   "source": [
    "print(\"Input Nodes: {} , Hidden Nodes: {}, Output Nodes: {} , Learning Rate: {} \\n\".format(NN.inodes,NN.hnodes,NN.onodes,NN.lr)) #e\n",
    "print(\"Input to Hidden Connection Matrix: \\n {} \\n\\n Hidden to Output Connection Matrix: \\n {}\".format(NN.whi,NN.ohw))"
   ]
  },
  {
   "cell_type": "code",
   "execution_count": 5,
   "metadata": {},
   "outputs": [
    {
     "name": "stdout",
     "output_type": "stream",
     "text": [
      "[[1]\n",
      " [2]\n",
      " [3]]\n"
     ]
    },
    {
     "data": {
      "text/plain": [
       "array([[0.76777925],\n",
       "       [0.30398174],\n",
       "       [0.43576702]])"
      ]
     },
     "execution_count": 5,
     "metadata": {},
     "output_type": "execute_result"
    }
   ],
   "source": [
    "NN.query([1,2,3])"
   ]
  },
  {
   "cell_type": "code",
   "execution_count": null,
   "metadata": {},
   "outputs": [],
   "source": []
  },
  {
   "cell_type": "code",
   "execution_count": 48,
   "metadata": {
    "scrolled": true
   },
   "outputs": [],
   "source": [
    "data_file = open(r\"\\Users\\tomia\\Documents\\GitHub\\Data\\HowToMakeANN\\MNISTCSV\\mnist_train_100.csv\",'r')\n",
    "mnist_train_100 = data_file.readlines()\n",
    "data_file.close()"
   ]
  },
  {
   "cell_type": "code",
   "execution_count": 11,
   "metadata": {},
   "outputs": [
    {
     "data": {
      "text/plain": [
       "100"
      ]
     },
     "execution_count": 11,
     "metadata": {},
     "output_type": "execute_result"
    }
   ],
   "source": [
    "len(mnist_train_100)"
   ]
  },
  {
   "cell_type": "code",
   "execution_count": 121,
   "metadata": {},
   "outputs": [],
   "source": [
    "#Create the graph of the index from the dataset to visualize data\n",
    "def createGraph(index,image_array):\n",
    "    all_nums = list()\n",
    "    all_labels = list()\n",
    "    all_labels = image_array[index][0]\n",
    "    image_array = image_array[index].split(',')\n",
    "    for i in image_array:\n",
    "        all_nums.append(i)\n",
    "    #print('label: {}'.format(all_labels[index]))\n",
    "    #print('all_nums[{}] : {}'.format(index,all_nums[index]))\n",
    "    #debugprint('type of all_nums[{}] : \\n {}'.format(index,type(all_nums[index]))) #debug\n",
    "    image_array = np.asfarray(all_nums[1:]).reshape((28,28))\n",
    "    print(\"label: {}\".format(all_labels[0]))\n",
    "    #print(image_array) #debug\n",
    "    plt.imshow(image_array,cmap='Greys',interpolation='None')\n",
    "    \n",
    "#Create the graph of the index from the dataset to visualize data\n",
    "def createGraphNomalized(index,image_array, normalized_labels):\n",
    "    showarray = image_array[index].reshape((28,28))\n",
    "    print(\"label: {}\".format(normalized_labels[index]))\n",
    "    plt.imshow(showarray,cmap='Greys',interpolation='None')    \n",
    "\n",
    "#Normalization is to map input ranges to ranges of activation function of nodes.\n",
    "def normalizeData(data_list):\n",
    "    scaled_input = [None] * len(data_list)\n",
    "    scaled_input_labels = [None] * len(data_list)\n",
    "    for x in range(len(data_list)):\n",
    "        scaled_input[x] = list()\n",
    "        for y in data_list[x]:\n",
    "            #print(\"Data_list[{}] /n {}\".format(x,data_list[x])) #debug\n",
    "            all_values = data_list[x].split(',')\n",
    "            scaled_input_labels[x] = all_values[0]\n",
    "            scaled_input[x] = (np.asfarray(all_values[1:]) / 255 * 0.99 ) +0.01 \n",
    "            #print(\"scaled_input[{}] /n {}\".format(x,scaled_input[x])) #debug\n",
    "    return scaled_input, scaled_input_labels"
   ]
  },
  {
   "cell_type": "code",
   "execution_count": 13,
   "metadata": {},
   "outputs": [
    {
     "name": "stdout",
     "output_type": "stream",
     "text": [
      "label: 4\n"
     ]
    },
    {
     "data": {
      "image/png": "[encoded data removed]",
      "text/plain": [
       "<Figure size 432x288 with 1 Axes>"
      ]
     },
     "metadata": {},
     "output_type": "display_data"
    }
   ],
   "source": [
    "createGraph(2,mnist_train_100) #image with raw values matrix of 28x28 range of 0 - 255 to rep darkness of each pixel "
   ]
  },
  {
   "cell_type": "markdown",
   "metadata": {},
   "source": [
    "<h1><center>Image matrix</center></h1>\n",
    "\n",
    "\n",
    "\\begin{equation*}\n",
    "\\mathbf{V}_1 \\times \\mathbf{V}_2 =  \\begin{vmatrix}\n",
    "\\mathbf{i} & \\mathbf{j} & \\mathbf{k} \\\\\n",
    "\\frac{\\partial X}{\\partial u} &  \\frac{\\partial Y}{\\partial u} & 0 \\\\\n",
    "\\frac{\\partial X}{\\partial v} &  \\frac{\\partial Y}{\\partial v} & 0\n",
    "\\end{vmatrix}\n",
    "\\end{equation*}"
   ]
  },
  {
   "cell_type": "code",
   "execution_count": 62,
   "metadata": {
    "scrolled": false
   },
   "outputs": [],
   "source": [
    "normalized,normalized_labels = normalizeData(mnist_train_100)"
   ]
  },
  {
   "cell_type": "code",
   "execution_count": 60,
   "metadata": {},
   "outputs": [
    {
     "name": "stdout",
     "output_type": "stream",
     "text": [
      "label: 5\n"
     ]
    },
    {
     "data": {
      "image/png": "[encoded data removed]",
      "text/plain": [
       "<Figure size 432x288 with 1 Axes>"
      ]
     },
     "metadata": {},
     "output_type": "display_data"
    }
   ],
   "source": [
    "createGraphNomalized(0,normalized,normalized_labels)"
   ]
  },
  {
   "cell_type": "code",
   "execution_count": 125,
   "metadata": {},
   "outputs": [],
   "source": [
    "inputNodes = 784 #each pixel will be used as an input the image is 28*28=784 pixels\n",
    "hiddenNodes = 100 #value much more aribrary and I will try experimenting with it\n",
    "outputNodes = 10 #can label a number from 0-9 hence 10 output nodes\n",
    "\n",
    "learningRate = 0.3\n",
    "\n",
    "MNISTNN = NerualNetwork(inputNodes,hiddenNodes,outputNodes,learningRate)"
   ]
  },
  {
   "cell_type": "code",
   "execution_count": 126,
   "metadata": {},
   "outputs": [],
   "source": [
    "for x in range(len(normalized)): #tranining the network on the normalized data with loop\n",
    "    targets = np.zeros(outputNodes) + 0.01 #creating output array for number 0-9\n",
    "    inputs = normalized[x] #selecting array of 784 pixels for input\n",
    "    targets[int(normalized_labels[x])] = 0.99 #setting correct output array configuration \n",
    "    MNISTNN.train(inputs,targets) #training on 1 entry "
   ]
  },
  {
   "cell_type": "code",
   "execution_count": 49,
   "metadata": {},
   "outputs": [],
   "source": [
    "#testing data\n",
    "data_file = open(r\"\\Users\\tomia\\Documents\\GitHub\\Data\\HowToMakeANN\\MNISTCSV\\mnist_test_10.csv\",'r')\n",
    "mnist_test_10 = data_file.readlines()\n",
    "data_file.close()"
   ]
  },
  {
   "cell_type": "code",
   "execution_count": 67,
   "metadata": {},
   "outputs": [],
   "source": [
    "normalized_test,normalized_labels_test = normalizeData(mnist_test_10)"
   ]
  },
  {
   "cell_type": "code",
   "execution_count": 162,
   "metadata": {},
   "outputs": [
    {
     "name": "stdout",
     "output_type": "stream",
     "text": [
      "label: 1\n"
     ]
    },
    {
     "data": {
      "image/png": "[encoded data removed]",
      "text/plain": [
       "<Figure size 432x288 with 1 Axes>"
      ]
     },
     "metadata": {},
     "output_type": "display_data"
    }
   ],
   "source": [
    "createGraphNomalized(2,normalized_test,normalized_labels_test)"
   ]
  },
  {
   "cell_type": "code",
   "execution_count": 165,
   "metadata": {},
   "outputs": [],
   "source": [
    "def printQuery(result_array):\n",
    "    best_answer = 0\n",
    "    for i in range(len(result_array)):\n",
    "        print(\"{} : {} %\".format(i,result_array[i][0] * 100))\n",
    "    print(\"Best Guess: {}\".format(np.argmax(result_array)))"
   ]
  },
  {
   "cell_type": "code",
   "execution_count": 166,
   "metadata": {},
   "outputs": [
    {
     "name": "stdout",
     "output_type": "stream",
     "text": [
      "0 : 2.559836533719415 %\n",
      "1 : 93.72657429272593 %\n",
      "2 : 1.7280234501795193 %\n",
      "3 : 10.702272281543145 %\n",
      "4 : 0.804115657105186 %\n",
      "5 : 7.644431660183846 %\n",
      "6 : 4.295801855779331 %\n",
      "7 : 7.198885756467477 %\n",
      "8 : 4.797776445274087 %\n",
      "9 : 1.2995497231778494 %\n",
      "Best Guess: 1\n"
     ]
    }
   ],
   "source": [
    "printQuery(MNISTNN.query(normalized_test[2]))"
   ]
  },
  {
   "cell_type": "code",
   "execution_count": 178,
   "metadata": {},
   "outputs": [],
   "source": [
    "def trackResults(test_array, label_array,NN):\n",
    "    scorecard = []\n",
    "    for i in range(len(test_array)):\n",
    "        correct_label = int(label_array[i])\n",
    "        print(\"loop: {}\".format(i))\n",
    "        print(\"correct label: {}\".format(correct_label))\n",
    "        outputs = NN.query(test_array[i])\n",
    "        label = np.argmax(outputs)\n",
    "        print(\"Network answer: {} \\n\".format(label))\n",
    "        if(label == correct_label):\n",
    "            scorecard.append(1)\n",
    "        else:\n",
    "            scorecard.append(0)\n",
    "    scorecard_array = np.asarray(scorecard)\n",
    "    print(\"performance = {} %\".format(scorecard_array.sum() / scorecard_array.size * 100))"
   ]
  },
  {
   "cell_type": "code",
   "execution_count": 179,
   "metadata": {},
   "outputs": [
    {
     "name": "stdout",
     "output_type": "stream",
     "text": [
      "loop: 0\n",
      "correct label: 7\n",
      "Network answer: 7 \n",
      "\n",
      "loop: 1\n",
      "correct label: 2\n",
      "Network answer: 3 \n",
      "\n",
      "loop: 2\n",
      "correct label: 1\n",
      "Network answer: 1 \n",
      "\n",
      "loop: 3\n",
      "correct label: 0\n",
      "Network answer: 0 \n",
      "\n",
      "loop: 4\n",
      "correct label: 4\n",
      "Network answer: 4 \n",
      "\n",
      "loop: 5\n",
      "correct label: 1\n",
      "Network answer: 1 \n",
      "\n",
      "loop: 6\n",
      "correct label: 4\n",
      "Network answer: 4 \n",
      "\n",
      "loop: 7\n",
      "correct label: 9\n",
      "Network answer: 3 \n",
      "\n",
      "loop: 8\n",
      "correct label: 5\n",
      "Network answer: 0 \n",
      "\n",
      "loop: 9\n",
      "correct label: 9\n",
      "Network answer: 7 \n",
      "\n",
      "performance = 60.0 %\n"
     ]
    }
   ],
   "source": [
    "trackResults(normalized_test,normalized_labels_test,MNISTNN)"
   ]
  },
  {
   "cell_type": "code",
   "execution_count": 180,
   "metadata": {},
   "outputs": [],
   "source": [
    "data_file = open(r\"\\Users\\tomia\\Documents\\GitHub\\Data\\HowToMakeANN\\MNISTCSV\\mnist_train.csv\",'r')\n",
    "mnist_train_full = data_file.readlines()\n",
    "data_file.close()"
   ]
  },
  {
   "cell_type": "code",
   "execution_count": null,
   "metadata": {},
   "outputs": [],
   "source": [
    "normalized_full_train,normalized_full_train_labels = normalizeData(mnist_train_full)"
   ]
  },
  {
   "cell_type": "code",
   "execution_count": null,
   "metadata": {},
   "outputs": [],
   "source": [
    "createGraphNomalized(0,normalized_full_train,normalized_full_train_labels)"
   ]
  },
  {
   "cell_type": "code",
   "execution_count": null,
   "metadata": {},
   "outputs": [],
   "source": [
    "for x in range(len(normalized)): #tranining the network on the normalized data with loop\n",
    "    targets = np.zeros(outputNodes) + 0.01 #creating output array for number 0-9\n",
    "    inputs = normalized[x] #selecting array of 784 pixels for input\n",
    "    targets[int(normalized_labels[x])] = 0.99 #setting correct output array configuration \n",
    "    MNISTNN.train(inputs,targets) #training on 1 entry "
   ]
  }
 ],
 "metadata": {
  "kernelspec": {
   "display_name": "Python 3",
   "language": "python",
   "name": "python3"
  },
  "language_info": {
   "codemirror_mode": {
    "name": "ipython",
    "version": 3
   },
   "file_extension": ".py",
   "mimetype": "text/x-python",
   "name": "python",
   "nbconvert_exporter": "python",
   "pygments_lexer": "ipython3",
   "version": "3.6.5"
  }
 },
 "nbformat": 4,
 "nbformat_minor": 2
}
