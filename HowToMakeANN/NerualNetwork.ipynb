{
 "cells": [
  {
   "cell_type": "code",
   "execution_count": 1,
   "metadata": {},
   "outputs": [],
   "source": [
    "import numpy as np"
   ]
  },
  {
   "cell_type": "code",
   "execution_count": 13,
   "metadata": {},
   "outputs": [],
   "source": [
    "class NerualNetwork:\n",
    "    \n",
    "    def __init__(self,inputNodes,hiddenNodes,outputNodes,learningRate):\n",
    "        self.inodes = inputNodes\n",
    "        self.hnodes = hiddenNodes\n",
    "        self.onodes = outputNodes\n",
    "        \n",
    "        self.ihw = np.random.normal(0.0, pow(self.hnodes, -0.5), (self.hnodes, self.inodes)) #(numpy.random.rand(self.hnodes, self.inodes) - 0.5)\n",
    "        self.how = np.random.normal(0.0, pow(self.onodes, -0.5), (self.onodes, self.hnodes)) #(numpy.random.rand(self.onodes, self.hnodes) - 0.5) \n",
    "        self.lr = learningRate\n",
    "        \n",
    "        pass\n",
    "    def train():\n",
    "        pass\n",
    "    def query():\n",
    "        pass"
   ]
  },
  {
   "cell_type": "code",
   "execution_count": 14,
   "metadata": {},
   "outputs": [],
   "source": [
    "inputNodes = 3\n",
    "hiddenNodes = 3\n",
    "outputNodes = 3\n",
    "\n",
    "learningRate = 0.3\n",
    "\n",
    "NN = NerualNetwork(inputNodes,hiddenNodes,outputNodes,learningRate)"
   ]
  },
  {
   "cell_type": "code",
   "execution_count": 23,
   "metadata": {},
   "outputs": [
    {
     "name": "stdout",
     "output_type": "stream",
     "text": [
      "Input Nodes: 3 , Hidden Nodes: 3, Output Nodes: 3 , Learning Rate: 0.3 \n",
      "\n",
      "Input to Hidden Connection Matrix: \n",
      " [[ 1.09183856 -0.59326463 -0.5820006 ]\n",
      " [ 0.46321013  0.79077273  0.23028538]\n",
      " [-0.38560366 -0.34995266 -0.63524125]] \n",
      "\n",
      " Hidden to Output Connection Matrix: \n",
      " [[-0.72528771 -0.89543456  0.42825826]\n",
      " [ 0.13336004 -0.18022436 -0.35442224]\n",
      " [-0.32354437 -0.67921183 -0.20800705]]\n"
     ]
    }
   ],
   "source": [
    "print(\"Input Nodes: {} , Hidden Nodes: {}, Output Nodes: {} , Learning Rate: {} \\n\".format(NN.inodes,NN.hnodes,NN.onodes,NN.lr))\n",
    "print(\"Input to Hidden Connection Matrix: \\n {} \\n\\n Hidden to Output Connection Matrix: \\n {}\".format(NN.ihw,NN.how))"
   ]
  },
  {
   "cell_type": "code",
   "execution_count": null,
   "metadata": {},
   "outputs": [],
   "source": []
  }
 ],
 "metadata": {
  "kernelspec": {
   "display_name": "Python 3",
   "language": "python",
   "name": "python3"
  },
  "language_info": {
   "codemirror_mode": {
    "name": "ipython",
    "version": 3
   },
   "file_extension": ".py",
   "mimetype": "text/x-python",
   "name": "python",
   "nbconvert_exporter": "python",
   "pygments_lexer": "ipython3",
   "version": "3.6.6"
  }
 },
 "nbformat": 4,
 "nbformat_minor": 2
}
