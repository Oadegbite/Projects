{
 "cells": [
  {
   "cell_type": "code",
   "execution_count": 1,
   "metadata": {},
   "outputs": [],
   "source": [
    "import numpy as np\n",
    "import scipy.special\n",
    "import matplotlib.pyplot as plt"
   ]
  },
  {
   "cell_type": "code",
   "execution_count": 8,
   "metadata": {},
   "outputs": [],
   "source": [
    "class NerualNetwork:\n",
    "    \n",
    "    def __init__(self,inputNodes,hiddenNodes,outputNodes,learningRate):\n",
    "        self.inodes = inputNodes\n",
    "        self.hnodes = hiddenNodes\n",
    "        self.onodes = outputNodes\n",
    "        \n",
    "        # activation function is the sigmoid function\n",
    "     \n",
    "        self.activation_function = lambda x: scipy.special.expit(x)\n",
    "        \n",
    "        self.whi = np.random.normal(0.0, pow(self.hnodes, -0.5), (self.hnodes, self.inodes)) #(numpy.random.rand(self.hnodes, self.inodes) - 0.5)\n",
    "        self.ohw = np.random.normal(0.0, pow(self.onodes, -0.5), (self.onodes, self.hnodes)) #(numpy.random.rand(self.onodes, self.hnodes) - 0.5) \n",
    "        self.lr = learningRate\n",
    "        \n",
    "\n",
    "    def train(self,input_list,target_list):\n",
    "        # convert inputs list to 2d array\n",
    "        inputs = np.array(inputs_list, ndmin=2).T\n",
    "        targets = np.array(target_list, ndmin=2).T\n",
    "        \n",
    "        print(inputs)\n",
    "        # calculate signals into hidden layer\n",
    "        hidden_inputs = np.dot(self.whi, inputs)\n",
    "        # calculate the signals emerging from hidden layer\n",
    "        hidden_outputs = self.activation_function(hidden_inputs)\n",
    "\n",
    "        # calculate signals into final output layer\n",
    "        final_inputs = np.dot(self.owh, hidden_outputs)\n",
    "        # calculate the signals emerging from final output layer\n",
    "        final_outputs = self.activation_function(final_inputs)\n",
    "\n",
    "        output_errors = targets - final_outputs\n",
    "\n",
    "    def query(self, inputs_list):\n",
    "        # convert inputs list to 2d array\n",
    "        inputs = np.array(inputs_list, ndmin=2).T\n",
    "        \n",
    "        print(inputs)\n",
    "        # calculate signals into hidden layer\n",
    "        hidden_inputs = np.dot(self.whi, inputs)\n",
    "        # calculate the signals emerging from hidden layer\n",
    "        hidden_outputs = self.activation_function(hidden_inputs)\n",
    "\n",
    "        # calculate signals into final output layer\n",
    "        final_inputs = np.dot(self.ohw, hidden_outputs)\n",
    "        # calculate the signals emerging from final output layer\n",
    "        final_outputs = self.activation_function(final_inputs)\n",
    "\n",
    "        return final_outputs"
   ]
  },
  {
   "cell_type": "code",
   "execution_count": 9,
   "metadata": {},
   "outputs": [],
   "source": [
    "inputNodes = 3\n",
    "hiddenNodes = 3\n",
    "outputNodes = 3\n",
    "\n",
    "learningRate = 0.3\n",
    "\n",
    "NN = NerualNetwork(inputNodes,hiddenNodes,outputNodes,learningRate)"
   ]
  },
  {
   "cell_type": "code",
   "execution_count": 10,
   "metadata": {},
   "outputs": [
    {
     "name": "stdout",
     "output_type": "stream",
     "text": [
      "Input Nodes: 3 , Hidden Nodes: 3, Output Nodes: 3 , Learning Rate: 0.3 \n",
      "\n",
      "Input to Hidden Connection Matrix: \n",
      " [[-0.57050122  0.88614993  0.67307877]\n",
      " [ 0.14175481 -0.31978651 -0.07001582]\n",
      " [-0.16722252 -0.26656252  0.1582957 ]] \n",
      "\n",
      " Hidden to Output Connection Matrix: \n",
      " [[ 0.96592323 -1.44126434 -0.08321655]\n",
      " [ 0.1149417   0.31496642 -0.17376773]\n",
      " [-0.55986573  0.64544392 -0.60280075]]\n"
     ]
    }
   ],
   "source": [
    "print(\"Input Nodes: {} , Hidden Nodes: {}, Output Nodes: {} , Learning Rate: {} \\n\".format(NN.inodes,NN.hnodes,NN.onodes,NN.lr))\n",
    "print(\"Input to Hidden Connection Matrix: \\n {} \\n\\n Hidden to Output Connection Matrix: \\n {}\".format(NN.whi,NN.ohw))"
   ]
  },
  {
   "cell_type": "code",
   "execution_count": 11,
   "metadata": {},
   "outputs": [
    {
     "name": "stdout",
     "output_type": "stream",
     "text": [
      "[[1]\n",
      " [2]\n",
      " [3]]\n"
     ]
    },
    {
     "data": {
      "text/plain": [
       "array([[0.60257187],\n",
       "       [0.53428623],\n",
       "       [0.35596936]])"
      ]
     },
     "execution_count": 11,
     "metadata": {},
     "output_type": "execute_result"
    }
   ],
   "source": [
    "NN.query([1,2,3])"
   ]
  },
  {
   "cell_type": "code",
   "execution_count": 22,
   "metadata": {
    "scrolled": true
   },
   "outputs": [],
   "source": [
    "data_file = open(\"/home/tomi/Data/howToMakeANN/mnist_train_100.csv\",'r')\n",
    "mnist_train_100 = data_file.readlines()\n",
    "data_file.close()"
   ]
  },
  {
   "cell_type": "code",
   "execution_count": 23,
   "metadata": {},
   "outputs": [
    {
     "data": {
      "text/plain": [
       "100"
      ]
     },
     "execution_count": 23,
     "metadata": {},
     "output_type": "execute_result"
    }
   ],
   "source": [
    "len(mnist_train_100)"
   ]
  },
  {
   "cell_type": "code",
   "execution_count": 32,
   "metadata": {},
   "outputs": [],
   "source": [
    "#Create the graph of the index from the dataset\n",
    "def createGraph(index,image_array):\n",
    "    all_nums = list()\n",
    "    all_labels = list()\n",
    "    all_labels = image_array[index][0]\n",
    "    image_array = image_array[index].split(',')\n",
    "    for i in image_array:\n",
    "        all_nums.append(i)\n",
    "    #print('label: {}'.format(all_labels[index]))\n",
    "    #print('all_nums[{}] : {}'.format(index,all_nums[index]))\n",
    "    #debugprint('type of all_nums[{}] : \\n {}'.format(index,type(all_nums[index])))\n",
    "    image_array = np.asfarray(all_nums[1:]).reshape((28,28))\n",
    "    print(\"label: {}\".format(all_labels[0]))\n",
    "    #print(image_array) #debug\n",
    "    plt.imshow(image_array,cmap='Greys',interpolation='None')\n",
    "    \n",
    "\n",
    "def createGraphNomalized(index,image_array, normalized_labels):\n",
    "    print(\"label: {}\".format(normalized_labels[index]))\n",
    "    plt.imshow(image_array[index],cmap='Greys',interpolation='None')    \n",
    "\n",
    "def normalizeData(data_list):\n",
    "    scaled_input = [None] * len(data_list)\n",
    "    scaled_input_labels = [None] * len(data_list)\n",
    "    for x in range(len(data_list)):\n",
    "        scaled_input[x] = list()\n",
    "        for y in data_list[x]:\n",
    "            #print(\"Data_list[{}] /n {}\".format(x,data_list[x])) #debug\n",
    "            all_values = data_list[x].split(',')\n",
    "            scaled_input_labels[x] = all_values[0]\n",
    "            scaled_input[x] = (np.asfarray(all_values[1:]).reshape((28,28)) / 255 * 0.99 ) +0.01 \n",
    "            #print(\"scaled_input[{}] /n {}\".format(x,scaled_input[x])) #debug\n",
    "    return scaled_input, scaled_input_labels"
   ]
  },
  {
   "cell_type": "code",
   "execution_count": 37,
   "metadata": {},
   "outputs": [
    {
     "name": "stdout",
     "output_type": "stream",
     "text": [
      "label: 4\n"
     ]
    },
    {
     "data": {
      "image/png": "[encoded data removed]",
      "text/plain": [
       "<Figure size 432x288 with 1 Axes>"
      ]
     },
     "metadata": {},
     "output_type": "display_data"
    }
   ],
   "source": [
    "createGraph(2,mnist_train_100)"
   ]
  },
  {
   "cell_type": "code",
   "execution_count": 34,
   "metadata": {
    "scrolled": false
   },
   "outputs": [],
   "source": [
    "normalized,normalized_labels = normalizeData(mnist_train_100)"
   ]
  },
  {
   "cell_type": "code",
   "execution_count": 36,
   "metadata": {},
   "outputs": [
    {
     "name": "stdout",
     "output_type": "stream",
     "text": [
      "label: 4\n"
     ]
    },
    {
     "data": {
      "image/png": "[encoded data removed]",
      "text/plain": [
       "<Figure size 432x288 with 1 Axes>"
      ]
     },
     "metadata": {},
     "output_type": "display_data"
    }
   ],
   "source": [
    "createGraphNomalized(2,normalized,normalized_labels)"
   ]
  },
  {
   "cell_type": "code",
   "execution_count": null,
   "metadata": {},
   "outputs": [],
   "source": []
  },
  {
   "cell_type": "code",
   "execution_count": null,
   "metadata": {},
   "outputs": [],
   "source": []
  }
 ],
 "metadata": {
  "kernelspec": {
   "display_name": "Python 3",
   "language": "python",
   "name": "python3"
  },
  "language_info": {
   "codemirror_mode": {
    "name": "ipython",
    "version": 3
   },
   "file_extension": ".py",
   "mimetype": "text/x-python",
   "name": "python",
   "nbconvert_exporter": "python",
   "pygments_lexer": "ipython3",
   "version": "3.6.7"
  }
 },
 "nbformat": 4,
 "nbformat_minor": 2
}
