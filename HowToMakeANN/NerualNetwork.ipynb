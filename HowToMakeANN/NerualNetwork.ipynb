{
 "cells": [
  {
   "cell_type": "markdown",
   "metadata": {},
   "source": [
    "<h1><center> #00002: How to Make Your Own Neural Network</center></h1>\n",
    "\n",
    "Made with the help of examples from [Make Your Own Neural Network by Tariq Rashid](https://www.goodreads.com/book/show/29746976-make-your-own-neural-network) his code examples can be found on [his github](https://github.com/makeyourownneuralnetwork/makeyourownneuralnetwork)\n",
    "<br>\n",
    "Using the MNIST dataset of handwritten digits. Links to data used: [Full Training Data](http://www.pjreddie.com/media/files/mnist_train.csv), [Training Data 100 entries](https://raw.githubusercontent.com/makeyourownneuralnetwork/makeyourownneuralnetwork/master/mnist_dataset/mnist_train_100.csv), [Full Testing Data](http://www.pjreddie.com/media/files/mnist_test.csv),\n",
    " and [Full Testing Data 10 entries](https://raw.githubusercontent.com/makeyourownneuralnetwork/makeyourownneuralnetwork/master/mnist_dataset/mnist_test_10.csv)\n",
    "\n",
    "<br>\n",
    "This will be a notebook for me to explore all the workings on a basic neural network system from development to training to use, and visualization of learned features."
   ]
  },
  {
   "cell_type": "code",
   "execution_count": 39,
   "metadata": {},
   "outputs": [],
   "source": [
    "import numpy as np\n",
    "import scipy.special\n",
    "import matplotlib.pyplot as plt\n",
    "%matplotlib inline"
   ]
  },
  {
   "cell_type": "code",
   "execution_count": 40,
   "metadata": {},
   "outputs": [],
   "source": [
    "class NerualNetwork:\n",
    "    \n",
    "    def __init__(self,inputNodes,hiddenNodes,outputNodes,learningRate):\n",
    "        self.inodes = inputNodes\n",
    "        self.hnodes = hiddenNodes\n",
    "        self.onodes = outputNodes\n",
    "\n",
    "        #Matrix of hiddenNodes x InputNodes, H rows, I col \n",
    "        self.whi = np.random.normal(0.0, pow(self.hnodes, -0.5), (self.hnodes, self.inodes)) #(numpy.random.rand(self.hnodes, self.inodes) - 0.5)\n",
    "        #Matrix of outputNodes x hiddenNodes, O rows, H col \n",
    "        self.ohw = np.random.normal(0.0, pow(self.onodes, -0.5), (self.onodes, self.hnodes)) #(numpy.random.rand(self.onodes, self.hnodes) - 0.5) \n",
    "        \n",
    "        # activation function is the sigmoid function\n",
    "        self.activation_function = lambda x: scipy.special.expit(x)\n",
    "        # activation function for back query is the logit function\n",
    "        self.inverse_activation_function = lambda x: scipy.special.logit(x)\n",
    "        #rate at which network with adjust weights during training phase\n",
    "        self.lr = learningRate\n",
    "        \n",
    "\n",
    "    def train(self,input_list,target_list):\n",
    "        # convert inputs list to 2d array\n",
    "        inputs = np.array(input_list, ndmin=2).T\n",
    "        targets = np.array(target_list, ndmin=2).T\n",
    "        \n",
    "        #print(inputs)\n",
    "        # calculate signals into hidden layer\n",
    "        hidden_inputs = np.dot(self.whi, inputs)\n",
    "        # calculate the signals emerging from hidden layer\n",
    "        hidden_outputs = self.activation_function(hidden_inputs)\n",
    "\n",
    "        # calculate signals into final output layer\n",
    "        final_inputs = np.dot(self.ohw, hidden_outputs)\n",
    "        # calculate the signals emerging from final output layer\n",
    "        final_outputs = self.activation_function(final_inputs)\n",
    "\n",
    "        output_errors = targets - final_outputs\n",
    "        \n",
    "         # hidden layer error is the output_errors, split by weights, recombined at hidden nodes\n",
    "        hidden_errors = np.dot(self.ohw.T, output_errors) \n",
    "        \n",
    "        # update the weights for the links between the hidden and output layers\n",
    "        self.ohw += self.lr * np.dot((output_errors * final_outputs * (1.0 - final_outputs)), np.transpose(hidden_outputs))\n",
    "        #print(\"Matrix of outputNodes x hiddenNodes rows: {} col : {}, array shape: {} \\n {}\".format(self.onodes,self.hnodes,self.ohw.shape, self.ohw)) #debug\n",
    "        # update the weights for the links between the input and hidden layers\n",
    "        self.whi += self.lr * np.dot((hidden_errors * hidden_outputs * (1.0 - hidden_outputs)), np.transpose(inputs))\n",
    "        #print(\"Matrix of hiddenNodes x InputNodes, {} rows, {} col: {}, array shape: {}\".format(self.hnodes,self.inodes,self.whi.shape,self.whi)) #debug\n",
    "\n",
    "    def query(self, inputs_list):\n",
    "        # convert inputs list to 2d array\n",
    "        inputs = np.array(inputs_list, ndmin=2).T\n",
    "        \n",
    "        #print(inputs)\n",
    "        # calculate signals into hidden layer\n",
    "        hidden_inputs = np.dot(self.whi, inputs)\n",
    "        # calculate the signals emerging from hidden layer\n",
    "        hidden_outputs = self.activation_function(hidden_inputs)\n",
    "\n",
    "        # calculate signals into final output layer\n",
    "        final_inputs = np.dot(self.ohw, hidden_outputs)\n",
    "        # calculate the signals emerging from final output layer\n",
    "        final_outputs = self.activation_function(final_inputs)\n",
    "\n",
    "        return final_outputs\n",
    "\n",
    "    # backquery the neural network\n",
    "    # we'll use the same termnimology to each item, \n",
    "    # eg target are the values at the right of the network, albeit used as input\n",
    "    # eg hidden_output is the signal to the right of the middle nodes\n",
    "    def backquery(self, targets_list):\n",
    "        # transpose the targets list to a vertical array\n",
    "        final_outputs = np.array(targets_list, ndmin=2).T\n",
    "\n",
    "        # calculate the signal into the final output layer\n",
    "        final_inputs = self.inverse_activation_function(final_outputs)\n",
    "\n",
    "        # calculate the signal out of the hidden layer\n",
    "        hidden_outputs = np.dot(self.ohw.T, final_inputs)\n",
    "        # scale them back to 0.01 to .99\n",
    "        hidden_outputs -= np.min(hidden_outputs)\n",
    "        hidden_outputs /= np.max(hidden_outputs)\n",
    "        hidden_outputs *= 0.98\n",
    "        hidden_outputs += 0.01\n",
    "\n",
    "        # calculate the signal into the hidden layer\n",
    "        hidden_inputs = self.inverse_activation_function(hidden_outputs)\n",
    "\n",
    "        # calculate the signal out of the input layer\n",
    "        inputs = np.dot(self.whi.T, hidden_inputs)\n",
    "        # scale them back to 0.01 to .99\n",
    "        inputs -= np.min(inputs)\n",
    "        inputs /= np.max(inputs)\n",
    "        inputs *= 0.98\n",
    "        inputs += 0.01\n",
    "\n",
    "        return inputs"
   ]
  },
  {
   "cell_type": "markdown",
   "metadata": {},
   "source": [
    "<h1><center>Class NerualNetwork __init__</center></h1>\n",
    "\n",
    "<br>\n",
    "<h2><center>self.inodes</center></h2>\n",
    "\n",
    "self.inodes is a [Column Matrix](http://chortle.ccsu.edu/vectorlessons/vch01/vch01_6.html) of inputNodes x 1. \n",
    "\n",
    "\\begin{equation*}\n",
    "\\mathbf{self.indoes}=\n",
    "\\begin{bmatrix}\n",
    "{inputNode_1}\n",
    "\\\\ \\vdots & \\\\ \n",
    "{inputNode_n}\n",
    "\\end{bmatrix}\n",
    "\\end{equation*}\n",
    "\n",
    "<br>\n",
    "<br>\n",
    "<br>\n",
    "\n",
    "<h2><center>self.hnodes</center></h2>\n",
    "\n",
    "self.hnodes is a [Column Matrix](http://chortle.ccsu.edu/vectorlessons/vch01/vch01_6.html) of hiddenNodes x 1. \n",
    "\n",
    "\\begin{equation*}\n",
    "\\mathbf{self.hnodes}=\n",
    "\\begin{bmatrix}\n",
    "{hiddenNodes_1}\n",
    "\\\\ \\vdots & \\\\ \n",
    "{hiddenNodes_n}\n",
    "\\end{bmatrix}\n",
    "\\end{equation*}\n",
    "\n",
    "<br>\n",
    "<br>\n",
    "<br>\n",
    "\n",
    "<h2><center>self.onodes</center></h2>\n",
    "\n",
    "self.onodes is a [Column Matrix](http://chortle.ccsu.edu/vectorlessons/vch01/vch01_6.html) of outputNodes x 1. \n",
    "\n",
    "\\begin{equation*}\n",
    "\\mathbf{self.onodes}=\n",
    "\\begin{bmatrix}\n",
    "{outputNodes_1}\n",
    "\\\\ \\vdots & \\\\ \n",
    "{outputNodes_n}\n",
    "\\end{bmatrix}\n",
    "\\end{equation*}\n",
    "\n",
    "<br>\n",
    "<br>\n",
    "<br>\n",
    "\n",
    "<h2><center>self.whi</center></h2>\n",
    "\n",
    "self.whi is a matrix of weights from each InputNode to HiddenNode which represent a set of connection in the network of hiddenNodes(H) x InputNodes(I), H rows, I col. \n",
    "\n",
    "\\begin{equation*}\n",
    "\\mathbf{self.whi}=\n",
    "\\begin{bmatrix}\n",
    "{Weight_{11}}  & \\cdots & {Weight_{1I}}\n",
    "\\\\ \\vdots & \\ddots & \\vdots \\\\\n",
    "{Weight_{H1}} & \\cdots & {Weight_{HI}}\n",
    "\\end{bmatrix}\n",
    "\\end{equation*}\n",
    "<br>\n",
    "<br>\n",
    "${Weight_{11}}$  for example would represent the connection between InputNodes 1 and HiddenNode 1\n",
    "\n",
    "\n",
    "<br>\n",
    "<br>\n",
    "<br>\n",
    "\n",
    "<h2><center>self.ohw</center></h2>\n",
    "\n",
    "self.ohw is a matrix of weights from each Hidden Node to output node which represent a set of connection in the network of size outputNodes(O) x hiddenNodes(H), O rows, H col \n",
    "\n",
    "\\begin{equation*}\n",
    "\\mathbf{self.ohw}=\n",
    "\\begin{bmatrix}\n",
    "{Weight_{11}}  & \\cdots & {Weight_{1H}}\n",
    "\\\\ \\vdots & \\ddots & \\vdots \\\\\n",
    "{Weight_{O1}} & \\cdots & {Weight_{OH}}\n",
    "\\end{bmatrix}\n",
    "\\end{equation*}\n",
    "<br>\n",
    "<br>\n",
    "${Weight_{11}}$ for example would represent the connection between HiddenNode 1 and OutputNode 1\n",
    "\n",
    "\n",
    "<h2><center>self.activation_function </center></h2>\n",
    "        \n",
    "The [Activation Function](https://en.wikipedia.org/wiki/Activation_function) is a function that determains the output of a node based on its input in this case the [scipy.special.expit(x)](https://docs.scipy.org/doc/scipy-0.14.0/reference/generated/scipy.special.expit.html) which is a version of the [logistic function](https://en.wikipedia.org/wiki/Logistic_function) \n",
    "\\begin{equation*}\n",
    "f(x)   = \\frac{1}{1 + e^{-x}}\n",
    "\\end{equation*}\n",
    "\n",
    "\n",
    "<h2><center>self.inverse_activation_function </center></h2>\n",
    "        \n",
    "This is an [Activation Function](https://en.wikipedia.org/wiki/Activation_function) that is used in backquery because the network information flows backwards the inputs are scaled differently and we use a different activation function in this case the [scipy.special.logit(x)](https://docs.scipy.org/doc/scipy/reference/generated/scipy.special.logit.html) which is a version of the [Logit function](https://en.wikipedia.org/wiki/Logit) \n",
    "\\begin{equation*}\n",
    "f(x)   = log(\\frac{x}{1 - x})\n",
    "\\end{equation*}\n",
    "\n",
    "<h2><center>self.lr</center></h2>\n",
    "This is the \"learning rate\" of the network which represents the step size that the network will take during the training phase. It represents how quickly values in the weight matrices self.ohw and self.whi will be adjusted."
   ]
  },
  {
   "cell_type": "code",
   "execution_count": null,
   "metadata": {},
   "outputs": [],
   "source": []
  },
  {
   "cell_type": "code",
   "execution_count": 41,
   "metadata": {},
   "outputs": [],
   "source": [
    "inputNodes = 3\n",
    "hiddenNodes = 3\n",
    "outputNodes = 3\n",
    "\n",
    "learningRate = 0.3\n",
    "#small test network\n",
    "NN = NerualNetwork(inputNodes,hiddenNodes,outputNodes,learningRate)"
   ]
  },
  {
   "cell_type": "markdown",
   "metadata": {},
   "source": [
    "An Example of weight matrices self.whi and self.ohw"
   ]
  },
  {
   "cell_type": "code",
   "execution_count": 42,
   "metadata": {},
   "outputs": [
    {
     "name": "stdout",
     "output_type": "stream",
     "text": [
      "Input Nodes: 3 , Hidden Nodes: 3, Output Nodes: 3 , Learning Rate: 0.3 \n",
      "\n",
      "Input to Hidden Connection Matrix: \n",
      " [[ 0.19158074 -0.95319794  0.38928676]\n",
      " [-0.08451402  0.14372238 -0.24082296]\n",
      " [ 0.22036279  1.35468255 -0.05018339]] \n",
      "\n",
      " Hidden to Output Connection Matrix: \n",
      " [[-0.27269384 -0.09883736  0.43848137]\n",
      " [-0.22309283 -0.08530686 -0.40576622]\n",
      " [ 0.44334264  0.08868493  0.26248021]]\n"
     ]
    }
   ],
   "source": [
    "print(\"Input Nodes: {} , Hidden Nodes: {}, Output Nodes: {} , Learning Rate: {} \\n\".format(NN.inodes,NN.hnodes,NN.onodes,NN.lr)) #e\n",
    "print(\"Input to Hidden Connection Matrix: \\n {} \\n\\n Hidden to Output Connection Matrix: \\n {}\".format(NN.whi,NN.ohw)) "
   ]
  },
  {
   "cell_type": "code",
   "execution_count": 43,
   "metadata": {},
   "outputs": [
    {
     "data": {
      "text/plain": [
       "array([[0.56857112],\n",
       "       [0.37856567],\n",
       "       [0.60890893]])"
      ]
     },
     "execution_count": 43,
     "metadata": {},
     "output_type": "execute_result"
    }
   ],
   "source": [
    "NN.query([1,2,3])"
   ]
  },
  {
   "cell_type": "code",
   "execution_count": null,
   "metadata": {},
   "outputs": [],
   "source": []
  },
  {
   "cell_type": "code",
   "execution_count": 44,
   "metadata": {
    "scrolled": true
   },
   "outputs": [],
   "source": [
    "data_file = open(r\"/home/tomi/data/howToMakeANN/mnist_train_100.csv\",'r')\n",
    "mnist_train_100 = data_file.readlines()\n",
    "data_file.close()"
   ]
  },
  {
   "cell_type": "code",
   "execution_count": 45,
   "metadata": {},
   "outputs": [
    {
     "data": {
      "text/plain": [
       "100"
      ]
     },
     "execution_count": 45,
     "metadata": {},
     "output_type": "execute_result"
    }
   ],
   "source": [
    "len(mnist_train_100)"
   ]
  },
  {
   "cell_type": "code",
   "execution_count": 46,
   "metadata": {},
   "outputs": [],
   "source": [
    "#Create the graph of the index from the dataset to visualize data\n",
    "def createGraph(index,image_array):\n",
    "    all_nums = list()\n",
    "    all_labels = list()\n",
    "    all_labels = image_array[index][0]\n",
    "    image_array = image_array[index].split(',')\n",
    "    for i in image_array:\n",
    "        all_nums.append(i)\n",
    "    #print('label: {}'.format(all_labels[index]))\n",
    "    #print('all_nums[{}] : {}'.format(index,all_nums[index]))\n",
    "    #debugprint('type of all_nums[{}] : \\n {}'.format(index,type(all_nums[index]))) #debug\n",
    "    image_array = np.asfarray(all_nums[1:]).reshape((28,28))\n",
    "    print(\"label: {}\".format(all_labels[0]))\n",
    "    #print(image_array) #debug\n",
    "    plt.imshow(image_array,cmap='Greys',interpolation='None')\n",
    "    \n",
    "#Create the graph of the index from the dataset to visualize data\n",
    "def createGraphNomalized(index,image_array, normalized_labels):\n",
    "    showarray = image_array[index].reshape((28,28))\n",
    "    print(\"label: {}\".format(normalized_labels[index]))\n",
    "    plt.imshow(showarray,cmap='Greys',interpolation='None')    \n",
    "\n",
    "#Normalization is to map input ranges to ranges of activation function of nodes.\n",
    "def normalizeData(data_list):\n",
    "    scaled_input = [None] * len(data_list)\n",
    "    scaled_input_labels = [None] * len(data_list)\n",
    "    for x in range(len(data_list)):\n",
    "        scaled_input[x] = list()\n",
    "        for y in data_list[x]:\n",
    "            #print(\"Data_list[{}] /n {}\".format(x,data_list[x])) #debug\n",
    "            all_values = data_list[x].split(',')\n",
    "            scaled_input_labels[x] = all_values[0]\n",
    "            scaled_input[x] = (np.asfarray(all_values[1:]) / 255 * 0.99 ) +0.01 \n",
    "            #print(\"scaled_input[{}] /n {}\".format(x,scaled_input[x])) #debug\n",
    "    return scaled_input, scaled_input_labels\n",
    "\n",
    "def normalizeData2(data_list):\n",
    "    scaled_input = [None] * len(data_list)\n",
    "    scaled_input_labels = [None] * len(data_list)\n",
    "    for x in range(len(data_list)):\n",
    "        scaled_input[x] = list()\n",
    "        #print(\"scaled_input: {}\".format(data_list[x]))\n",
    "        all_values = data_list[x].split(',')\n",
    "        scaled_input_labels[x] = all_values[0]\n",
    "        scaled_input[x] = (np.asfarray(all_values[1:]) / 255 * 0.99 ) +0.01 \n",
    "        #print(\"scaled_input[{}] /n {}\".format(x,scaled_input[x])) #debug\n",
    "    return scaled_input, scaled_input_labels"
   ]
  },
  {
   "cell_type": "code",
   "execution_count": null,
   "metadata": {},
   "outputs": [],
   "source": []
  },
  {
   "cell_type": "code",
   "execution_count": 47,
   "metadata": {},
   "outputs": [
    {
     "name": "stdout",
     "output_type": "stream",
     "text": [
      "label: 4\n"
     ]
    },
    {
     "data": {
      "image/png": "[encoded data removed]",
      "text/plain": [
       "<Figure size 432x288 with 1 Axes>"
      ]
     },
     "metadata": {},
     "output_type": "display_data"
    }
   ],
   "source": [
    "createGraph(2,mnist_train_100) #image with raw values matrix of 28x28 range of 0 - 255 to rep darkness of each pixel "
   ]
  },
  {
   "cell_type": "markdown",
   "metadata": {},
   "source": [
    "<h1><center>Image matrix</center></h1>\n",
    "\n",
    "\n",
    "\\begin{equation*}\n",
    "\\mathbf{imageMatrix}=\n",
    "\\begin{bmatrix}\n",
    "{Weight_{1-1}}  & \\cdots & {Weight_{1-{28}}}\n",
    "\\\\ \\vdots & \\ddots & \\vdots \\\\\n",
    "{Weight_{28-1}} & \\cdots & {Weight_{28-28}}\n",
    "\\end{bmatrix}\n",
    "\\end{equation*}"
   ]
  },
  {
   "cell_type": "code",
   "execution_count": 48,
   "metadata": {
    "scrolled": false
   },
   "outputs": [],
   "source": [
    "normalized,normalized_labels = normalizeData2(mnist_train_100)"
   ]
  },
  {
   "cell_type": "code",
   "execution_count": 49,
   "metadata": {},
   "outputs": [
    {
     "name": "stdout",
     "output_type": "stream",
     "text": [
      "label: 5\n"
     ]
    },
    {
     "data": {
      "image/png": "[encoded data removed]",
      "text/plain": [
       "<Figure size 432x288 with 1 Axes>"
      ]
     },
     "metadata": {},
     "output_type": "display_data"
    }
   ],
   "source": [
    "createGraphNomalized(0,normalized,normalized_labels) #visualising the number and its label"
   ]
  },
  {
   "cell_type": "code",
   "execution_count": 50,
   "metadata": {},
   "outputs": [],
   "source": [
    "inputNodes = 784 #each pixel will be used as an input the image is 28*28=784 pixels\n",
    "hiddenNodes = 100 #value much more aribrary and I will try experimenting with it\n",
    "outputNodes = 10 #can label a number from 0-9 hence 10 output nodes\n",
    "\n",
    "learningRate = 0.3\n",
    "\n",
    "MNISTNN = NerualNetwork(inputNodes,hiddenNodes,outputNodes,learningRate)"
   ]
  },
  {
   "cell_type": "code",
   "execution_count": 51,
   "metadata": {},
   "outputs": [],
   "source": [
    "for x in range(len(normalized)): #tranining the network on the normalized data with loop\n",
    "    targets = np.zeros(outputNodes) + 0.01 #creating output array for number 0-9\n",
    "    inputs = normalized[x] #selecting array of 784 pixels for input\n",
    "    targets[int(normalized_labels[x])] = 0.99 #setting correct output array configuration \n",
    "    MNISTNN.train(inputs,targets) #training on 1 entry "
   ]
  },
  {
   "cell_type": "code",
   "execution_count": 52,
   "metadata": {},
   "outputs": [],
   "source": [
    "#testing data\n",
    "data_file = open(r\"/home/tomi/data/howToMakeANN/mnist_test_10.csv\",'r')\n",
    "mnist_test_10 = data_file.readlines()\n",
    "data_file.close()"
   ]
  },
  {
   "cell_type": "code",
   "execution_count": 53,
   "metadata": {},
   "outputs": [],
   "source": [
    "normalized_test,normalized_labels_test = normalizeData2(mnist_test_10)"
   ]
  },
  {
   "cell_type": "code",
   "execution_count": 54,
   "metadata": {},
   "outputs": [
    {
     "name": "stdout",
     "output_type": "stream",
     "text": [
      "label: 1\n"
     ]
    },
    {
     "data": {
      "image/png": "[encoded data removed]",
      "text/plain": [
       "<Figure size 432x288 with 1 Axes>"
      ]
     },
     "metadata": {},
     "output_type": "display_data"
    }
   ],
   "source": [
    "createGraphNomalized(2,normalized_test,normalized_labels_test)"
   ]
  },
  {
   "cell_type": "code",
   "execution_count": 55,
   "metadata": {},
   "outputs": [],
   "source": [
    "def printQuery(result_array):\n",
    "    best_answer = 0\n",
    "    for i in range(len(result_array)):\n",
    "        print(\"{} : {} %\".format(i,result_array[i][0] * 100))\n",
    "    print(\"Best Guess: {}\".format(np.argmax(result_array)))"
   ]
  },
  {
   "cell_type": "code",
   "execution_count": 56,
   "metadata": {},
   "outputs": [
    {
     "name": "stdout",
     "output_type": "stream",
     "text": [
      "0 : 2.7583190842944383 %\n",
      "1 : 92.18140996816511 %\n",
      "2 : 2.4373024383345947 %\n",
      "3 : 6.950911052531433 %\n",
      "4 : 0.8370945024435367 %\n",
      "5 : 5.4078397632264315 %\n",
      "6 : 3.42200966015103 %\n",
      "7 : 4.820383892277145 %\n",
      "8 : 6.7440101702845885 %\n",
      "9 : 0.4819837886753937 %\n",
      "Best Guess: 1\n"
     ]
    }
   ],
   "source": [
    "printQuery(MNISTNN.query(normalized_test[2]))"
   ]
  },
  {
   "cell_type": "code",
   "execution_count": 57,
   "metadata": {},
   "outputs": [],
   "source": [
    "def trackResults(epochs, test_array, label_array,NN):\n",
    "    scorecard = []\n",
    "    print(\"No of examples: {}\".format(len(test_array)))\n",
    "    for e in range(epochs):\n",
    "        for i in range(len(test_array)):\n",
    "            correct_label = int(label_array[i])\n",
    "            #print(\"loop: {}\".format(i))\n",
    "            #print(\"correct label: {}\".format(correct_label))\n",
    "            outputs = NN.query(test_array[i])\n",
    "            label = np.argmax(outputs)\n",
    "            #print(\"Network answer: {} \\n\".format(label))\n",
    "            if(label == correct_label):\n",
    "                scorecard.append(1)\n",
    "            else:\n",
    "                scorecard.append(0)\n",
    "    scorecard_array = np.asarray(scorecard)\n",
    "    print(\"performance = {} % over {} epochs\".format(scorecard_array.sum() / scorecard_array.size * 100,epochs))"
   ]
  },
  {
   "cell_type": "code",
   "execution_count": 58,
   "metadata": {},
   "outputs": [
    {
     "name": "stdout",
     "output_type": "stream",
     "text": [
      "No of examples: 10\n",
      "performance = 60.0 % over 2 epochs\n"
     ]
    }
   ],
   "source": [
    "trackResults(2, normalized_test,normalized_labels_test,MNISTNN)"
   ]
  },
  {
   "cell_type": "code",
   "execution_count": 59,
   "metadata": {},
   "outputs": [],
   "source": [
    "data_file = open(r\"/home/tomi/data/howToMakeANN/mnist_train.csv\",'r')\n",
    "mnist_train_full = data_file.readlines()\n",
    "data_file.close()"
   ]
  },
  {
   "cell_type": "code",
   "execution_count": 60,
   "metadata": {},
   "outputs": [],
   "source": [
    "data_file = open(r\"/home/tomi/data/howToMakeANN/mnist_test.csv\",'r')\n",
    "mnist_test_full = data_file.readlines()\n",
    "data_file.close()"
   ]
  },
  {
   "cell_type": "code",
   "execution_count": 61,
   "metadata": {},
   "outputs": [
    {
     "name": "stdout",
     "output_type": "stream",
     "text": [
      "label: 5\n"
     ]
    },
    {
     "data": {
      "image/png": "[encoded data removed]",
      "text/plain": [
       "<Figure size 432x288 with 1 Axes>"
      ]
     },
     "metadata": {},
     "output_type": "display_data"
    }
   ],
   "source": [
    "createGraph(0,mnist_train_full)"
   ]
  },
  {
   "cell_type": "code",
   "execution_count": 62,
   "metadata": {},
   "outputs": [],
   "source": [
    "normalized_full_train,normalized_full_train_labels = normalizeData2(mnist_train_full)"
   ]
  },
  {
   "cell_type": "code",
   "execution_count": 63,
   "metadata": {},
   "outputs": [
    {
     "name": "stdout",
     "output_type": "stream",
     "text": [
      "label: 5\n"
     ]
    },
    {
     "data": {
      "image/png": "[encoded data removed]",
      "text/plain": [
       "<Figure size 432x288 with 1 Axes>"
      ]
     },
     "metadata": {},
     "output_type": "display_data"
    }
   ],
   "source": [
    "createGraphNomalized(0,normalized_full_train,normalized_full_train_labels)"
   ]
  },
  {
   "cell_type": "code",
   "execution_count": 64,
   "metadata": {},
   "outputs": [],
   "source": [
    "for x in range(len(normalized_full_train)): #tranining the network on the normalized data with loop\n",
    "    targets = np.zeros(outputNodes) + 0.01 #creating output array for number 0-9\n",
    "    inputs = normalized_full_train[x] #selecting array of 784 pixels for input\n",
    "    targets[int(normalized_full_train_labels[x])] = 0.99 #setting correct output array configuration \n",
    "    MNISTNN.train(inputs,targets) #training on 1 entry "
   ]
  },
  {
   "cell_type": "code",
   "execution_count": 65,
   "metadata": {},
   "outputs": [
    {
     "name": "stdout",
     "output_type": "stream",
     "text": [
      "No of examples: 10\n",
      "performance = 100.0 % over 2 epochs\n"
     ]
    }
   ],
   "source": [
    "trackResults(2, normalized_test,normalized_labels_test,MNISTNN)"
   ]
  },
  {
   "cell_type": "code",
   "execution_count": 66,
   "metadata": {},
   "outputs": [
    {
     "data": {
      "text/plain": [
       "<function TextIOWrapper.close()>"
      ]
     },
     "execution_count": 66,
     "metadata": {},
     "output_type": "execute_result"
    }
   ],
   "source": [
    "data_file = open(\"/home/tomi/data/howToMakeANN/mnist_train.csv\", 'r')\n",
    "data_train_full = data_file.readlines()\n",
    "data_file.close"
   ]
  },
  {
   "cell_type": "code",
   "execution_count": 67,
   "metadata": {},
   "outputs": [],
   "source": [
    "normalized_full_test, normalized_full_test_labels = normalizeData2(mnist_test_full)"
   ]
  },
  {
   "cell_type": "code",
   "execution_count": 68,
   "metadata": {},
   "outputs": [
    {
     "name": "stdout",
     "output_type": "stream",
     "text": [
      "label: 1\n"
     ]
    },
    {
     "data": {
      "image/png": "[encoded data removed]",
      "text/plain": [
       "<Figure size 432x288 with 1 Axes>"
      ]
     },
     "metadata": {},
     "output_type": "display_data"
    }
   ],
   "source": [
    "createGraphNomalized(5, normalized_full_test,normalized_full_test_labels)"
   ]
  },
  {
   "cell_type": "code",
   "execution_count": 69,
   "metadata": {},
   "outputs": [
    {
     "name": "stdout",
     "output_type": "stream",
     "text": [
      "No of examples: 10000\n",
      "performance = 94.55 % over 2 epochs\n"
     ]
    }
   ],
   "source": [
    "trackResults(2, normalized_full_test,normalized_full_test_labels,MNISTNN)"
   ]
  },
  {
   "cell_type": "code",
   "execution_count": 70,
   "metadata": {},
   "outputs": [],
   "source": [
    "def trainNetwork(NNet, epochs, training_data_set, tranining_data_set):# train the neural network\n",
    "    training_data_set_len = len(training_data_set)\n",
    "    for e in range(epochs):\n",
    "        print(\"Epoch: {}\".format(e))\n",
    "        for x in range(training_data_set_len): #tranining the network on the normalized data with loop\n",
    "            targets = np.zeros(outputNodes) + 0.01 #creating output array for number 0-9\n",
    "            inputs = training_data_set[x] #selecting array of 784 pixels for input\n",
    "            targets[int(tranining_data_set[x])] = 0.99 #setting correct output array configuration \n",
    "            NNet.train(inputs,targets) #training on 1 entry \n",
    "            #print(\"{}/{} {:10.2f} %\".format(x,training_data_set_len,x/training_data_set_len * 100))"
   ]
  },
  {
   "cell_type": "code",
   "execution_count": 71,
   "metadata": {},
   "outputs": [
    {
     "name": "stdout",
     "output_type": "stream",
     "text": [
      "Epoch: 0\n"
     ]
    }
   ],
   "source": [
    "trainNetwork(MNISTNN,1,normalized_full_train,normalized_full_train_labels)"
   ]
  },
  {
   "cell_type": "raw",
   "metadata": {},
   "source": [
    "scipy.special.logit()"
   ]
  },
  {
   "cell_type": "code",
   "execution_count": 72,
   "metadata": {},
   "outputs": [
    {
     "name": "stdout",
     "output_type": "stream",
     "text": [
      "[0.01 0.01 0.01 0.01 0.01 0.01 0.01 0.01 0.01 0.99]\n"
     ]
    },
    {
     "data": {
      "text/plain": [
       "<matplotlib.image.AxesImage at 0x7efefa1e8f60>"
      ]
     },
     "execution_count": 72,
     "metadata": {},
     "output_type": "execute_result"
    },
    {
     "data": {
      "image/png": "[encoded data removed]",
      "text/plain": [
       "<Figure size 432x288 with 1 Axes>"
      ]
     },
     "metadata": {},
     "output_type": "display_data"
    }
   ],
   "source": [
    "# run the network backwards, given a label, see what image it produces\n",
    "\n",
    "# label to test\n",
    "label = 9\n",
    "# create the output signals for this label\n",
    "targets = np.zeros(outputNodes) + 0.01\n",
    "# all_values[0] is the target label for this record\n",
    "targets[label] = 0.99\n",
    "print(targets)\n",
    "\n",
    "# get image data\n",
    "image_data = MNISTNN.backquery(targets)\n",
    "\n",
    "# plot image data\n",
    "plt.imshow(image_data.reshape(28,28), cmap='Greys', interpolation='None')"
   ]
  },
  {
   "cell_type": "code",
   "execution_count": 73,
   "metadata": {},
   "outputs": [],
   "source": [
    "#mutiple test changing hiddenNodes\n",
    "MNIST_30_hidden = NerualNetwork(hiddenNodes=30,inputNodes=784,outputNodes=10,learningRate=0.3)\n",
    "MNIST_50_hidden = NerualNetwork(hiddenNodes=50,inputNodes=784,outputNodes=10,learningRate=0.3)\n",
    "MNIST_80_hidden = NerualNetwork(hiddenNodes=80,inputNodes=784,outputNodes=10,learningRate=0.3)\n",
    "MNIST_150_hidden = NerualNetwork(hiddenNodes=150,inputNodes=784,outputNodes=10,learningRate=0.3)\n",
    "MNIST_250_hidden = NerualNetwork(hiddenNodes=250,inputNodes=784,outputNodes=10,learningRate=0.3)\n",
    "MNIST_500_hidden = NerualNetwork(hiddenNodes=500,inputNodes=784,outputNodes=10,learningRate=0.3)\n",
    "MNIST_1000_hidden = NerualNetwork(hiddenNodes=1000,inputNodes=784,outputNodes=10,learningRate=0.3)\n",
    "\n",
    "#mutiple test changing learningrate using 100 nodes with known 95% test rate trained @2 epcohes\n",
    "MNIST_1_learning = NerualNetwork(hiddenNodes=100,inputNodes=784,outputNodes=10,learningRate=0.1)\n",
    "MNIST_2_learning = NerualNetwork(hiddenNodes=100,inputNodes=784,outputNodes=10,learningRate=0.2)\n",
    "MNIST_3_learning = NerualNetwork(hiddenNodes=100,inputNodes=784,outputNodes=10,learningRate=0.3)\n",
    "MNIST_4_learning = NerualNetwork(hiddenNodes=100,inputNodes=784,outputNodes=10,learningRate=0.4)\n",
    "MNIST_5_learning = NerualNetwork(hiddenNodes=100,inputNodes=784,outputNodes=10,learningRate=0.5)\n",
    "MNIST_6_learning = NerualNetwork(hiddenNodes=100,inputNodes=784,outputNodes=10,learningRate=0.6)\n",
    "MNIST_7_learning = NerualNetwork(hiddenNodes=100,inputNodes=784,outputNodes=10,learningRate=0.7)\n",
    "MNIST_8_learning = NerualNetwork(hiddenNodes=100,inputNodes=784,outputNodes=10,learningRate=0.8)\n",
    "MNIST_9_learning = NerualNetwork(hiddenNodes=100,inputNodes=784,outputNodes=10,learningRate=0.9)"
   ]
  },
  {
   "cell_type": "code",
   "execution_count": 74,
   "metadata": {},
   "outputs": [
    {
     "name": "stdout",
     "output_type": "stream",
     "text": [
      "Epoch: 0\n",
      "Epoch: 0\n",
      "Epoch: 0\n",
      "Epoch: 0\n",
      "Epoch: 0\n",
      "Epoch: 0\n",
      "Epoch: 0\n",
      "Epoch: 0\n",
      "Epoch: 0\n",
      "Epoch: 0\n",
      "Epoch: 0\n",
      "Epoch: 0\n",
      "Epoch: 0\n",
      "Epoch: 0\n",
      "Epoch: 0\n",
      "Epoch: 0\n"
     ]
    }
   ],
   "source": [
    "#training all networks with full 60,000 traning data at 2 epcohes\n",
    "trainNetwork(MNIST_30_hidden,1,normalized_full_train,normalized_full_train_labels)\n",
    "trainNetwork(MNIST_50_hidden,1,normalized_full_train,normalized_full_train_labels)\n",
    "trainNetwork(MNIST_80_hidden,1,normalized_full_train,normalized_full_train_labels)\n",
    "trainNetwork(MNIST_150_hidden,1,normalized_full_train,normalized_full_train_labels)\n",
    "trainNetwork(MNIST_250_hidden,1,normalized_full_train,normalized_full_train_labels)\n",
    "trainNetwork(MNIST_500_hidden,1,normalized_full_train,normalized_full_train_labels)\n",
    "trainNetwork(MNIST_1000_hidden,1,normalized_full_train,normalized_full_train_labels)\n",
    "trainNetwork(MNIST_1_learning,1,normalized_full_train,normalized_full_train_labels)\n",
    "trainNetwork(MNIST_2_learning,1,normalized_full_train,normalized_full_train_labels)\n",
    "trainNetwork(MNIST_3_learning,1,normalized_full_train,normalized_full_train_labels)\n",
    "trainNetwork(MNIST_4_learning,1,normalized_full_train,normalized_full_train_labels)\n",
    "trainNetwork(MNIST_5_learning,1,normalized_full_train,normalized_full_train_labels)\n",
    "trainNetwork(MNIST_6_learning,1,normalized_full_train,normalized_full_train_labels)\n",
    "trainNetwork(MNIST_7_learning,1,normalized_full_train,normalized_full_train_labels)\n",
    "trainNetwork(MNIST_8_learning,1,normalized_full_train,normalized_full_train_labels)\n",
    "trainNetwork(MNIST_9_learning,1,normalized_full_train,normalized_full_train_labels)"
   ]
  },
  {
   "cell_type": "code",
   "execution_count": 75,
   "metadata": {},
   "outputs": [
    {
     "name": "stdout",
     "output_type": "stream",
     "text": [
      "No of examples: 10\n",
      "performance = 90.0 % over 2 epochs\n"
     ]
    }
   ],
   "source": [
    "trackResults(2, normalized_test,normalized_labels_test,MNIST_30_hidden)"
   ]
  },
  {
   "cell_type": "code",
   "execution_count": 76,
   "metadata": {},
   "outputs": [
    {
     "name": "stdout",
     "output_type": "stream",
     "text": [
      "No of examples: 10\n",
      "performance = 100.0 % over 2 epochs\n"
     ]
    }
   ],
   "source": [
    "trackResults(2,normalized_test,normalized_labels_test,MNIST_50_hidden)"
   ]
  },
  {
   "cell_type": "code",
   "execution_count": 77,
   "metadata": {},
   "outputs": [
    {
     "name": "stdout",
     "output_type": "stream",
     "text": [
      "No of examples: 10\n",
      "performance = 100.0 % over 2 epochs\n"
     ]
    }
   ],
   "source": [
    "trackResults(2,normalized_test,normalized_labels_test,MNIST_80_hidden)"
   ]
  },
  {
   "cell_type": "code",
   "execution_count": 78,
   "metadata": {},
   "outputs": [
    {
     "name": "stdout",
     "output_type": "stream",
     "text": [
      "No of examples: 10\n",
      "performance = 100.0 % over 2 epochs\n"
     ]
    }
   ],
   "source": [
    "trackResults(2,normalized_test,normalized_labels_test,MNIST_150_hidden)"
   ]
  },
  {
   "cell_type": "code",
   "execution_count": 79,
   "metadata": {},
   "outputs": [
    {
     "name": "stdout",
     "output_type": "stream",
     "text": [
      "No of examples: 10\n",
      "performance = 100.0 % over 2 epochs\n"
     ]
    }
   ],
   "source": [
    "trackResults(2,normalized_test,normalized_labels_test,MNIST_250_hidden)"
   ]
  },
  {
   "cell_type": "code",
   "execution_count": 80,
   "metadata": {},
   "outputs": [
    {
     "name": "stdout",
     "output_type": "stream",
     "text": [
      "No of examples: 10\n",
      "performance = 100.0 % over 2 epochs\n"
     ]
    }
   ],
   "source": [
    "trackResults(2,normalized_test,normalized_labels_test,MNIST_500_hidden)"
   ]
  },
  {
   "cell_type": "code",
   "execution_count": 81,
   "metadata": {},
   "outputs": [
    {
     "name": "stdout",
     "output_type": "stream",
     "text": [
      "No of examples: 10\n",
      "performance = 100.0 % over 2 epochs\n"
     ]
    }
   ],
   "source": [
    "trackResults(2,normalized_test,normalized_labels_test,MNIST_1000_hidden)"
   ]
  },
  {
   "cell_type": "code",
   "execution_count": 82,
   "metadata": {},
   "outputs": [
    {
     "name": "stdout",
     "output_type": "stream",
     "text": [
      "No of examples: 10\n",
      "performance = 100.0 % over 2 epochs\n"
     ]
    }
   ],
   "source": [
    "trackResults(2,normalized_test,normalized_labels_test,MNIST_1_learning)"
   ]
  },
  {
   "cell_type": "code",
   "execution_count": 83,
   "metadata": {},
   "outputs": [
    {
     "name": "stdout",
     "output_type": "stream",
     "text": [
      "No of examples: 10\n",
      "performance = 100.0 % over 2 epochs\n"
     ]
    }
   ],
   "source": [
    "trackResults(2,normalized_test,normalized_labels_test,MNIST_2_learning)"
   ]
  },
  {
   "cell_type": "code",
   "execution_count": 84,
   "metadata": {},
   "outputs": [
    {
     "name": "stdout",
     "output_type": "stream",
     "text": [
      "No of examples: 10\n",
      "performance = 90.0 % over 2 epochs\n"
     ]
    }
   ],
   "source": [
    "trackResults(2,normalized_test,normalized_labels_test,MNIST_3_learning)"
   ]
  },
  {
   "cell_type": "code",
   "execution_count": 85,
   "metadata": {},
   "outputs": [
    {
     "name": "stdout",
     "output_type": "stream",
     "text": [
      "No of examples: 10\n",
      "performance = 90.0 % over 2 epochs\n"
     ]
    }
   ],
   "source": [
    "trackResults(2,normalized_test,normalized_labels_test,MNIST_4_learning)"
   ]
  },
  {
   "cell_type": "code",
   "execution_count": 86,
   "metadata": {},
   "outputs": [
    {
     "name": "stdout",
     "output_type": "stream",
     "text": [
      "No of examples: 10\n",
      "performance = 100.0 % over 2 epochs\n"
     ]
    }
   ],
   "source": [
    "trackResults(2,normalized_test,normalized_labels_test,MNIST_5_learning)"
   ]
  },
  {
   "cell_type": "code",
   "execution_count": 87,
   "metadata": {},
   "outputs": [
    {
     "name": "stdout",
     "output_type": "stream",
     "text": [
      "No of examples: 10\n",
      "performance = 90.0 % over 2 epochs\n"
     ]
    }
   ],
   "source": [
    "trackResults(2,normalized_test,normalized_labels_test,MNIST_6_learning)"
   ]
  },
  {
   "cell_type": "code",
   "execution_count": 88,
   "metadata": {},
   "outputs": [
    {
     "name": "stdout",
     "output_type": "stream",
     "text": [
      "No of examples: 10\n",
      "performance = 90.0 % over 2 epochs\n"
     ]
    }
   ],
   "source": [
    "trackResults(2,normalized_test,normalized_labels_test,MNIST_7_learning)"
   ]
  },
  {
   "cell_type": "code",
   "execution_count": 89,
   "metadata": {},
   "outputs": [
    {
     "name": "stdout",
     "output_type": "stream",
     "text": [
      "No of examples: 10\n",
      "performance = 90.0 % over 2 epochs\n"
     ]
    }
   ],
   "source": [
    "trackResults(2,normalized_test,normalized_labels_test,MNIST_8_learning)"
   ]
  },
  {
   "cell_type": "code",
   "execution_count": 90,
   "metadata": {},
   "outputs": [
    {
     "name": "stdout",
     "output_type": "stream",
     "text": [
      "No of examples: 10\n",
      "performance = 90.0 % over 2 epochs\n"
     ]
    }
   ],
   "source": [
    "trackResults(2,normalized_test,normalized_labels_test,MNIST_9_learning)"
   ]
  },
  {
   "cell_type": "code",
   "execution_count": 91,
   "metadata": {},
   "outputs": [
    {
     "name": "stdout",
     "output_type": "stream",
     "text": [
      "No of examples: 10000\n",
      "performance = 90.57 % over 2 epochs\n"
     ]
    }
   ],
   "source": [
    "trackResults(2,normalized_full_test,normalized_full_test_labels,MNIST_30_hidden)"
   ]
  },
  {
   "cell_type": "code",
   "execution_count": 92,
   "metadata": {},
   "outputs": [
    {
     "name": "stdout",
     "output_type": "stream",
     "text": [
      "No of examples: 10000\n",
      "performance = 93.26 % over 2 epochs\n"
     ]
    }
   ],
   "source": [
    "trackResults(2,normalized_full_test,normalized_full_test_labels,MNIST_50_hidden)"
   ]
  },
  {
   "cell_type": "code",
   "execution_count": 93,
   "metadata": {},
   "outputs": [
    {
     "name": "stdout",
     "output_type": "stream",
     "text": [
      "No of examples: 10000\n",
      "performance = 93.93 % over 2 epochs\n"
     ]
    }
   ],
   "source": [
    "trackResults(2,normalized_full_test,normalized_full_test_labels,MNIST_80_hidden)"
   ]
  },
  {
   "cell_type": "code",
   "execution_count": 94,
   "metadata": {},
   "outputs": [
    {
     "name": "stdout",
     "output_type": "stream",
     "text": [
      "No of examples: 10000\n",
      "performance = 95.35 % over 2 epochs\n"
     ]
    }
   ],
   "source": [
    "trackResults(2,normalized_full_test,normalized_full_test_labels,MNIST_150_hidden)"
   ]
  },
  {
   "cell_type": "code",
   "execution_count": 95,
   "metadata": {},
   "outputs": [
    {
     "name": "stdout",
     "output_type": "stream",
     "text": [
      "No of examples: 10000\n",
      "performance = 95.53 % over 2 epochs\n"
     ]
    }
   ],
   "source": [
    "trackResults(2,normalized_full_test,normalized_full_test_labels,MNIST_250_hidden)"
   ]
  },
  {
   "cell_type": "code",
   "execution_count": 97,
   "metadata": {},
   "outputs": [
    {
     "name": "stdout",
     "output_type": "stream",
     "text": [
      "No of examples: 10000\n",
      "performance = 95.30999999999999 % over 2 epochs\n"
     ]
    }
   ],
   "source": [
    "trackResults(2,normalized_full_test,normalized_full_test_labels,MNIST_500_hidden)"
   ]
  },
  {
   "cell_type": "code",
   "execution_count": 98,
   "metadata": {},
   "outputs": [
    {
     "name": "stdout",
     "output_type": "stream",
     "text": [
      "No of examples: 10000\n",
      "performance = 94.69 % over 2 epochs\n"
     ]
    }
   ],
   "source": [
    "trackResults(2,normalized_full_test,normalized_full_test_labels,MNIST_1000_hidden)"
   ]
  },
  {
   "cell_type": "code",
   "execution_count": 99,
   "metadata": {},
   "outputs": [
    {
     "name": "stdout",
     "output_type": "stream",
     "text": [
      "No of examples: 10000\n",
      "performance = 95.15 % over 2 epochs\n"
     ]
    }
   ],
   "source": [
    "trackResults(2, normalized_full_test,normalized_full_test_labels,MNIST_1_learning)"
   ]
  },
  {
   "cell_type": "code",
   "execution_count": 100,
   "metadata": {},
   "outputs": [
    {
     "name": "stdout",
     "output_type": "stream",
     "text": [
      "No of examples: 10000\n",
      "performance = 95.39 % over 2 epochs\n"
     ]
    }
   ],
   "source": [
    "trackResults(2, normalized_full_test,normalized_full_test_labels,MNIST_2_learning)"
   ]
  },
  {
   "cell_type": "code",
   "execution_count": 101,
   "metadata": {},
   "outputs": [
    {
     "name": "stdout",
     "output_type": "stream",
     "text": [
      "No of examples: 10000\n",
      "performance = 94.17 % over 2 epochs\n"
     ]
    }
   ],
   "source": [
    "trackResults(2, normalized_full_test,normalized_full_test_labels,MNIST_3_learning)"
   ]
  },
  {
   "cell_type": "code",
   "execution_count": 102,
   "metadata": {},
   "outputs": [
    {
     "name": "stdout",
     "output_type": "stream",
     "text": [
      "No of examples: 10000\n",
      "performance = 93.06 % over 2 epochs\n"
     ]
    }
   ],
   "source": [
    "trackResults(2, normalized_full_test,normalized_full_test_labels,MNIST_4_learning)"
   ]
  },
  {
   "cell_type": "code",
   "execution_count": 103,
   "metadata": {},
   "outputs": [
    {
     "name": "stdout",
     "output_type": "stream",
     "text": [
      "No of examples: 10000\n",
      "performance = 91.17 % over 2 epochs\n"
     ]
    }
   ],
   "source": [
    "trackResults(2, normalized_full_test,normalized_full_test_labels,MNIST_5_learning)"
   ]
  },
  {
   "cell_type": "code",
   "execution_count": 104,
   "metadata": {},
   "outputs": [
    {
     "name": "stdout",
     "output_type": "stream",
     "text": [
      "No of examples: 10000\n",
      "performance = 90.39 % over 2 epochs\n"
     ]
    }
   ],
   "source": [
    "trackResults(2, normalized_full_test,normalized_full_test_labels,MNIST_6_learning)"
   ]
  },
  {
   "cell_type": "code",
   "execution_count": 105,
   "metadata": {},
   "outputs": [
    {
     "name": "stdout",
     "output_type": "stream",
     "text": [
      "No of examples: 10000\n",
      "performance = 89.7 % over 2 epochs\n"
     ]
    }
   ],
   "source": [
    "trackResults(2, normalized_full_test,normalized_full_test_labels,MNIST_7_learning)"
   ]
  },
  {
   "cell_type": "code",
   "execution_count": 106,
   "metadata": {},
   "outputs": [
    {
     "name": "stdout",
     "output_type": "stream",
     "text": [
      "No of examples: 10000\n",
      "performance = 87.42 % over 2 epochs\n"
     ]
    }
   ],
   "source": [
    "trackResults(2, normalized_full_test,normalized_full_test_labels,MNIST_8_learning)"
   ]
  },
  {
   "cell_type": "code",
   "execution_count": 107,
   "metadata": {},
   "outputs": [
    {
     "name": "stdout",
     "output_type": "stream",
     "text": [
      "No of examples: 10000\n",
      "performance = 87.68 % over 2 epochs\n"
     ]
    }
   ],
   "source": [
    "trackResults(2, normalized_full_test,normalized_full_test_labels,MNIST_9_learning)"
   ]
  },
  {
   "cell_type": "markdown",
   "metadata": {},
   "source": [
    "Thoughts on results:\n",
    "\n",
    "For the hidden node tests it seems that from the benchmark of 100 hidden nodes @ 95.49 % using less nodes then 100 redcdes acceuracy and "
   ]
  },
  {
   "cell_type": "markdown",
   "metadata": {},
   "source": [
    "Next Steps:\n",
    "Mutiple training stratoges (more data, vary learning rate and epochs)\n",
    "Mutiple hidden layers,\n",
    "Different connection types (i.e self loops),\n",
    "Different type of data,\n",
    "Different type of learning Unsupervised or Reinforcement Learning,"
   ]
  },
  {
   "cell_type": "markdown",
   "metadata": {},
   "source": [
    "Notes on workflow:\n",
    "\n",
    "NN object add name to be able to batch together train and track results functions\n",
    "<br>\n",
    "Make train and track results functions take an array of NNs and print results and perameters(Input,Hidden,Outout Nodes)\n",
    "<br>\n",
    "read data in together btach open and close\n",
    "<br>\n",
    "add multiple filePath + \"filename.csv\" to help working across mutiple deivces with same data"
   ]
  },
  {
   "cell_type": "code",
   "execution_count": null,
   "metadata": {},
   "outputs": [],
   "source": []
  }
 ],
 "metadata": {
  "kernelspec": {
   "display_name": "Python 3",
   "language": "python",
   "name": "python3"
  },
  "language_info": {
   "codemirror_mode": {
    "name": "ipython",
    "version": 3
   },
   "file_extension": ".py",
   "mimetype": "text/x-python",
   "name": "python",
   "nbconvert_exporter": "python",
   "pygments_lexer": "ipython3",
   "version": "3.6.6"
  }
 },
 "nbformat": 4,
 "nbformat_minor": 2
}
